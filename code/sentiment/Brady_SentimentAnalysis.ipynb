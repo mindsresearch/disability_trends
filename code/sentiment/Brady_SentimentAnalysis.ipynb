{
  "cells": [
    {
      "cell_type": "code",
      "execution_count": 41,
      "metadata": {
        "id": "fQ_VXKzDXZxW"
      },
      "outputs": [],
      "source": [
        "import pandas as pd\n",
        "import numpy as np\n",
        "import tensorflow as tf\n",
        "import sklearn\n",
        "import os\n",
        "import json\n",
        "import sklearn.preprocessing\n",
        "from sklearn.model_selection import train_test_split"
      ]
    },
    {
      "cell_type": "code",
      "execution_count": 42,
      "metadata": {
        "id": "aN1UaL-CXt8u"
      },
      "outputs": [],
      "source": [
        "import nltk\n",
        "from nltk.sentiment.vader import SentimentIntensityAnalyzer"
      ]
    },
    {
      "cell_type": "code",
      "source": [
        "# References\n",
        "\n",
        "# https://www.tensorflow.org/api_docs/python/tf/keras/Model\n",
        "# https://scikit-learn.org/stable/modules/generated/sklearn.model_selection.train_test_split.html"
      ],
      "metadata": {
        "id": "l_sfscyie35f"
      },
      "execution_count": 43,
      "outputs": []
    },
    {
      "cell_type": "markdown",
      "source": [
        "**by Brady Deyak**\n",
        "\n",
        "**\"Luke, I am your father\" - Darth Vader (fun Star Wars reference)**"
      ],
      "metadata": {
        "id": "MlyjnONOP6-W"
      }
    },
    {
      "cell_type": "code",
      "execution_count": 44,
      "metadata": {
        "colab": {
          "base_uri": "https://localhost:8080/"
        },
        "id": "aAQ47AMhYBo4",
        "outputId": "6f8d011d-990d-4fa8-a7b5-8da4e932e7a1"
      },
      "outputs": [
        {
          "output_type": "stream",
          "name": "stderr",
          "text": [
            "[nltk_data] Downloading package vader_lexicon to /root/nltk_data...\n",
            "[nltk_data]   Package vader_lexicon is already up-to-date!\n"
          ]
        },
        {
          "output_type": "execute_result",
          "data": {
            "text/plain": [
              "True"
            ]
          },
          "metadata": {},
          "execution_count": 44
        }
      ],
      "source": [
        "nltk.download('vader_lexicon')"
      ]
    },
    {
      "cell_type": "code",
      "execution_count": 45,
      "metadata": {
        "id": "seNwnIPzYJjH"
      },
      "outputs": [],
      "source": [
        "analyzer = SentimentIntensityAnalyzer"
      ]
    },
    {
      "cell_type": "markdown",
      "source": [
        "**by Brady Deyak**\n",
        "\n",
        "Due to the nature of the project and the difficulty in getting specific data directories to work with the program, it did not work as well as I had hoped to model the trend in time from the 1980s to the 2000s. Therefore, to show the model and its results, I utilized the 2010s decade as the testing data."
      ],
      "metadata": {
        "id": "HEv4ziqKO0A-"
      }
    },
    {
      "cell_type": "code",
      "execution_count": 46,
      "metadata": {
        "id": "5YPVwrv5ZAM2"
      },
      "outputs": [],
      "source": [
        "drive_path = '/content/drive/MyDrive/data/disab/2010s/json'"
      ]
    },
    {
      "cell_type": "code",
      "execution_count": 47,
      "metadata": {
        "id": "XchEpFOobR1j"
      },
      "outputs": [],
      "source": [
        "data = []"
      ]
    },
    {
      "cell_type": "markdown",
      "source": [
        "**by Brady Deyak**\n",
        "\n",
        "This goes through the directory of the path above and collects the .json files within."
      ],
      "metadata": {
        "id": "FFZ2BdALPiak"
      }
    },
    {
      "cell_type": "code",
      "execution_count": 48,
      "metadata": {
        "colab": {
          "base_uri": "https://localhost:8080/"
        },
        "id": "gidA2wKZ4N9V",
        "outputId": "ce62b9d7-c7ef-4250-d3dd-da2f275d835a"
      },
      "outputs": [
        {
          "output_type": "stream",
          "name": "stdout",
          "text": [
            "Found 5 json files\n"
          ]
        }
      ],
      "source": [
        "from pathlib import Path\n",
        "json_path = Path(drive_path)\n",
        "json_paths = list(json_path.rglob('*.json'))\n",
        "# returns the number of .json files in the given directory\n",
        "print(f'Found {len(json_paths)} json files')"
      ]
    },
    {
      "cell_type": "markdown",
      "source": [
        "**by Brady Deyak**\n",
        "\n",
        "Iterates through the .json files and reads the data within, which in this case is the words from the .rtf files. Afterwards, they are appended to a dataframe holding all of the words used in the decade."
      ],
      "metadata": {
        "id": "W3zw1VrBQh6j"
      }
    },
    {
      "cell_type": "code",
      "execution_count": 49,
      "metadata": {
        "colab": {
          "base_uri": "https://localhost:8080/"
        },
        "id": "q0So2eD84w2q",
        "outputId": "ea657f34-406f-4562-9603-aba8202d5d99"
      },
      "outputs": [
        {
          "output_type": "stream",
          "name": "stdout",
          "text": [
            "Found 499 bodies\n"
          ]
        }
      ],
      "source": [
        "bodies = []\n",
        "for f in json_paths:\n",
        "  # loads and iterates through the data or words in every .json file\n",
        "  data = json.load(f.open())\n",
        "  # once the file has been opened, we iterate through every word and add it to a new DataFrame. Each set of words is added as bodies to represent each document\n",
        "  for d in data:\n",
        "    bodies.append(d['body'])\n",
        "print(f'Found {len(bodies)} bodies')"
      ]
    },
    {
      "cell_type": "markdown",
      "source": [
        "**by Brady Deyak**\n",
        "\n",
        "Each set of words or body represents a document and there are 499 documents that make up the 2010s decade."
      ],
      "metadata": {
        "id": "YOYN4tltQ-RX"
      }
    },
    {
      "cell_type": "code",
      "execution_count": 50,
      "metadata": {
        "colab": {
          "base_uri": "https://localhost:8080/"
        },
        "id": "MZtIAxT0O2zm",
        "outputId": "7fc05028-7ff7-44d3-f4f9-838c8caef332"
      },
      "outputs": [
        {
          "output_type": "execute_result",
          "data": {
            "text/plain": [
              "list"
            ]
          },
          "metadata": {},
          "execution_count": 50
        }
      ],
      "source": [
        "type(bodies)"
      ]
    },
    {
      "cell_type": "markdown",
      "source": [
        "**by Brady Deyak**\n",
        "\n",
        "The VADER model ges through all of the words in each document and calculates the polarity scores or sentiment of each document. I then created a dataframe to store such sentiment scores."
      ],
      "metadata": {
        "id": "-Het3ZsuRUBz"
      }
    },
    {
      "cell_type": "code",
      "execution_count": 51,
      "metadata": {
        "colab": {
          "base_uri": "https://localhost:8080/",
          "height": 424
        },
        "id": "XD4twUcy6Tat",
        "outputId": "29de17ff-fe49-4711-ac7f-dec11dbb4f33"
      },
      "outputs": [
        {
          "output_type": "execute_result",
          "data": {
            "text/plain": [
              "       neg    neu    pos  compound\n",
              "0    0.012  0.903  0.084    0.9645\n",
              "1    0.147  0.768  0.085   -0.9968\n",
              "2    0.028  0.840  0.132    0.9972\n",
              "3    0.021  0.829  0.150    0.9976\n",
              "4    0.000  0.831  0.169    0.9881\n",
              "..     ...    ...    ...       ...\n",
              "494  0.039  0.885  0.076    0.9999\n",
              "495  0.029  0.825  0.146    0.9976\n",
              "496  0.048  0.817  0.135    0.9961\n",
              "497  0.006  0.865  0.130    0.9867\n",
              "498  0.039  0.838  0.123    0.9984\n",
              "\n",
              "[499 rows x 4 columns]"
            ],
            "text/html": [
              "\n",
              "  <div id=\"df-0013cf97-12dd-4501-975c-745351dce92f\" class=\"colab-df-container\">\n",
              "    <div>\n",
              "<style scoped>\n",
              "    .dataframe tbody tr th:only-of-type {\n",
              "        vertical-align: middle;\n",
              "    }\n",
              "\n",
              "    .dataframe tbody tr th {\n",
              "        vertical-align: top;\n",
              "    }\n",
              "\n",
              "    .dataframe thead th {\n",
              "        text-align: right;\n",
              "    }\n",
              "</style>\n",
              "<table border=\"1\" class=\"dataframe\">\n",
              "  <thead>\n",
              "    <tr style=\"text-align: right;\">\n",
              "      <th></th>\n",
              "      <th>neg</th>\n",
              "      <th>neu</th>\n",
              "      <th>pos</th>\n",
              "      <th>compound</th>\n",
              "    </tr>\n",
              "  </thead>\n",
              "  <tbody>\n",
              "    <tr>\n",
              "      <th>0</th>\n",
              "      <td>0.012</td>\n",
              "      <td>0.903</td>\n",
              "      <td>0.084</td>\n",
              "      <td>0.9645</td>\n",
              "    </tr>\n",
              "    <tr>\n",
              "      <th>1</th>\n",
              "      <td>0.147</td>\n",
              "      <td>0.768</td>\n",
              "      <td>0.085</td>\n",
              "      <td>-0.9968</td>\n",
              "    </tr>\n",
              "    <tr>\n",
              "      <th>2</th>\n",
              "      <td>0.028</td>\n",
              "      <td>0.840</td>\n",
              "      <td>0.132</td>\n",
              "      <td>0.9972</td>\n",
              "    </tr>\n",
              "    <tr>\n",
              "      <th>3</th>\n",
              "      <td>0.021</td>\n",
              "      <td>0.829</td>\n",
              "      <td>0.150</td>\n",
              "      <td>0.9976</td>\n",
              "    </tr>\n",
              "    <tr>\n",
              "      <th>4</th>\n",
              "      <td>0.000</td>\n",
              "      <td>0.831</td>\n",
              "      <td>0.169</td>\n",
              "      <td>0.9881</td>\n",
              "    </tr>\n",
              "    <tr>\n",
              "      <th>...</th>\n",
              "      <td>...</td>\n",
              "      <td>...</td>\n",
              "      <td>...</td>\n",
              "      <td>...</td>\n",
              "    </tr>\n",
              "    <tr>\n",
              "      <th>494</th>\n",
              "      <td>0.039</td>\n",
              "      <td>0.885</td>\n",
              "      <td>0.076</td>\n",
              "      <td>0.9999</td>\n",
              "    </tr>\n",
              "    <tr>\n",
              "      <th>495</th>\n",
              "      <td>0.029</td>\n",
              "      <td>0.825</td>\n",
              "      <td>0.146</td>\n",
              "      <td>0.9976</td>\n",
              "    </tr>\n",
              "    <tr>\n",
              "      <th>496</th>\n",
              "      <td>0.048</td>\n",
              "      <td>0.817</td>\n",
              "      <td>0.135</td>\n",
              "      <td>0.9961</td>\n",
              "    </tr>\n",
              "    <tr>\n",
              "      <th>497</th>\n",
              "      <td>0.006</td>\n",
              "      <td>0.865</td>\n",
              "      <td>0.130</td>\n",
              "      <td>0.9867</td>\n",
              "    </tr>\n",
              "    <tr>\n",
              "      <th>498</th>\n",
              "      <td>0.039</td>\n",
              "      <td>0.838</td>\n",
              "      <td>0.123</td>\n",
              "      <td>0.9984</td>\n",
              "    </tr>\n",
              "  </tbody>\n",
              "</table>\n",
              "<p>499 rows × 4 columns</p>\n",
              "</div>\n",
              "    <div class=\"colab-df-buttons\">\n",
              "\n",
              "  <div class=\"colab-df-container\">\n",
              "    <button class=\"colab-df-convert\" onclick=\"convertToInteractive('df-0013cf97-12dd-4501-975c-745351dce92f')\"\n",
              "            title=\"Convert this dataframe to an interactive table.\"\n",
              "            style=\"display:none;\">\n",
              "\n",
              "  <svg xmlns=\"http://www.w3.org/2000/svg\" height=\"24px\" viewBox=\"0 -960 960 960\">\n",
              "    <path d=\"M120-120v-720h720v720H120Zm60-500h600v-160H180v160Zm220 220h160v-160H400v160Zm0 220h160v-160H400v160ZM180-400h160v-160H180v160Zm440 0h160v-160H620v160ZM180-180h160v-160H180v160Zm440 0h160v-160H620v160Z\"/>\n",
              "  </svg>\n",
              "    </button>\n",
              "\n",
              "  <style>\n",
              "    .colab-df-container {\n",
              "      display:flex;\n",
              "      gap: 12px;\n",
              "    }\n",
              "\n",
              "    .colab-df-convert {\n",
              "      background-color: #E8F0FE;\n",
              "      border: none;\n",
              "      border-radius: 50%;\n",
              "      cursor: pointer;\n",
              "      display: none;\n",
              "      fill: #1967D2;\n",
              "      height: 32px;\n",
              "      padding: 0 0 0 0;\n",
              "      width: 32px;\n",
              "    }\n",
              "\n",
              "    .colab-df-convert:hover {\n",
              "      background-color: #E2EBFA;\n",
              "      box-shadow: 0px 1px 2px rgba(60, 64, 67, 0.3), 0px 1px 3px 1px rgba(60, 64, 67, 0.15);\n",
              "      fill: #174EA6;\n",
              "    }\n",
              "\n",
              "    .colab-df-buttons div {\n",
              "      margin-bottom: 4px;\n",
              "    }\n",
              "\n",
              "    [theme=dark] .colab-df-convert {\n",
              "      background-color: #3B4455;\n",
              "      fill: #D2E3FC;\n",
              "    }\n",
              "\n",
              "    [theme=dark] .colab-df-convert:hover {\n",
              "      background-color: #434B5C;\n",
              "      box-shadow: 0px 1px 3px 1px rgba(0, 0, 0, 0.15);\n",
              "      filter: drop-shadow(0px 1px 2px rgba(0, 0, 0, 0.3));\n",
              "      fill: #FFFFFF;\n",
              "    }\n",
              "  </style>\n",
              "\n",
              "    <script>\n",
              "      const buttonEl =\n",
              "        document.querySelector('#df-0013cf97-12dd-4501-975c-745351dce92f button.colab-df-convert');\n",
              "      buttonEl.style.display =\n",
              "        google.colab.kernel.accessAllowed ? 'block' : 'none';\n",
              "\n",
              "      async function convertToInteractive(key) {\n",
              "        const element = document.querySelector('#df-0013cf97-12dd-4501-975c-745351dce92f');\n",
              "        const dataTable =\n",
              "          await google.colab.kernel.invokeFunction('convertToInteractive',\n",
              "                                                    [key], {});\n",
              "        if (!dataTable) return;\n",
              "\n",
              "        const docLinkHtml = 'Like what you see? Visit the ' +\n",
              "          '<a target=\"_blank\" href=https://colab.research.google.com/notebooks/data_table.ipynb>data table notebook</a>'\n",
              "          + ' to learn more about interactive tables.';\n",
              "        element.innerHTML = '';\n",
              "        dataTable['output_type'] = 'display_data';\n",
              "        await google.colab.output.renderOutput(dataTable, element);\n",
              "        const docLink = document.createElement('div');\n",
              "        docLink.innerHTML = docLinkHtml;\n",
              "        element.appendChild(docLink);\n",
              "      }\n",
              "    </script>\n",
              "  </div>\n",
              "\n",
              "\n",
              "<div id=\"df-8ba5a15f-478e-473c-8944-b3085ed779c1\">\n",
              "  <button class=\"colab-df-quickchart\" onclick=\"quickchart('df-8ba5a15f-478e-473c-8944-b3085ed779c1')\"\n",
              "            title=\"Suggest charts\"\n",
              "            style=\"display:none;\">\n",
              "\n",
              "<svg xmlns=\"http://www.w3.org/2000/svg\" height=\"24px\"viewBox=\"0 0 24 24\"\n",
              "     width=\"24px\">\n",
              "    <g>\n",
              "        <path d=\"M19 3H5c-1.1 0-2 .9-2 2v14c0 1.1.9 2 2 2h14c1.1 0 2-.9 2-2V5c0-1.1-.9-2-2-2zM9 17H7v-7h2v7zm4 0h-2V7h2v10zm4 0h-2v-4h2v4z\"/>\n",
              "    </g>\n",
              "</svg>\n",
              "  </button>\n",
              "\n",
              "<style>\n",
              "  .colab-df-quickchart {\n",
              "      --bg-color: #E8F0FE;\n",
              "      --fill-color: #1967D2;\n",
              "      --hover-bg-color: #E2EBFA;\n",
              "      --hover-fill-color: #174EA6;\n",
              "      --disabled-fill-color: #AAA;\n",
              "      --disabled-bg-color: #DDD;\n",
              "  }\n",
              "\n",
              "  [theme=dark] .colab-df-quickchart {\n",
              "      --bg-color: #3B4455;\n",
              "      --fill-color: #D2E3FC;\n",
              "      --hover-bg-color: #434B5C;\n",
              "      --hover-fill-color: #FFFFFF;\n",
              "      --disabled-bg-color: #3B4455;\n",
              "      --disabled-fill-color: #666;\n",
              "  }\n",
              "\n",
              "  .colab-df-quickchart {\n",
              "    background-color: var(--bg-color);\n",
              "    border: none;\n",
              "    border-radius: 50%;\n",
              "    cursor: pointer;\n",
              "    display: none;\n",
              "    fill: var(--fill-color);\n",
              "    height: 32px;\n",
              "    padding: 0;\n",
              "    width: 32px;\n",
              "  }\n",
              "\n",
              "  .colab-df-quickchart:hover {\n",
              "    background-color: var(--hover-bg-color);\n",
              "    box-shadow: 0 1px 2px rgba(60, 64, 67, 0.3), 0 1px 3px 1px rgba(60, 64, 67, 0.15);\n",
              "    fill: var(--button-hover-fill-color);\n",
              "  }\n",
              "\n",
              "  .colab-df-quickchart-complete:disabled,\n",
              "  .colab-df-quickchart-complete:disabled:hover {\n",
              "    background-color: var(--disabled-bg-color);\n",
              "    fill: var(--disabled-fill-color);\n",
              "    box-shadow: none;\n",
              "  }\n",
              "\n",
              "  .colab-df-spinner {\n",
              "    border: 2px solid var(--fill-color);\n",
              "    border-color: transparent;\n",
              "    border-bottom-color: var(--fill-color);\n",
              "    animation:\n",
              "      spin 1s steps(1) infinite;\n",
              "  }\n",
              "\n",
              "  @keyframes spin {\n",
              "    0% {\n",
              "      border-color: transparent;\n",
              "      border-bottom-color: var(--fill-color);\n",
              "      border-left-color: var(--fill-color);\n",
              "    }\n",
              "    20% {\n",
              "      border-color: transparent;\n",
              "      border-left-color: var(--fill-color);\n",
              "      border-top-color: var(--fill-color);\n",
              "    }\n",
              "    30% {\n",
              "      border-color: transparent;\n",
              "      border-left-color: var(--fill-color);\n",
              "      border-top-color: var(--fill-color);\n",
              "      border-right-color: var(--fill-color);\n",
              "    }\n",
              "    40% {\n",
              "      border-color: transparent;\n",
              "      border-right-color: var(--fill-color);\n",
              "      border-top-color: var(--fill-color);\n",
              "    }\n",
              "    60% {\n",
              "      border-color: transparent;\n",
              "      border-right-color: var(--fill-color);\n",
              "    }\n",
              "    80% {\n",
              "      border-color: transparent;\n",
              "      border-right-color: var(--fill-color);\n",
              "      border-bottom-color: var(--fill-color);\n",
              "    }\n",
              "    90% {\n",
              "      border-color: transparent;\n",
              "      border-bottom-color: var(--fill-color);\n",
              "    }\n",
              "  }\n",
              "</style>\n",
              "\n",
              "  <script>\n",
              "    async function quickchart(key) {\n",
              "      const quickchartButtonEl =\n",
              "        document.querySelector('#' + key + ' button');\n",
              "      quickchartButtonEl.disabled = true;  // To prevent multiple clicks.\n",
              "      quickchartButtonEl.classList.add('colab-df-spinner');\n",
              "      try {\n",
              "        const charts = await google.colab.kernel.invokeFunction(\n",
              "            'suggestCharts', [key], {});\n",
              "      } catch (error) {\n",
              "        console.error('Error during call to suggestCharts:', error);\n",
              "      }\n",
              "      quickchartButtonEl.classList.remove('colab-df-spinner');\n",
              "      quickchartButtonEl.classList.add('colab-df-quickchart-complete');\n",
              "    }\n",
              "    (() => {\n",
              "      let quickchartButtonEl =\n",
              "        document.querySelector('#df-8ba5a15f-478e-473c-8944-b3085ed779c1 button');\n",
              "      quickchartButtonEl.style.display =\n",
              "        google.colab.kernel.accessAllowed ? 'block' : 'none';\n",
              "    })();\n",
              "  </script>\n",
              "</div>\n",
              "\n",
              "  <div id=\"id_c204ea6e-4bee-46ef-a2bb-f0a88b83c25f\">\n",
              "    <style>\n",
              "      .colab-df-generate {\n",
              "        background-color: #E8F0FE;\n",
              "        border: none;\n",
              "        border-radius: 50%;\n",
              "        cursor: pointer;\n",
              "        display: none;\n",
              "        fill: #1967D2;\n",
              "        height: 32px;\n",
              "        padding: 0 0 0 0;\n",
              "        width: 32px;\n",
              "      }\n",
              "\n",
              "      .colab-df-generate:hover {\n",
              "        background-color: #E2EBFA;\n",
              "        box-shadow: 0px 1px 2px rgba(60, 64, 67, 0.3), 0px 1px 3px 1px rgba(60, 64, 67, 0.15);\n",
              "        fill: #174EA6;\n",
              "      }\n",
              "\n",
              "      [theme=dark] .colab-df-generate {\n",
              "        background-color: #3B4455;\n",
              "        fill: #D2E3FC;\n",
              "      }\n",
              "\n",
              "      [theme=dark] .colab-df-generate:hover {\n",
              "        background-color: #434B5C;\n",
              "        box-shadow: 0px 1px 3px 1px rgba(0, 0, 0, 0.15);\n",
              "        filter: drop-shadow(0px 1px 2px rgba(0, 0, 0, 0.3));\n",
              "        fill: #FFFFFF;\n",
              "      }\n",
              "    </style>\n",
              "    <button class=\"colab-df-generate\" onclick=\"generateWithVariable('df')\"\n",
              "            title=\"Generate code using this dataframe.\"\n",
              "            style=\"display:none;\">\n",
              "\n",
              "  <svg xmlns=\"http://www.w3.org/2000/svg\" height=\"24px\"viewBox=\"0 0 24 24\"\n",
              "       width=\"24px\">\n",
              "    <path d=\"M7,19H8.4L18.45,9,17,7.55,7,17.6ZM5,21V16.75L18.45,3.32a2,2,0,0,1,2.83,0l1.4,1.43a1.91,1.91,0,0,1,.58,1.4,1.91,1.91,0,0,1-.58,1.4L9.25,21ZM18.45,9,17,7.55Zm-12,3A5.31,5.31,0,0,0,4.9,8.1,5.31,5.31,0,0,0,1,6.5,5.31,5.31,0,0,0,4.9,4.9,5.31,5.31,0,0,0,6.5,1,5.31,5.31,0,0,0,8.1,4.9,5.31,5.31,0,0,0,12,6.5,5.46,5.46,0,0,0,6.5,12Z\"/>\n",
              "  </svg>\n",
              "    </button>\n",
              "    <script>\n",
              "      (() => {\n",
              "      const buttonEl =\n",
              "        document.querySelector('#id_c204ea6e-4bee-46ef-a2bb-f0a88b83c25f button.colab-df-generate');\n",
              "      buttonEl.style.display =\n",
              "        google.colab.kernel.accessAllowed ? 'block' : 'none';\n",
              "\n",
              "      buttonEl.onclick = () => {\n",
              "        google.colab.notebook.generateWithVariable('df');\n",
              "      }\n",
              "      })();\n",
              "    </script>\n",
              "  </div>\n",
              "\n",
              "    </div>\n",
              "  </div>\n"
            ],
            "application/vnd.google.colaboratory.intrinsic+json": {
              "type": "dataframe",
              "variable_name": "df",
              "summary": "{\n  \"name\": \"df\",\n  \"rows\": 499,\n  \"fields\": [\n    {\n      \"column\": \"neg\",\n      \"properties\": {\n        \"dtype\": \"number\",\n        \"std\": 0.043637651469777564,\n        \"min\": 0.0,\n        \"max\": 0.302,\n        \"num_unique_values\": 128,\n        \"samples\": [\n          0.016,\n          0.052,\n          0.116\n        ],\n        \"semantic_type\": \"\",\n        \"description\": \"\"\n      }\n    },\n    {\n      \"column\": \"neu\",\n      \"properties\": {\n        \"dtype\": \"number\",\n        \"std\": 0.05611935553207548,\n        \"min\": 0.631,\n        \"max\": 1.0,\n        \"num_unique_values\": 201,\n        \"samples\": [\n          0.729,\n          0.861,\n          0.818\n        ],\n        \"semantic_type\": \"\",\n        \"description\": \"\"\n      }\n    },\n    {\n      \"column\": \"pos\",\n      \"properties\": {\n        \"dtype\": \"number\",\n        \"std\": 0.05369582673652621,\n        \"min\": 0.0,\n        \"max\": 0.343,\n        \"num_unique_values\": 197,\n        \"samples\": [\n          0.138,\n          0.127,\n          0.054\n        ],\n        \"semantic_type\": \"\",\n        \"description\": \"\"\n      }\n    },\n    {\n      \"column\": \"compound\",\n      \"properties\": {\n        \"dtype\": \"number\",\n        \"std\": 0.6322378201784944,\n        \"min\": -0.999,\n        \"max\": 1.0,\n        \"num_unique_values\": 297,\n        \"samples\": [\n          -0.9637,\n          0.3387,\n          0.9984\n        ],\n        \"semantic_type\": \"\",\n        \"description\": \"\"\n      }\n    }\n  ]\n}"
            }
          },
          "metadata": {},
          "execution_count": 51
        }
      ],
      "source": [
        "sia = SentimentIntensityAnalyzer()\n",
        "# utilizes the VADER function to determine polarity scores for sentiment. It does this for every document and the words within.\n",
        "sents = [sia.polarity_scores(' '.join(b)) for b in bodies]\n",
        "# creates a new DataFrame with the sentiment scores\n",
        "df = pd.DataFrame(sents)\n",
        "df"
      ]
    },
    {
      "cell_type": "markdown",
      "source": [
        "**by Brady Deyak**\n",
        "\n",
        "After using the VADER sentiment analysis analyzer, the compound or overall sentiment score of the document is used to determine the sentiment label for the document, '1' being positive and '0' being negative."
      ],
      "metadata": {
        "id": "VLTvHIF8RvZm"
      }
    },
    {
      "cell_type": "code",
      "execution_count": 52,
      "metadata": {
        "colab": {
          "base_uri": "https://localhost:8080/",
          "height": 424
        },
        "id": "iaWhoSYKZHHB",
        "outputId": "08e82e86-f664-4280-e251-6a382f0a699e"
      },
      "outputs": [
        {
          "output_type": "execute_result",
          "data": {
            "text/plain": [
              "       neg    neu    pos  compound  Sentiment Label\n",
              "150  0.123  0.805  0.071   -0.9990                0\n",
              "297  0.170  0.745  0.085   -0.9990                0\n",
              "199  0.283  0.668  0.048   -0.9989                0\n",
              "424  0.245  0.693  0.062   -0.9988                0\n",
              "200  0.159  0.772  0.069   -0.9988                0\n",
              "..     ...    ...    ...       ...              ...\n",
              "116  0.071  0.796  0.132    0.9999                1\n",
              "287  0.061  0.815  0.124    0.9999                1\n",
              "446  0.029  0.844  0.127    0.9999                1\n",
              "389  0.048  0.848  0.104    1.0000                1\n",
              "92   0.040  0.845  0.115    1.0000                1\n",
              "\n",
              "[499 rows x 5 columns]"
            ],
            "text/html": [
              "\n",
              "  <div id=\"df-bc364b92-4433-4c98-8f14-6e4128b144f4\" class=\"colab-df-container\">\n",
              "    <div>\n",
              "<style scoped>\n",
              "    .dataframe tbody tr th:only-of-type {\n",
              "        vertical-align: middle;\n",
              "    }\n",
              "\n",
              "    .dataframe tbody tr th {\n",
              "        vertical-align: top;\n",
              "    }\n",
              "\n",
              "    .dataframe thead th {\n",
              "        text-align: right;\n",
              "    }\n",
              "</style>\n",
              "<table border=\"1\" class=\"dataframe\">\n",
              "  <thead>\n",
              "    <tr style=\"text-align: right;\">\n",
              "      <th></th>\n",
              "      <th>neg</th>\n",
              "      <th>neu</th>\n",
              "      <th>pos</th>\n",
              "      <th>compound</th>\n",
              "      <th>Sentiment Label</th>\n",
              "    </tr>\n",
              "  </thead>\n",
              "  <tbody>\n",
              "    <tr>\n",
              "      <th>150</th>\n",
              "      <td>0.123</td>\n",
              "      <td>0.805</td>\n",
              "      <td>0.071</td>\n",
              "      <td>-0.9990</td>\n",
              "      <td>0</td>\n",
              "    </tr>\n",
              "    <tr>\n",
              "      <th>297</th>\n",
              "      <td>0.170</td>\n",
              "      <td>0.745</td>\n",
              "      <td>0.085</td>\n",
              "      <td>-0.9990</td>\n",
              "      <td>0</td>\n",
              "    </tr>\n",
              "    <tr>\n",
              "      <th>199</th>\n",
              "      <td>0.283</td>\n",
              "      <td>0.668</td>\n",
              "      <td>0.048</td>\n",
              "      <td>-0.9989</td>\n",
              "      <td>0</td>\n",
              "    </tr>\n",
              "    <tr>\n",
              "      <th>424</th>\n",
              "      <td>0.245</td>\n",
              "      <td>0.693</td>\n",
              "      <td>0.062</td>\n",
              "      <td>-0.9988</td>\n",
              "      <td>0</td>\n",
              "    </tr>\n",
              "    <tr>\n",
              "      <th>200</th>\n",
              "      <td>0.159</td>\n",
              "      <td>0.772</td>\n",
              "      <td>0.069</td>\n",
              "      <td>-0.9988</td>\n",
              "      <td>0</td>\n",
              "    </tr>\n",
              "    <tr>\n",
              "      <th>...</th>\n",
              "      <td>...</td>\n",
              "      <td>...</td>\n",
              "      <td>...</td>\n",
              "      <td>...</td>\n",
              "      <td>...</td>\n",
              "    </tr>\n",
              "    <tr>\n",
              "      <th>116</th>\n",
              "      <td>0.071</td>\n",
              "      <td>0.796</td>\n",
              "      <td>0.132</td>\n",
              "      <td>0.9999</td>\n",
              "      <td>1</td>\n",
              "    </tr>\n",
              "    <tr>\n",
              "      <th>287</th>\n",
              "      <td>0.061</td>\n",
              "      <td>0.815</td>\n",
              "      <td>0.124</td>\n",
              "      <td>0.9999</td>\n",
              "      <td>1</td>\n",
              "    </tr>\n",
              "    <tr>\n",
              "      <th>446</th>\n",
              "      <td>0.029</td>\n",
              "      <td>0.844</td>\n",
              "      <td>0.127</td>\n",
              "      <td>0.9999</td>\n",
              "      <td>1</td>\n",
              "    </tr>\n",
              "    <tr>\n",
              "      <th>389</th>\n",
              "      <td>0.048</td>\n",
              "      <td>0.848</td>\n",
              "      <td>0.104</td>\n",
              "      <td>1.0000</td>\n",
              "      <td>1</td>\n",
              "    </tr>\n",
              "    <tr>\n",
              "      <th>92</th>\n",
              "      <td>0.040</td>\n",
              "      <td>0.845</td>\n",
              "      <td>0.115</td>\n",
              "      <td>1.0000</td>\n",
              "      <td>1</td>\n",
              "    </tr>\n",
              "  </tbody>\n",
              "</table>\n",
              "<p>499 rows × 5 columns</p>\n",
              "</div>\n",
              "    <div class=\"colab-df-buttons\">\n",
              "\n",
              "  <div class=\"colab-df-container\">\n",
              "    <button class=\"colab-df-convert\" onclick=\"convertToInteractive('df-bc364b92-4433-4c98-8f14-6e4128b144f4')\"\n",
              "            title=\"Convert this dataframe to an interactive table.\"\n",
              "            style=\"display:none;\">\n",
              "\n",
              "  <svg xmlns=\"http://www.w3.org/2000/svg\" height=\"24px\" viewBox=\"0 -960 960 960\">\n",
              "    <path d=\"M120-120v-720h720v720H120Zm60-500h600v-160H180v160Zm220 220h160v-160H400v160Zm0 220h160v-160H400v160ZM180-400h160v-160H180v160Zm440 0h160v-160H620v160ZM180-180h160v-160H180v160Zm440 0h160v-160H620v160Z\"/>\n",
              "  </svg>\n",
              "    </button>\n",
              "\n",
              "  <style>\n",
              "    .colab-df-container {\n",
              "      display:flex;\n",
              "      gap: 12px;\n",
              "    }\n",
              "\n",
              "    .colab-df-convert {\n",
              "      background-color: #E8F0FE;\n",
              "      border: none;\n",
              "      border-radius: 50%;\n",
              "      cursor: pointer;\n",
              "      display: none;\n",
              "      fill: #1967D2;\n",
              "      height: 32px;\n",
              "      padding: 0 0 0 0;\n",
              "      width: 32px;\n",
              "    }\n",
              "\n",
              "    .colab-df-convert:hover {\n",
              "      background-color: #E2EBFA;\n",
              "      box-shadow: 0px 1px 2px rgba(60, 64, 67, 0.3), 0px 1px 3px 1px rgba(60, 64, 67, 0.15);\n",
              "      fill: #174EA6;\n",
              "    }\n",
              "\n",
              "    .colab-df-buttons div {\n",
              "      margin-bottom: 4px;\n",
              "    }\n",
              "\n",
              "    [theme=dark] .colab-df-convert {\n",
              "      background-color: #3B4455;\n",
              "      fill: #D2E3FC;\n",
              "    }\n",
              "\n",
              "    [theme=dark] .colab-df-convert:hover {\n",
              "      background-color: #434B5C;\n",
              "      box-shadow: 0px 1px 3px 1px rgba(0, 0, 0, 0.15);\n",
              "      filter: drop-shadow(0px 1px 2px rgba(0, 0, 0, 0.3));\n",
              "      fill: #FFFFFF;\n",
              "    }\n",
              "  </style>\n",
              "\n",
              "    <script>\n",
              "      const buttonEl =\n",
              "        document.querySelector('#df-bc364b92-4433-4c98-8f14-6e4128b144f4 button.colab-df-convert');\n",
              "      buttonEl.style.display =\n",
              "        google.colab.kernel.accessAllowed ? 'block' : 'none';\n",
              "\n",
              "      async function convertToInteractive(key) {\n",
              "        const element = document.querySelector('#df-bc364b92-4433-4c98-8f14-6e4128b144f4');\n",
              "        const dataTable =\n",
              "          await google.colab.kernel.invokeFunction('convertToInteractive',\n",
              "                                                    [key], {});\n",
              "        if (!dataTable) return;\n",
              "\n",
              "        const docLinkHtml = 'Like what you see? Visit the ' +\n",
              "          '<a target=\"_blank\" href=https://colab.research.google.com/notebooks/data_table.ipynb>data table notebook</a>'\n",
              "          + ' to learn more about interactive tables.';\n",
              "        element.innerHTML = '';\n",
              "        dataTable['output_type'] = 'display_data';\n",
              "        await google.colab.output.renderOutput(dataTable, element);\n",
              "        const docLink = document.createElement('div');\n",
              "        docLink.innerHTML = docLinkHtml;\n",
              "        element.appendChild(docLink);\n",
              "      }\n",
              "    </script>\n",
              "  </div>\n",
              "\n",
              "\n",
              "<div id=\"df-ed0d229d-131a-4f45-a3c2-f673892dfb2c\">\n",
              "  <button class=\"colab-df-quickchart\" onclick=\"quickchart('df-ed0d229d-131a-4f45-a3c2-f673892dfb2c')\"\n",
              "            title=\"Suggest charts\"\n",
              "            style=\"display:none;\">\n",
              "\n",
              "<svg xmlns=\"http://www.w3.org/2000/svg\" height=\"24px\"viewBox=\"0 0 24 24\"\n",
              "     width=\"24px\">\n",
              "    <g>\n",
              "        <path d=\"M19 3H5c-1.1 0-2 .9-2 2v14c0 1.1.9 2 2 2h14c1.1 0 2-.9 2-2V5c0-1.1-.9-2-2-2zM9 17H7v-7h2v7zm4 0h-2V7h2v10zm4 0h-2v-4h2v4z\"/>\n",
              "    </g>\n",
              "</svg>\n",
              "  </button>\n",
              "\n",
              "<style>\n",
              "  .colab-df-quickchart {\n",
              "      --bg-color: #E8F0FE;\n",
              "      --fill-color: #1967D2;\n",
              "      --hover-bg-color: #E2EBFA;\n",
              "      --hover-fill-color: #174EA6;\n",
              "      --disabled-fill-color: #AAA;\n",
              "      --disabled-bg-color: #DDD;\n",
              "  }\n",
              "\n",
              "  [theme=dark] .colab-df-quickchart {\n",
              "      --bg-color: #3B4455;\n",
              "      --fill-color: #D2E3FC;\n",
              "      --hover-bg-color: #434B5C;\n",
              "      --hover-fill-color: #FFFFFF;\n",
              "      --disabled-bg-color: #3B4455;\n",
              "      --disabled-fill-color: #666;\n",
              "  }\n",
              "\n",
              "  .colab-df-quickchart {\n",
              "    background-color: var(--bg-color);\n",
              "    border: none;\n",
              "    border-radius: 50%;\n",
              "    cursor: pointer;\n",
              "    display: none;\n",
              "    fill: var(--fill-color);\n",
              "    height: 32px;\n",
              "    padding: 0;\n",
              "    width: 32px;\n",
              "  }\n",
              "\n",
              "  .colab-df-quickchart:hover {\n",
              "    background-color: var(--hover-bg-color);\n",
              "    box-shadow: 0 1px 2px rgba(60, 64, 67, 0.3), 0 1px 3px 1px rgba(60, 64, 67, 0.15);\n",
              "    fill: var(--button-hover-fill-color);\n",
              "  }\n",
              "\n",
              "  .colab-df-quickchart-complete:disabled,\n",
              "  .colab-df-quickchart-complete:disabled:hover {\n",
              "    background-color: var(--disabled-bg-color);\n",
              "    fill: var(--disabled-fill-color);\n",
              "    box-shadow: none;\n",
              "  }\n",
              "\n",
              "  .colab-df-spinner {\n",
              "    border: 2px solid var(--fill-color);\n",
              "    border-color: transparent;\n",
              "    border-bottom-color: var(--fill-color);\n",
              "    animation:\n",
              "      spin 1s steps(1) infinite;\n",
              "  }\n",
              "\n",
              "  @keyframes spin {\n",
              "    0% {\n",
              "      border-color: transparent;\n",
              "      border-bottom-color: var(--fill-color);\n",
              "      border-left-color: var(--fill-color);\n",
              "    }\n",
              "    20% {\n",
              "      border-color: transparent;\n",
              "      border-left-color: var(--fill-color);\n",
              "      border-top-color: var(--fill-color);\n",
              "    }\n",
              "    30% {\n",
              "      border-color: transparent;\n",
              "      border-left-color: var(--fill-color);\n",
              "      border-top-color: var(--fill-color);\n",
              "      border-right-color: var(--fill-color);\n",
              "    }\n",
              "    40% {\n",
              "      border-color: transparent;\n",
              "      border-right-color: var(--fill-color);\n",
              "      border-top-color: var(--fill-color);\n",
              "    }\n",
              "    60% {\n",
              "      border-color: transparent;\n",
              "      border-right-color: var(--fill-color);\n",
              "    }\n",
              "    80% {\n",
              "      border-color: transparent;\n",
              "      border-right-color: var(--fill-color);\n",
              "      border-bottom-color: var(--fill-color);\n",
              "    }\n",
              "    90% {\n",
              "      border-color: transparent;\n",
              "      border-bottom-color: var(--fill-color);\n",
              "    }\n",
              "  }\n",
              "</style>\n",
              "\n",
              "  <script>\n",
              "    async function quickchart(key) {\n",
              "      const quickchartButtonEl =\n",
              "        document.querySelector('#' + key + ' button');\n",
              "      quickchartButtonEl.disabled = true;  // To prevent multiple clicks.\n",
              "      quickchartButtonEl.classList.add('colab-df-spinner');\n",
              "      try {\n",
              "        const charts = await google.colab.kernel.invokeFunction(\n",
              "            'suggestCharts', [key], {});\n",
              "      } catch (error) {\n",
              "        console.error('Error during call to suggestCharts:', error);\n",
              "      }\n",
              "      quickchartButtonEl.classList.remove('colab-df-spinner');\n",
              "      quickchartButtonEl.classList.add('colab-df-quickchart-complete');\n",
              "    }\n",
              "    (() => {\n",
              "      let quickchartButtonEl =\n",
              "        document.querySelector('#df-ed0d229d-131a-4f45-a3c2-f673892dfb2c button');\n",
              "      quickchartButtonEl.style.display =\n",
              "        google.colab.kernel.accessAllowed ? 'block' : 'none';\n",
              "    })();\n",
              "  </script>\n",
              "</div>\n",
              "\n",
              "  <div id=\"id_f02b11f6-a355-4c26-8514-9c7a409f2049\">\n",
              "    <style>\n",
              "      .colab-df-generate {\n",
              "        background-color: #E8F0FE;\n",
              "        border: none;\n",
              "        border-radius: 50%;\n",
              "        cursor: pointer;\n",
              "        display: none;\n",
              "        fill: #1967D2;\n",
              "        height: 32px;\n",
              "        padding: 0 0 0 0;\n",
              "        width: 32px;\n",
              "      }\n",
              "\n",
              "      .colab-df-generate:hover {\n",
              "        background-color: #E2EBFA;\n",
              "        box-shadow: 0px 1px 2px rgba(60, 64, 67, 0.3), 0px 1px 3px 1px rgba(60, 64, 67, 0.15);\n",
              "        fill: #174EA6;\n",
              "      }\n",
              "\n",
              "      [theme=dark] .colab-df-generate {\n",
              "        background-color: #3B4455;\n",
              "        fill: #D2E3FC;\n",
              "      }\n",
              "\n",
              "      [theme=dark] .colab-df-generate:hover {\n",
              "        background-color: #434B5C;\n",
              "        box-shadow: 0px 1px 3px 1px rgba(0, 0, 0, 0.15);\n",
              "        filter: drop-shadow(0px 1px 2px rgba(0, 0, 0, 0.3));\n",
              "        fill: #FFFFFF;\n",
              "      }\n",
              "    </style>\n",
              "    <button class=\"colab-df-generate\" onclick=\"generateWithVariable('sortedDataFrame')\"\n",
              "            title=\"Generate code using this dataframe.\"\n",
              "            style=\"display:none;\">\n",
              "\n",
              "  <svg xmlns=\"http://www.w3.org/2000/svg\" height=\"24px\"viewBox=\"0 0 24 24\"\n",
              "       width=\"24px\">\n",
              "    <path d=\"M7,19H8.4L18.45,9,17,7.55,7,17.6ZM5,21V16.75L18.45,3.32a2,2,0,0,1,2.83,0l1.4,1.43a1.91,1.91,0,0,1,.58,1.4,1.91,1.91,0,0,1-.58,1.4L9.25,21ZM18.45,9,17,7.55Zm-12,3A5.31,5.31,0,0,0,4.9,8.1,5.31,5.31,0,0,0,1,6.5,5.31,5.31,0,0,0,4.9,4.9,5.31,5.31,0,0,0,6.5,1,5.31,5.31,0,0,0,8.1,4.9,5.31,5.31,0,0,0,12,6.5,5.46,5.46,0,0,0,6.5,12Z\"/>\n",
              "  </svg>\n",
              "    </button>\n",
              "    <script>\n",
              "      (() => {\n",
              "      const buttonEl =\n",
              "        document.querySelector('#id_f02b11f6-a355-4c26-8514-9c7a409f2049 button.colab-df-generate');\n",
              "      buttonEl.style.display =\n",
              "        google.colab.kernel.accessAllowed ? 'block' : 'none';\n",
              "\n",
              "      buttonEl.onclick = () => {\n",
              "        google.colab.notebook.generateWithVariable('sortedDataFrame');\n",
              "      }\n",
              "      })();\n",
              "    </script>\n",
              "  </div>\n",
              "\n",
              "    </div>\n",
              "  </div>\n"
            ],
            "application/vnd.google.colaboratory.intrinsic+json": {
              "type": "dataframe",
              "variable_name": "sortedDataFrame",
              "summary": "{\n  \"name\": \"sortedDataFrame\",\n  \"rows\": 499,\n  \"fields\": [\n    {\n      \"column\": \"neg\",\n      \"properties\": {\n        \"dtype\": \"number\",\n        \"std\": 0.043637651469777564,\n        \"min\": 0.0,\n        \"max\": 0.302,\n        \"num_unique_values\": 128,\n        \"samples\": [\n          0.038,\n          0.059,\n          0.105\n        ],\n        \"semantic_type\": \"\",\n        \"description\": \"\"\n      }\n    },\n    {\n      \"column\": \"neu\",\n      \"properties\": {\n        \"dtype\": \"number\",\n        \"std\": 0.05611935553207548,\n        \"min\": 0.631,\n        \"max\": 1.0,\n        \"num_unique_values\": 201,\n        \"samples\": [\n          0.913,\n          0.76,\n          0.811\n        ],\n        \"semantic_type\": \"\",\n        \"description\": \"\"\n      }\n    },\n    {\n      \"column\": \"pos\",\n      \"properties\": {\n        \"dtype\": \"number\",\n        \"std\": 0.05369582673652621,\n        \"min\": 0.0,\n        \"max\": 0.343,\n        \"num_unique_values\": 197,\n        \"samples\": [\n          0.166,\n          0.23,\n          0.035\n        ],\n        \"semantic_type\": \"\",\n        \"description\": \"\"\n      }\n    },\n    {\n      \"column\": \"compound\",\n      \"properties\": {\n        \"dtype\": \"number\",\n        \"std\": 0.6322378201784944,\n        \"min\": -0.999,\n        \"max\": 1.0,\n        \"num_unique_values\": 297,\n        \"samples\": [\n          0.9749,\n          0.9884,\n          -0.0258\n        ],\n        \"semantic_type\": \"\",\n        \"description\": \"\"\n      }\n    },\n    {\n      \"column\": \"Sentiment Label\",\n      \"properties\": {\n        \"dtype\": \"number\",\n        \"std\": 0,\n        \"min\": 0,\n        \"max\": 1,\n        \"num_unique_values\": 2,\n        \"samples\": [\n          1,\n          0\n        ],\n        \"semantic_type\": \"\",\n        \"description\": \"\"\n      }\n    }\n  ]\n}"
            }
          },
          "metadata": {},
          "execution_count": 52
        }
      ],
      "source": [
        "# collects the overall sentiment scores\n",
        "sentiment = df['compound']\n",
        "# positive if greater than or equal and negative if less\n",
        "threshold = 0.5\n",
        "# creates new column in dataframe that takes the overall sentiment score and determines a sentiment label 1 (positive) or 0 (negative)\n",
        "df['Sentiment Label'] = df['compound'].apply(lambda x: 1 if x >= threshold else 0)\n",
        "sortedDataFrame = df.sort_values(by='compound', ascending=True)\n",
        "sortedDataFrame"
      ]
    },
    {
      "cell_type": "markdown",
      "source": [
        "**by Brady Deyak**\n",
        "\n",
        "This was the part of my section that I spent the most time experimenting with as I am new to Tensorflow as a Python tool and some of the functions were ambigious for me. After much experimenting, I believe that the presets of this model work with the results."
      ],
      "metadata": {
        "id": "lE3kX1sISbuH"
      }
    },
    {
      "cell_type": "code",
      "execution_count": 53,
      "metadata": {
        "id": "tAs1ew2lARA2"
      },
      "outputs": [],
      "source": [
        "# initiates a TensorFlow Keras model with a linear stack of layers\n",
        "model = tf.keras.Sequential()\n",
        "# the Embedding layer vectorizes positive integers or indices\n",
        "# The size of the vocabulary is set to 10000 given that the amount of total words would most likely be near that\n",
        "# The dimensions of the embedding is 128 meaning the shape is (None, 10, 128)\n",
        "model.add(tf.keras.layers.Embedding(10000, 128))\n",
        "# LSTM is the Long Short-Term Memory Layer\n",
        "# The dimensions of the output is (128,)\n",
        "# The dropout returns the fraction of units to drop for the linear transformation of the inputs, in this case 2/10 or 1/5\n",
        "# The recurrent dropout returns the fraction of units to drop for the linear transformation of the recurrent state which in this case is also 2/10\n",
        "model.add(tf.keras.layers.LSTM(128, dropout=0.2, recurrent_dropout=0.2))\n",
        "# Dense is a fully connected layer\n",
        "# The activation function is relu\n",
        "# The output layer is a single neuron\n",
        "model.add(tf.keras.layers.Dense(50, activation='relu'))\n",
        "# The shape of the output is (1,)\n",
        "# The sigmoid function returns a value between 0 and 1\n",
        "model.add(tf.keras.layers.Dense(1, activation='sigmoid'))"
      ]
    },
    {
      "cell_type": "code",
      "source": [
        "# This compiles the model using the binay cross-entropy loss function to effectively measure the difference between the predicted and real labels\n",
        "# The optimizer is adam which minimizes the loss function through iterative training\n",
        "model.compile(loss='binary_crossentropy', optimizer='adam', metrics=['accuracy'])"
      ],
      "metadata": {
        "id": "u2nwK2xov3Il"
      },
      "execution_count": 54,
      "outputs": []
    },
    {
      "cell_type": "code",
      "source": [
        "# This separates the input training and test sets with the output sets\n",
        "# The input is the sentiment values from the DataFrame\n",
        "# The output is the sentiment label from the DataFrame\n",
        "# This splits 80% of the data to be used for the testing set and the other 20% for the training set\n",
        "# The random state applies shuffling at a specific frequency\n",
        "x_train, x_test, y_train, y_test = train_test_split(sentiment, df[\"Sentiment Label\"], test_size=0.8, random_state=42)"
      ],
      "metadata": {
        "id": "Cpwhz1UmwjYu"
      },
      "execution_count": 55,
      "outputs": []
    },
    {
      "cell_type": "markdown",
      "source": [
        "**by Brady Deyak**\n",
        "\n",
        "This fits the model to the sentiment data given and runs at 5 epochs. The loss and accuracy scores are promising given the work that I was able to do with this model, although there is still much improvement to go."
      ],
      "metadata": {
        "id": "Tt3vSUCxTHen"
      }
    },
    {
      "cell_type": "code",
      "source": [
        "# This fits the input and output training data into the model for a specific number of epochs\n",
        "# The batch size is 48 which is the number of samples per gradient\n",
        "# The epochs is 5 meaning there are 5 iterations over the data sets\n",
        "sentData = model.fit(x_train, y_train, batch_size=48, epochs=5, validation_split=0.2)"
      ],
      "metadata": {
        "colab": {
          "base_uri": "https://localhost:8080/"
        },
        "id": "keqALLK2v-Y7",
        "outputId": "f8d8dc23-ccc8-45e6-f7e6-528c3c8164ee"
      },
      "execution_count": 56,
      "outputs": [
        {
          "output_type": "stream",
          "name": "stdout",
          "text": [
            "Epoch 1/5\n",
            "2/2 [==============================] - 6s 479ms/step - loss: 0.6884 - accuracy: 0.8228 - val_loss: 0.6794 - val_accuracy: 0.8500\n",
            "Epoch 2/5\n",
            "2/2 [==============================] - 0s 54ms/step - loss: 0.6768 - accuracy: 0.8734 - val_loss: 0.6668 - val_accuracy: 0.8500\n",
            "Epoch 3/5\n",
            "2/2 [==============================] - 0s 65ms/step - loss: 0.6625 - accuracy: 0.8734 - val_loss: 0.6517 - val_accuracy: 0.8500\n",
            "Epoch 4/5\n",
            "2/2 [==============================] - 0s 67ms/step - loss: 0.6461 - accuracy: 0.8734 - val_loss: 0.6346 - val_accuracy: 0.8500\n",
            "Epoch 5/5\n",
            "2/2 [==============================] - 0s 50ms/step - loss: 0.6267 - accuracy: 0.8734 - val_loss: 0.6152 - val_accuracy: 0.8500\n"
          ]
        }
      ]
    },
    {
      "cell_type": "code",
      "source": [
        "x_train.sort_index()"
      ],
      "metadata": {
        "colab": {
          "base_uri": "https://localhost:8080/"
        },
        "id": "eMMQUslwFO45",
        "outputId": "5d11ce65-ef99-4863-ca33-03fa83c3ead8"
      },
      "execution_count": 57,
      "outputs": [
        {
          "output_type": "execute_result",
          "data": {
            "text/plain": [
              "1     -0.9968\n",
              "13     0.9638\n",
              "20     0.9869\n",
              "21     0.9988\n",
              "34     0.9873\n",
              "        ...  \n",
              "481    0.9990\n",
              "487    0.9756\n",
              "491    0.9552\n",
              "495    0.9976\n",
              "498    0.9984\n",
              "Name: compound, Length: 99, dtype: float64"
            ]
          },
          "metadata": {},
          "execution_count": 57
        }
      ]
    },
    {
      "cell_type": "code",
      "source": [
        "# The evaluate function evaluates the input and output testing sets to determine the loss and accuracy\n",
        "loss, accuracy = model.evaluate(x_test, y_test)"
      ],
      "metadata": {
        "colab": {
          "base_uri": "https://localhost:8080/"
        },
        "id": "FwYG9tsK1Iqn",
        "outputId": "f6ac2f3d-c1f0-4868-ad01-8000fead3449"
      },
      "execution_count": 58,
      "outputs": [
        {
          "output_type": "stream",
          "name": "stdout",
          "text": [
            "13/13 [==============================] - 0s 3ms/step - loss: 0.6214 - accuracy: 0.8250\n"
          ]
        }
      ]
    },
    {
      "cell_type": "markdown",
      "source": [
        "**by Brady Deyak**\n",
        "\n",
        "Once the model is trained, it is used to determine the sentiment of the 2010s decade using the training sets."
      ],
      "metadata": {
        "id": "hvmx_nhrTwYK"
      }
    },
    {
      "cell_type": "code",
      "source": [
        "# predicts the sentiment of the input using the trained model\n",
        "sentimentPrediction = model.predict(x_train)"
      ],
      "metadata": {
        "colab": {
          "base_uri": "https://localhost:8080/"
        },
        "id": "gy94cvl619NI",
        "outputId": "1ea9b18d-004e-41c0-9c65-d2749fcf9690"
      },
      "execution_count": 59,
      "outputs": [
        {
          "output_type": "stream",
          "name": "stdout",
          "text": [
            "4/4 [==============================] - 0s 4ms/step\n"
          ]
        }
      ]
    },
    {
      "cell_type": "markdown",
      "source": [
        "**by Brady Deyak**"
      ],
      "metadata": {
        "id": "aJH4RToPT7bm"
      }
    },
    {
      "cell_type": "markdown",
      "source": [
        "This checks the prediction to determine if the decade has more positive or negative sentiment."
      ],
      "metadata": {
        "id": "0ArsXi8GT_Yh"
      }
    },
    {
      "cell_type": "code",
      "source": [
        "# determines if sentiment is positive or negative based on prediction\n",
        "modelSentiment = \"Positive\" if sentimentPrediction[0] >= threshold else \"Negative\"\n",
        "modelSentiment"
      ],
      "metadata": {
        "colab": {
          "base_uri": "https://localhost:8080/",
          "height": 35
        },
        "id": "D4c310fyLV1D",
        "outputId": "d222edf0-66b2-4b5f-acc1-4f6b37ff6e7b"
      },
      "execution_count": 60,
      "outputs": [
        {
          "output_type": "execute_result",
          "data": {
            "text/plain": [
              "'Positive'"
            ],
            "application/vnd.google.colaboratory.intrinsic+json": {
              "type": "string"
            }
          },
          "metadata": {},
          "execution_count": 60
        }
      ]
    },
    {
      "cell_type": "markdown",
      "source": [
        "**It appears that there was more positive sentiment towards disability in the 2010s. Yay!**"
      ],
      "metadata": {
        "id": "FyiTumCqUJxV"
      }
    },
    {
      "cell_type": "markdown",
      "source": [
        "**by Brady Deyak**\n",
        "\n",
        "I plan to continue working on this after the class and building up my portions for a full working model. I was not able to get a full-working representation of the sentiment over time, however, I learned a lot about TensorFlow and other Python tools that are efficient in building neural networks. I think that I got lots of value from this project and am looking forward to continuing this!"
      ],
      "metadata": {
        "id": "HavbZOpKUS4r"
      }
    }
  ],
  "metadata": {
    "colab": {
      "provenance": []
    },
    "kernelspec": {
      "display_name": "Python 3",
      "name": "python3"
    },
    "language_info": {
      "name": "python"
    }
  },
  "nbformat": 4,
  "nbformat_minor": 0
}