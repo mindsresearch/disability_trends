{
 "cells": [
  {
   "cell_type": "markdown",
   "metadata": {},
   "source": [
    "# Historical News Data Acquisition\n",
    "\n",
    "This notebook attempts to implement a scraper that is able to acquire titles and (ideally) full-text of historical news articles."
   ]
  },
  {
   "cell_type": "markdown",
   "metadata": {},
   "source": [
    "## Identifying Databases\n",
    "\n",
    "Went through the list of databases that WWU Libraries gets and generated shortlist, then explored those DBs"
   ]
  },
  {
   "cell_type": "markdown",
   "metadata": {},
   "source": [
    "**Potential Databases:**\n",
    "- EBSCO Newspaper Source Plus\n",
    "- ProQuest\n",
    "    - *Global Newsstream*\n",
    "    - New York Times with Index (1851)\n",
    "    - Los Angeles Times (1881)\n",
    "    - Wall Street Journal (1889)\n",
    "    - Washington Post (1877)\n",
    "    - Chicago Defender (1909)\n",
    "    - Globe and Mail (1844)\n",
    "    - Ethnic Newswatch (LP)\n",
    "- Gale The Times (1785)\n",
    "- ~~NCSE Aff. Svcs.~~\n",
    "- Nexis Uni\n",
    "- Nat'l Lib. of AU Trove\n",
    "- ~~SerialsSolutions Ulrichsweb~~\n",
    "- Readex America's Historical Newspapers\n",
    "\n",
    "### Exploring\n",
    "\n",
    "**Nexis Uni**\n",
    "- Standardized RTF/PDF exporting!!!! Limited to 100 docs per DL, might hit bot detection?\n",
    "- Pretty flexible (WWU)\n",
    "- Global; might need to look into filtering...\n",
    "- \"News; English `disab*`\" returns 11M\n",
    "    - First: 1801 State of the Union Message\n",
    "    - Last: 2024\n",
    "\n",
    "**EBSCO NSP**\n",
    "- Non-standardized PDFs, HTMLs - some may need OCR, non-standard formatting; drifting into CV task\n",
    "- Would probably need to do kvm hijacking (WWU)\n",
    "- Global\n",
    "- `disab*` returns 403,727\n",
    "    - First: NR 1974 NPR *All Things Considered* Trx\n",
    "    - Last: 2024\n",
    "\n",
    "**Gale The Times**\n",
    "- Not the best OCR...\n",
    "- Potential kvm hijacking (WWU)\n",
    "- Only *The Times* (London, England)\n",
    "- \"Keyword: `disab*`\" returns 71,381\n",
    "    - First: 1785\n",
    "    - Last: 1985\n",
    "\n",
    "**Trove**\n",
    "- Community-assisted OCR?\n",
    "- Standard scraping!? (direct)\n",
    "- Australia\n",
    "- \"Newspapers & Gazettes: `disab*`\" returns 905,141\n",
    "    - First: 1804 \"Repost\" from England\n",
    "    - Last: 2021\n",
    "\n",
    "**Readex AHN**\n",
    "- Has, but not showing (not great) OCR\n",
    "- Acquisition strategy unknown (WWU)\n",
    "- USA\n",
    "- \"`disab*`\" returns 22,990\n",
    "    - First: 1704 (Boston)\n",
    "    - Last: 1879\n",
    "\n",
    "**PQ** (Assuming all other PQ DBs are subset of this)\n",
    "- HTML text, can be downloaded as PDFs!\n",
    "- Acquisition strategy unknown, kvm hijack likely\n",
    "- Global\n",
    "- \"`disab*` w/ `fullText=True`, `sourceType=HistNewsPaper,NewsPaper`\" returns 3.8M\n",
    "    - First: 1844 *The Globe* (Toronto)\n",
    "    - Last: 2024"
   ]
  },
  {
   "cell_type": "code",
   "execution_count": 3,
   "metadata": {},
   "outputs": [
    {
     "data": {
      "image/png": "[encoded data removed]",
      "text/plain": [
       "<Figure size 640x480 with 1 Axes>"
      ]
     },
     "metadata": {},
     "output_type": "display_data"
    }
   ],
   "source": [
    "# Visualizing timespans\n",
    "\n",
    "import matplotlib.pyplot as plt\n",
    "import numpy as np\n",
    "dbs = np.array(['Nexis', 'NSP', 'Gale', 'Trove', 'AHN', 'PQ'])\n",
    "sty = np.array([1801,    1974,  1785,   1804,    1704,  1844])\n",
    "edy = np.array([2024,    2024,  1985,   2021,    1879,  2024])\n",
    "plt.barh(dbs, edy-sty, left=sty)\n",
    "plt.show()"
   ]
  },
  {
   "cell_type": "markdown",
   "metadata": {},
   "source": [
    "Based on the above timespan visualization, I am opting to pursue data acquisition from the following sources:\n",
    "1. Entirety of Nexis search due to sheer volume and generous timespan\n",
    "2. Run a pilot study on AHN to determine if it's \"worth it\" and/or able to get OCR (screen reader stuff?)\n",
    "3. Run a pilot study to test if Nexis is superset of Trove\n",
    "\n",
    "Additionally, I am exploring the following data source options to suppliment and provide noise:\n",
    "- Kaggle \"All the News Dataset\", which contains 2.5M articles from between 2016 and 2020"
   ]
  }
 ],
 "metadata": {
  "kernelspec": {
   "display_name": "Python 3",
   "language": "python",
   "name": "python3"
  },
  "language_info": {
   "codemirror_mode": {
    "name": "ipython",
    "version": 3
   },
   "file_extension": ".py",
   "mimetype": "text/x-python",
   "name": "python",
   "nbconvert_exporter": "python",
   "pygments_lexer": "ipython3",
   "version": "3.12.3"
  }
 },
 "nbformat": 4,
 "nbformat_minor": 2
}
