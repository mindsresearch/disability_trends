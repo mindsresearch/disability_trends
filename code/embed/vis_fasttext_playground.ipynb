{
 "cells": [
  {
   "cell_type": "code",
   "id": "initial_id",
   "metadata": {
    "collapsed": true,
    "ExecuteTime": {
     "end_time": "2024-06-06T20:32:52.590348Z",
     "start_time": "2024-06-06T20:32:52.574954Z"
    }
   },
   "source": [
    "import matplotlib.pyplot as plt\n",
    "from sklearn.manifold import TSNE\n",
    "from gensim.models import FastText\n",
    "import numpy as np\n",
    "import plotly.graph_objects as go\n",
    "from pathlib import Path\n",
    "\n",
    "# NOTE: A good chunk of the code in this NB is reused from A4.\n",
    "\n",
    "def tsne_plot_similar_words(labels, embedding_clusters, word_clusters, a=0.7) -> go.Figure:\n",
    "    fig_data = []\n",
    "    for label, embeddings, words in zip(labels, embedding_clusters, word_clusters):\n",
    "        x = embeddings[:, 0]\n",
    "        y = embeddings[:, 1]\n",
    "        fig_data.append(go.Scatter(x=x, y=y, mode='markers', marker=dict(size=8, opacity=a),\n",
    "                                   text=words, hoverinfo='text+name', name=label))\n",
    "    layout = go.Layout(showlegend=True, legend=dict(orientation=\"h\", y=-0.2), plot_bgcolor=\"rgba(0,0,0,0)\",\n",
    "                       paper_bgcolor=\"rgba(0,0,0,0)\", title='handicap 2020 similar words')\n",
    "    fig = go.Figure(data=fig_data, layout=layout)\n",
    "    return fig"
   ],
   "outputs": [],
   "execution_count": 9
  },
  {
   "metadata": {
    "ExecuteTime": {
     "end_time": "2024-06-06T20:32:53.784288Z",
     "start_time": "2024-06-06T20:32:52.596207Z"
    }
   },
   "cell_type": "code",
   "source": [
    "term = 'handicap'\n",
    "decade = 2020\n",
    "\n",
    "print(Path.cwd())\n",
    "script_loc = Path.cwd()\n",
    "data_path = script_loc.parent/'data'\n",
    "json_path = data_path / term / f'{decade}s' / 'json'\n",
    "\n",
    "model = FastText.load(str(json_path/'fasttext_model.bin'))"
   ],
   "id": "3de221667b4cf241",
   "outputs": [
    {
     "name": "stdout",
     "output_type": "stream",
     "text": [
      "/home/noah/Documents/disability_trends/code/embed\n"
     ]
    }
   ],
   "execution_count": 10
  },
  {
   "metadata": {
    "ExecuteTime": {
     "end_time": "2024-06-06T20:32:53.805227Z",
     "start_time": "2024-06-06T20:32:53.786021Z"
    }
   },
   "cell_type": "code",
   "source": [
    "keys = ['disability', 'neurodiversity', 'autism', 'spectrum', 'handicap', 'golf']\n",
    "embedding_clusters = []\n",
    "word_clusters = []\n",
    "\n",
    "for word in keys:\n",
    "    embeddings = []\n",
    "    words = []\n",
    "    for similar_word, _ in model.wv.most_similar(word, topn=30):\n",
    "        words.append(similar_word)\n",
    "        embeddings.append(model.wv[similar_word])\n",
    "    embedding_clusters.append(embeddings)#apending access vector of all similar words\n",
    "    word_clusters.append(words)#appending list of all smiliar words"
   ],
   "id": "583c52d8ff66e925",
   "outputs": [],
   "execution_count": 11
  },
  {
   "metadata": {
    "ExecuteTime": {
     "end_time": "2024-06-06T20:32:54.630704Z",
     "start_time": "2024-06-06T20:32:53.813050Z"
    }
   },
   "cell_type": "code",
   "source": [
    "embedding_clusters = np.array(embedding_clusters)\n",
    "n, m, k = embedding_clusters.shape #geting the dimensions\n",
    "tsne_model_en_2d = TSNE(perplexity=5, n_components=2, init='pca', max_iter=1500, random_state=2020)\n",
    "embeddings_en_2d = np.array(tsne_model_en_2d.fit_transform(embedding_clusters.reshape(n * m, k))).reshape(n, m, 2) #reshaping it into 2d so we can visualize it"
   ],
   "id": "905d5ed6e5183684",
   "outputs": [],
   "execution_count": 12
  },
  {
   "metadata": {
    "ExecuteTime": {
     "end_time": "2024-06-06T20:32:54.648973Z",
     "start_time": "2024-06-06T20:32:54.632456Z"
    }
   },
   "cell_type": "code",
   "source": "tsne_plot_similar_words(keys, embeddings_en_2d, word_clusters, 0.7).show()",
   "id": "67ff28b0126780a",
   "outputs": [
    {
     "data": {
      "application/vnd.plotly.v1+json": {
       "data": [
        {
         "hoverinfo": "text+name",
         "marker": {
          "opacity": 0.7,
          "size": 8
         },
         "mode": "markers",
         "name": "disability",
         "text": [
          "susceptibility",
          "proximity",
          "versatility",
          "inability",
          "responsibility",
          "tenacity",
          "viability",
          "dignity",
          "prosperity",
          "experienced",
          "equity",
          "Effect",
          "eligibility",
          "protect",
          "non-experimental",
          "indirect",
          "mobility",
          "sustainability",
          "incapacity",
          "Ability",
          "community",
          "possibility",
          "suspect",
          "acuity",
          "creativity",
          "city",
          "Nobility",
          "variability",
          "prospect",
          "Disability"
         ],
         "x": [
          -3.3349716663360596,
          14.307731628417969,
          17.429283142089844,
          64.95682525634766,
          46.34066390991211,
          8.61606502532959,
          51.09516906738281,
          10.099891662597656,
          41.799461364746094,
          23.48708152770996,
          10.830450057983398,
          -19.968795776367188,
          0.6872466206550598,
          46.18136978149414,
          -9.887042045593262,
          23.462244033813477,
          55.01797866821289,
          12.303962707519531,
          26.86923599243164,
          60.791587829589844,
          66.16648864746094,
          46.52265167236328,
          28.97124481201172,
          11.367148399353027,
          16.89019012451172,
          61.353031158447266,
          50.56723403930664,
          36.504730224609375,
          54.14811325073242,
          49.055511474609375
         ],
         "y": [
          65.21222686767578,
          69.84827423095703,
          72.39794158935547,
          34.6964111328125,
          31.953414916992188,
          69.01006317138672,
          30.65193748474121,
          59.90114974975586,
          55.44200134277344,
          69.31764221191406,
          64.60623931884766,
          42.02592086791992,
          66.90222930908203,
          61.437137603759766,
          43.05474090576172,
          52.96183395385742,
          32.57746887207031,
          72.76437377929688,
          54.21591567993164,
          32.22281265258789,
          41.43131637573242,
          51.38321304321289,
          66.37530517578125,
          67.14046478271484,
          68.86994171142578,
          36.679473876953125,
          21.679378509521484,
          23.693891525268555,
          57.58010482788086,
          25.53656768798828
         ],
         "type": "scatter"
        },
        {
         "hoverinfo": "text+name",
         "marker": {
          "opacity": 0.7,
          "size": 8
         },
         "mode": "markers",
         "name": "neurodiversity",
         "text": [
          "university",
          "adversity",
          "Incremental",
          "duty",
          "Dementia",
          "Security",
          "engage",
          "Prosperity",
          "fundamental",
          "psychosocial",
          "automatic",
          "Epassport",
          "Tangental",
          "perceptual",
          "M-Oriental",
          "correspondent",
          "Management",
          "pneumatic",
          "elect",
          "perennial",
          "Womens",
          "Intermediate",
          "Oriental",
          "Patient",
          "Capacity",
          "chemistry",
          "Tactical",
          "usage",
          "Community",
          "newswire"
         ],
         "x": [
          -0.6628074049949646,
          -0.14239509403705597,
          8.240927696228027,
          -16.367185592651367,
          5.885901927947998,
          -9.810609817504883,
          -11.365549087524414,
          -7.755774021148682,
          10.20421314239502,
          -4.567858695983887,
          -16.704883575439453,
          -15.080873489379883,
          -0.8660550713539124,
          -14.840694427490234,
          -3.197723627090454,
          12.705963134765625,
          25.01089859008789,
          -4.386563777923584,
          -6.501949787139893,
          11.346017837524414,
          -17.42509651184082,
          -13.696135520935059,
          -0.2117183357477188,
          23.907922744750977,
          -1.4918653964996338,
          -4.067553520202637,
          11.170583724975586,
          -14.421040534973145,
          4.514301300048828,
          -19.261316299438477
         ],
         "y": [
          -2.2979378700256348,
          3.263624668121338,
          -5.503937244415283,
          -18.052196502685547,
          -4.759524822235107,
          -8.106874465942383,
          -14.664105415344238,
          -6.454101085662842,
          -6.358587741851807,
          -22.310989379882812,
          -13.161140441894531,
          -22.201574325561523,
          -15.082908630371094,
          -24.491994857788086,
          -18.510601043701172,
          -2.6732258796691895,
          8.42077350616455,
          -25.705215454101562,
          -2.4508183002471924,
          -12.08913803100586,
          -11.322915077209473,
          -10.49227523803711,
          -13.036968231201172,
          6.8985514640808105,
          7.651904106140137,
          -5.0922112464904785,
          -14.225945472717285,
          -17.130979537963867,
          11.47497272491455,
          -8.131294250488281
         ],
         "type": "scatter"
        },
        {
         "hoverinfo": "text+name",
         "marker": {
          "opacity": 0.7,
          "size": 8
         },
         "mode": "markers",
         "name": "autism",
         "text": [
          "Impaire",
          "Gift",
          "usuario",
          "Artistic",
          "Valentina",
          "Bravemansgame",
          "Peasy",
          "meaningful",
          "Argentina",
          "Ilaraab",
          "Inch",
          "sleepless",
          "ominous",
          "Okeechobee",
          "Nathaniel",
          "Pierre",
          "Celtic",
          "baroque",
          "amplify",
          "Aucunrisque",
          "Affair",
          "Narstie",
          "Ephesus",
          "Economics",
          "membranous",
          "Centara",
          "Rotich",
          "http://frontiersin.org/neurology).",
          "citizen",
          "Flemen"
         ],
         "x": [
          28.502079010009766,
          29.236583709716797,
          -8.542350769042969,
          18.362342834472656,
          24.884601593017578,
          1.461611032485962,
          25.55786895751953,
          24.97545051574707,
          21.231813430786133,
          -6.570879936218262,
          27.96109390258789,
          27.915523529052734,
          22.892105102539062,
          -3.519275188446045,
          31.626855850219727,
          16.256114959716797,
          14.87667179107666,
          3.886136293411255,
          -7.133895397186279,
          -9.19675064086914,
          11.394707679748535,
          17.170244216918945,
          -8.34633731842041,
          -11.733983039855957,
          22.93594741821289,
          23.999149322509766,
          22.462373733520508,
          -6.8619866371154785,
          20.594907760620117,
          13.866523742675781
         ],
         "y": [
          -66.56254577636719,
          -57.5874137878418,
          -70.74140930175781,
          -61.28636932373047,
          -67.81439971923828,
          -72.55060577392578,
          -81.09367370605469,
          -70.77783203125,
          -67.494140625,
          -73.09640502929688,
          -55.993900299072266,
          -71.60765075683594,
          -81.7137680053711,
          -72.13416290283203,
          -59.718482971191406,
          -65.84182739257812,
          -69.23593139648438,
          -72.42607116699219,
          -80.57221221923828,
          -77.29647827148438,
          -70.8982925415039,
          -69.21199035644531,
          -74.3817367553711,
          -71.87928771972656,
          -79.58485412597656,
          -61.145042419433594,
          -63.697181701660156,
          -77.6849365234375,
          -75.76315307617188,
          -63.7603874206543
         ],
         "type": "scatter"
        },
        {
         "hoverinfo": "text+name",
         "marker": {
          "opacity": 0.7,
          "size": 8
         },
         "mode": "markers",
         "name": "spectrum",
         "text": [
          "spectator",
          "specific",
          "dignity",
          "percentage",
          "popularity",
          "prosperity",
          "prospector",
          "specialize",
          "affect",
          "specialized",
          "hospitality",
          "Effect",
          "perspective",
          "respectful",
          "indirect",
          "prospect",
          "operator",
          "object",
          "vitality",
          "protect",
          "prospective",
          "irrespective",
          "non-experimental",
          "quality",
          "direct",
          "Reinforcement",
          "suspect",
          "acknowledgment",
          "perfect",
          "eject"
         ],
         "x": [
          -22.001598358154297,
          -14.936637878417969,
          10.099891662597656,
          -12.584086418151855,
          -10.320247650146484,
          43.550453186035156,
          39.33785629272461,
          -26.557479858398438,
          -18.558422088623047,
          -30.11276626586914,
          -6.789847373962402,
          -20.324787139892578,
          55.36017608642578,
          -17.42629623413086,
          23.462244033813477,
          55.917240142822266,
          -9.891061782836914,
          -28.907546997070312,
          6.630786895751953,
          46.18136978149414,
          55.06169128417969,
          -20.138019561767578,
          -9.87686824798584,
          43.343448638916016,
          11.334564208984375,
          -11.954924583435059,
          28.97124481201172,
          -13.8822660446167,
          41.139896392822266,
          -25.310094833374023
         ],
         "y": [
          49.81050109863281,
          55.25325012207031,
          59.90114974975586,
          64.46977233886719,
          65.4344253540039,
          55.26040267944336,
          58.05174255371094,
          54.27873992919922,
          47.09126281738281,
          53.68339920043945,
          64.7932357788086,
          39.663238525390625,
          65.04622650146484,
          65.226318359375,
          52.96183395385742,
          58.11682891845703,
          68.72419738769531,
          35.61085891723633,
          58.63520431518555,
          61.437137603759766,
          62.335304260253906,
          65.18026733398438,
          41.23381042480469,
          34.49135971069336,
          55.677978515625,
          50.32953643798828,
          66.37530517578125,
          51.41088104248047,
          51.82859420776367,
          36.00276565551758
         ],
         "type": "scatter"
        },
        {
         "hoverinfo": "text+name",
         "marker": {
          "opacity": 0.7,
          "size": 8
         },
         "mode": "markers",
         "name": "handicap",
         "text": [
          "mid-handicap",
          "non-handicap",
          "taskhandicap",
          "handicape",
          "gle-handicap",
          "handicaps@uspolo.org",
          "handicapmd.com",
          "handicapping",
          "handic",
          "dicap",
          "handicappers",
          "handicapper",
          "handicapped",
          "goqHandicap",
          "help@handicapmd.com",
          "Handicapper",
          "Handicapped",
          "Eric@handicapitated.org",
          "cap",
          "wellhandicapped",
          "Handicappers",
          "HandicapMD",
          "Handicap",
          "HandicapMD.com",
          "syndicate",
          "https://www.handicapmd.com/",
          "Handicapitated.org",
          "bandit",
          "p'cap",
          "https://golfinsideruk.com/how-to-lower-your-handicap"
         ],
         "x": [
          -78.73257446289062,
          -76.16999816894531,
          -75.95613098144531,
          -75.77793884277344,
          -78.34563446044922,
          -61.865753173828125,
          -68.25935363769531,
          -70.00450134277344,
          -73.06314086914062,
          -81.44979095458984,
          -72.14929962158203,
          -71.41917419433594,
          -73.5566635131836,
          -78.99907684326172,
          -59.15165328979492,
          -71.78265380859375,
          -72.17469024658203,
          -58.65620803833008,
          -81.1970443725586,
          -69.40841674804688,
          -69.72001647949219,
          -76.69308471679688,
          -84.6181411743164,
          -66.12479400634766,
          -61.00371170043945,
          -56.95150375366211,
          -63.72842025756836,
          -56.83910369873047,
          -60.453975677490234,
          -54.87862777709961
         ],
         "y": [
          -20.521984100341797,
          -19.520633697509766,
          -22.166818618774414,
          2.9830191135406494,
          -23.144386291503906,
          -16.402210235595703,
          -13.363791465759277,
          -2.4831161499023438,
          3.61997652053833,
          -31.221031188964844,
          -2.9440414905548096,
          1.394618272781372,
          -0.315065860748291,
          -33.35488510131836,
          -16.78215789794922,
          -36.54978561401367,
          -34.110748291015625,
          -19.88360595703125,
          -36.23891830444336,
          -7.703378200531006,
          -34.38486099243164,
          -33.2421875,
          -30.996227264404297,
          -32.847293853759766,
          -21.535282135009766,
          -21.42474365234375,
          -31.621732711791992,
          -14.764491081237793,
          -29.857097625732422,
          -23.15359115600586
         ],
         "type": "scatter"
        },
        {
         "hoverinfo": "text+name",
         "marker": {
          "opacity": 0.7,
          "size": 8
         },
         "mode": "markers",
         "name": "golf",
         "text": [
          "wolf",
          "varsity",
          "permit",
          "golfer",
          "its",
          "individualism",
          "responsibility",
          "sport",
          "variability",
          "eject",
          "Ability",
          "Incapacity",
          "mentor",
          "Disability",
          "authority",
          "Capacity",
          "Effect",
          "aspect",
          "author",
          "specialize",
          "Varsity",
          "eligibility",
          "object",
          "honor",
          "Nduati",
          "Nobility",
          "individual",
          "orientate",
          "neglect",
          "disability"
         ],
         "x": [
          -12.404932975769043,
          -9.216580390930176,
          60.76200485229492,
          57.11893844604492,
          32.33708572387695,
          21.466506958007812,
          44.924076080322266,
          70.65711212158203,
          36.504730224609375,
          -27.084447860717773,
          62.49838638305664,
          -3.3271963596343994,
          31.892772674560547,
          51.13411331176758,
          31.00334358215332,
          -0.30001571774482727,
          -18.028989791870117,
          49.449440002441406,
          28.98145866394043,
          -27.3292293548584,
          -7.675541400909424,
          0.8740025758743286,
          -27.10470962524414,
          -24.309511184692383,
          -4.071035385131836,
          48.35873031616211,
          68.3478012084961,
          4.152812957763672,
          -17.874467849731445,
          65.95368194580078
         ],
         "y": [
          20.632627487182617,
          21.605438232421875,
          27.56593894958496,
          54.38811111450195,
          24.43332862854004,
          49.434871673583984,
          30.722158432006836,
          36.554874420166016,
          23.693891525268555,
          37.74983596801758,
          31.554380416870117,
          10.346145629882812,
          15.296008110046387,
          25.22926902770996,
          18.34882926940918,
          9.036388397216797,
          40.60185241699219,
          50.534183502197266,
          19.512632369995117,
          55.92776107788086,
          22.676136016845703,
          65.03395080566406,
          33.88250732421875,
          47.260318756103516,
          -27.782257080078125,
          22.04802894592285,
          33.34685134887695,
          13.694540977478027,
          36.5032958984375,
          37.88519287109375
         ],
         "type": "scatter"
        }
       ],
       "layout": {
        "legend": {
         "orientation": "h",
         "y": -0.2
        },
        "paper_bgcolor": "rgba(0,0,0,0)",
        "plot_bgcolor": "rgba(0,0,0,0)",
        "showlegend": true,
        "title": {
         "text": "handicap 2020 similar words"
        },
        "template": {
         "data": {
          "histogram2dcontour": [
           {
            "type": "histogram2dcontour",
            "colorbar": {
             "outlinewidth": 0,
             "ticks": ""
            },
            "colorscale": [
             [
              0.0,
              "#0d0887"
             ],
             [
              0.1111111111111111,
              "#46039f"
             ],
             [
              0.2222222222222222,
              "#7201a8"
             ],
             [
              0.3333333333333333,
              "#9c179e"
             ],
             [
              0.4444444444444444,
              "#bd3786"
             ],
             [
              0.5555555555555556,
              "#d8576b"
             ],
             [
              0.6666666666666666,
              "#ed7953"
             ],
             [
              0.7777777777777778,
              "#fb9f3a"
             ],
             [
              0.8888888888888888,
              "#fdca26"
             ],
             [
              1.0,
              "#f0f921"
             ]
            ]
           }
          ],
          "choropleth": [
           {
            "type": "choropleth",
            "colorbar": {
             "outlinewidth": 0,
             "ticks": ""
            }
           }
          ],
          "histogram2d": [
           {
            "type": "histogram2d",
            "colorbar": {
             "outlinewidth": 0,
             "ticks": ""
            },
            "colorscale": [
             [
              0.0,
              "#0d0887"
             ],
             [
              0.1111111111111111,
              "#46039f"
             ],
             [
              0.2222222222222222,
              "#7201a8"
             ],
             [
              0.3333333333333333,
              "#9c179e"
             ],
             [
              0.4444444444444444,
              "#bd3786"
             ],
             [
              0.5555555555555556,
              "#d8576b"
             ],
             [
              0.6666666666666666,
              "#ed7953"
             ],
             [
              0.7777777777777778,
              "#fb9f3a"
             ],
             [
              0.8888888888888888,
              "#fdca26"
             ],
             [
              1.0,
              "#f0f921"
             ]
            ]
           }
          ],
          "heatmap": [
           {
            "type": "heatmap",
            "colorbar": {
             "outlinewidth": 0,
             "ticks": ""
            },
            "colorscale": [
             [
              0.0,
              "#0d0887"
             ],
             [
              0.1111111111111111,
              "#46039f"
             ],
             [
              0.2222222222222222,
              "#7201a8"
             ],
             [
              0.3333333333333333,
              "#9c179e"
             ],
             [
              0.4444444444444444,
              "#bd3786"
             ],
             [
              0.5555555555555556,
              "#d8576b"
             ],
             [
              0.6666666666666666,
              "#ed7953"
             ],
             [
              0.7777777777777778,
              "#fb9f3a"
             ],
             [
              0.8888888888888888,
              "#fdca26"
             ],
             [
              1.0,
              "#f0f921"
             ]
            ]
           }
          ],
          "heatmapgl": [
           {
            "type": "heatmapgl",
            "colorbar": {
             "outlinewidth": 0,
             "ticks": ""
            },
            "colorscale": [
             [
              0.0,
              "#0d0887"
             ],
             [
              0.1111111111111111,
              "#46039f"
             ],
             [
              0.2222222222222222,
              "#7201a8"
             ],
             [
              0.3333333333333333,
              "#9c179e"
             ],
             [
              0.4444444444444444,
              "#bd3786"
             ],
             [
              0.5555555555555556,
              "#d8576b"
             ],
             [
              0.6666666666666666,
              "#ed7953"
             ],
             [
              0.7777777777777778,
              "#fb9f3a"
             ],
             [
              0.8888888888888888,
              "#fdca26"
             ],
             [
              1.0,
              "#f0f921"
             ]
            ]
           }
          ],
          "contourcarpet": [
           {
            "type": "contourcarpet",
            "colorbar": {
             "outlinewidth": 0,
             "ticks": ""
            }
           }
          ],
          "contour": [
           {
            "type": "contour",
            "colorbar": {
             "outlinewidth": 0,
             "ticks": ""
            },
            "colorscale": [
             [
              0.0,
              "#0d0887"
             ],
             [
              0.1111111111111111,
              "#46039f"
             ],
             [
              0.2222222222222222,
              "#7201a8"
             ],
             [
              0.3333333333333333,
              "#9c179e"
             ],
             [
              0.4444444444444444,
              "#bd3786"
             ],
             [
              0.5555555555555556,
              "#d8576b"
             ],
             [
              0.6666666666666666,
              "#ed7953"
             ],
             [
              0.7777777777777778,
              "#fb9f3a"
             ],
             [
              0.8888888888888888,
              "#fdca26"
             ],
             [
              1.0,
              "#f0f921"
             ]
            ]
           }
          ],
          "surface": [
           {
            "type": "surface",
            "colorbar": {
             "outlinewidth": 0,
             "ticks": ""
            },
            "colorscale": [
             [
              0.0,
              "#0d0887"
             ],
             [
              0.1111111111111111,
              "#46039f"
             ],
             [
              0.2222222222222222,
              "#7201a8"
             ],
             [
              0.3333333333333333,
              "#9c179e"
             ],
             [
              0.4444444444444444,
              "#bd3786"
             ],
             [
              0.5555555555555556,
              "#d8576b"
             ],
             [
              0.6666666666666666,
              "#ed7953"
             ],
             [
              0.7777777777777778,
              "#fb9f3a"
             ],
             [
              0.8888888888888888,
              "#fdca26"
             ],
             [
              1.0,
              "#f0f921"
             ]
            ]
           }
          ],
          "mesh3d": [
           {
            "type": "mesh3d",
            "colorbar": {
             "outlinewidth": 0,
             "ticks": ""
            }
           }
          ],
          "scatter": [
           {
            "marker": {
             "line": {
              "color": "#283442"
             }
            },
            "type": "scatter"
           }
          ],
          "parcoords": [
           {
            "type": "parcoords",
            "line": {
             "colorbar": {
              "outlinewidth": 0,
              "ticks": ""
             }
            }
           }
          ],
          "scatterpolargl": [
           {
            "type": "scatterpolargl",
            "marker": {
             "colorbar": {
              "outlinewidth": 0,
              "ticks": ""
             }
            }
           }
          ],
          "bar": [
           {
            "error_x": {
             "color": "#f2f5fa"
            },
            "error_y": {
             "color": "#f2f5fa"
            },
            "marker": {
             "line": {
              "color": "rgb(17,17,17)",
              "width": 0.5
             },
             "pattern": {
              "fillmode": "overlay",
              "size": 10,
              "solidity": 0.2
             }
            },
            "type": "bar"
           }
          ],
          "scattergeo": [
           {
            "type": "scattergeo",
            "marker": {
             "colorbar": {
              "outlinewidth": 0,
              "ticks": ""
             }
            }
           }
          ],
          "scatterpolar": [
           {
            "type": "scatterpolar",
            "marker": {
             "colorbar": {
              "outlinewidth": 0,
              "ticks": ""
             }
            }
           }
          ],
          "histogram": [
           {
            "marker": {
             "pattern": {
              "fillmode": "overlay",
              "size": 10,
              "solidity": 0.2
             }
            },
            "type": "histogram"
           }
          ],
          "scattergl": [
           {
            "marker": {
             "line": {
              "color": "#283442"
             }
            },
            "type": "scattergl"
           }
          ],
          "scatter3d": [
           {
            "type": "scatter3d",
            "line": {
             "colorbar": {
              "outlinewidth": 0,
              "ticks": ""
             }
            },
            "marker": {
             "colorbar": {
              "outlinewidth": 0,
              "ticks": ""
             }
            }
           }
          ],
          "scattermapbox": [
           {
            "type": "scattermapbox",
            "marker": {
             "colorbar": {
              "outlinewidth": 0,
              "ticks": ""
             }
            }
           }
          ],
          "scatterternary": [
           {
            "type": "scatterternary",
            "marker": {
             "colorbar": {
              "outlinewidth": 0,
              "ticks": ""
             }
            }
           }
          ],
          "scattercarpet": [
           {
            "type": "scattercarpet",
            "marker": {
             "colorbar": {
              "outlinewidth": 0,
              "ticks": ""
             }
            }
           }
          ],
          "carpet": [
           {
            "aaxis": {
             "endlinecolor": "#A2B1C6",
             "gridcolor": "#506784",
             "linecolor": "#506784",
             "minorgridcolor": "#506784",
             "startlinecolor": "#A2B1C6"
            },
            "baxis": {
             "endlinecolor": "#A2B1C6",
             "gridcolor": "#506784",
             "linecolor": "#506784",
             "minorgridcolor": "#506784",
             "startlinecolor": "#A2B1C6"
            },
            "type": "carpet"
           }
          ],
          "table": [
           {
            "cells": {
             "fill": {
              "color": "#506784"
             },
             "line": {
              "color": "rgb(17,17,17)"
             }
            },
            "header": {
             "fill": {
              "color": "#2a3f5f"
             },
             "line": {
              "color": "rgb(17,17,17)"
             }
            },
            "type": "table"
           }
          ],
          "barpolar": [
           {
            "marker": {
             "line": {
              "color": "rgb(17,17,17)",
              "width": 0.5
             },
             "pattern": {
              "fillmode": "overlay",
              "size": 10,
              "solidity": 0.2
             }
            },
            "type": "barpolar"
           }
          ],
          "pie": [
           {
            "automargin": true,
            "type": "pie"
           }
          ]
         },
         "layout": {
          "autotypenumbers": "strict",
          "colorway": [
           "#636efa",
           "#EF553B",
           "#00cc96",
           "#ab63fa",
           "#FFA15A",
           "#19d3f3",
           "#FF6692",
           "#B6E880",
           "#FF97FF",
           "#FECB52"
          ],
          "font": {
           "color": "#f2f5fa"
          },
          "hovermode": "closest",
          "hoverlabel": {
           "align": "left"
          },
          "paper_bgcolor": "rgb(17,17,17)",
          "plot_bgcolor": "rgb(17,17,17)",
          "polar": {
           "bgcolor": "rgb(17,17,17)",
           "angularaxis": {
            "gridcolor": "#506784",
            "linecolor": "#506784",
            "ticks": ""
           },
           "radialaxis": {
            "gridcolor": "#506784",
            "linecolor": "#506784",
            "ticks": ""
           }
          },
          "ternary": {
           "bgcolor": "rgb(17,17,17)",
           "aaxis": {
            "gridcolor": "#506784",
            "linecolor": "#506784",
            "ticks": ""
           },
           "baxis": {
            "gridcolor": "#506784",
            "linecolor": "#506784",
            "ticks": ""
           },
           "caxis": {
            "gridcolor": "#506784",
            "linecolor": "#506784",
            "ticks": ""
           }
          },
          "coloraxis": {
           "colorbar": {
            "outlinewidth": 0,
            "ticks": ""
           }
          },
          "colorscale": {
           "sequential": [
            [
             0.0,
             "#0d0887"
            ],
            [
             0.1111111111111111,
             "#46039f"
            ],
            [
             0.2222222222222222,
             "#7201a8"
            ],
            [
             0.3333333333333333,
             "#9c179e"
            ],
            [
             0.4444444444444444,
             "#bd3786"
            ],
            [
             0.5555555555555556,
             "#d8576b"
            ],
            [
             0.6666666666666666,
             "#ed7953"
            ],
            [
             0.7777777777777778,
             "#fb9f3a"
            ],
            [
             0.8888888888888888,
             "#fdca26"
            ],
            [
             1.0,
             "#f0f921"
            ]
           ],
           "sequentialminus": [
            [
             0.0,
             "#0d0887"
            ],
            [
             0.1111111111111111,
             "#46039f"
            ],
            [
             0.2222222222222222,
             "#7201a8"
            ],
            [
             0.3333333333333333,
             "#9c179e"
            ],
            [
             0.4444444444444444,
             "#bd3786"
            ],
            [
             0.5555555555555556,
             "#d8576b"
            ],
            [
             0.6666666666666666,
             "#ed7953"
            ],
            [
             0.7777777777777778,
             "#fb9f3a"
            ],
            [
             0.8888888888888888,
             "#fdca26"
            ],
            [
             1.0,
             "#f0f921"
            ]
           ],
           "diverging": [
            [
             0,
             "#8e0152"
            ],
            [
             0.1,
             "#c51b7d"
            ],
            [
             0.2,
             "#de77ae"
            ],
            [
             0.3,
             "#f1b6da"
            ],
            [
             0.4,
             "#fde0ef"
            ],
            [
             0.5,
             "#f7f7f7"
            ],
            [
             0.6,
             "#e6f5d0"
            ],
            [
             0.7,
             "#b8e186"
            ],
            [
             0.8,
             "#7fbc41"
            ],
            [
             0.9,
             "#4d9221"
            ],
            [
             1,
             "#276419"
            ]
           ]
          },
          "xaxis": {
           "gridcolor": "#283442",
           "linecolor": "#506784",
           "ticks": "",
           "title": {
            "standoff": 15
           },
           "zerolinecolor": "#283442",
           "automargin": true,
           "zerolinewidth": 2
          },
          "yaxis": {
           "gridcolor": "#283442",
           "linecolor": "#506784",
           "ticks": "",
           "title": {
            "standoff": 15
           },
           "zerolinecolor": "#283442",
           "automargin": true,
           "zerolinewidth": 2
          },
          "scene": {
           "xaxis": {
            "backgroundcolor": "rgb(17,17,17)",
            "gridcolor": "#506784",
            "linecolor": "#506784",
            "showbackground": true,
            "ticks": "",
            "zerolinecolor": "#C8D4E3",
            "gridwidth": 2
           },
           "yaxis": {
            "backgroundcolor": "rgb(17,17,17)",
            "gridcolor": "#506784",
            "linecolor": "#506784",
            "showbackground": true,
            "ticks": "",
            "zerolinecolor": "#C8D4E3",
            "gridwidth": 2
           },
           "zaxis": {
            "backgroundcolor": "rgb(17,17,17)",
            "gridcolor": "#506784",
            "linecolor": "#506784",
            "showbackground": true,
            "ticks": "",
            "zerolinecolor": "#C8D4E3",
            "gridwidth": 2
           }
          },
          "shapedefaults": {
           "line": {
            "color": "#f2f5fa"
           }
          },
          "annotationdefaults": {
           "arrowcolor": "#f2f5fa",
           "arrowhead": 0,
           "arrowwidth": 1
          },
          "geo": {
           "bgcolor": "rgb(17,17,17)",
           "landcolor": "rgb(17,17,17)",
           "subunitcolor": "#506784",
           "showland": true,
           "showlakes": true,
           "lakecolor": "rgb(17,17,17)"
          },
          "title": {
           "x": 0.05
          },
          "updatemenudefaults": {
           "bgcolor": "#506784",
           "borderwidth": 0
          },
          "sliderdefaults": {
           "bgcolor": "#C8D4E3",
           "borderwidth": 1,
           "bordercolor": "rgb(17,17,17)",
           "tickwidth": 0
          },
          "mapbox": {
           "style": "dark"
          }
         }
        }
       },
       "config": {
        "plotlyServerURL": "https://plot.ly"
       }
      },
      "text/html": [
       "<div>                            <div id=\"82367bee-9543-4da4-9944-2041d40f36a3\" class=\"plotly-graph-div\" style=\"height:525px; width:100%;\"></div>            <script type=\"text/javascript\">                require([\"plotly\"], function(Plotly) {                    window.PLOTLYENV=window.PLOTLYENV || {};                                    if (document.getElementById(\"82367bee-9543-4da4-9944-2041d40f36a3\")) {                    Plotly.newPlot(                        \"82367bee-9543-4da4-9944-2041d40f36a3\",                        [{\"hoverinfo\":\"text+name\",\"marker\":{\"opacity\":0.7,\"size\":8},\"mode\":\"markers\",\"name\":\"disability\",\"text\":[\"susceptibility\",\"proximity\",\"versatility\",\"inability\",\"responsibility\",\"tenacity\",\"viability\",\"dignity\",\"prosperity\",\"experienced\",\"equity\",\"Effect\",\"eligibility\",\"protect\",\"non-experimental\",\"indirect\",\"mobility\",\"sustainability\",\"incapacity\",\"Ability\",\"community\",\"possibility\",\"suspect\",\"acuity\",\"creativity\",\"city\",\"Nobility\",\"variability\",\"prospect\",\"Disability\"],\"x\":[-3.3349716663360596,14.307731628417969,17.429283142089844,64.95682525634766,46.34066390991211,8.61606502532959,51.09516906738281,10.099891662597656,41.799461364746094,23.48708152770996,10.830450057983398,-19.968795776367188,0.6872466206550598,46.18136978149414,-9.887042045593262,23.462244033813477,55.01797866821289,12.303962707519531,26.86923599243164,60.791587829589844,66.16648864746094,46.52265167236328,28.97124481201172,11.367148399353027,16.89019012451172,61.353031158447266,50.56723403930664,36.504730224609375,54.14811325073242,49.055511474609375],\"y\":[65.21222686767578,69.84827423095703,72.39794158935547,34.6964111328125,31.953414916992188,69.01006317138672,30.65193748474121,59.90114974975586,55.44200134277344,69.31764221191406,64.60623931884766,42.02592086791992,66.90222930908203,61.437137603759766,43.05474090576172,52.96183395385742,32.57746887207031,72.76437377929688,54.21591567993164,32.22281265258789,41.43131637573242,51.38321304321289,66.37530517578125,67.14046478271484,68.86994171142578,36.679473876953125,21.679378509521484,23.693891525268555,57.58010482788086,25.53656768798828],\"type\":\"scatter\"},{\"hoverinfo\":\"text+name\",\"marker\":{\"opacity\":0.7,\"size\":8},\"mode\":\"markers\",\"name\":\"neurodiversity\",\"text\":[\"university\",\"adversity\",\"Incremental\",\"duty\",\"Dementia\",\"Security\",\"engage\",\"Prosperity\",\"fundamental\",\"psychosocial\",\"automatic\",\"Epassport\",\"Tangental\",\"perceptual\",\"M-Oriental\",\"correspondent\",\"Management\",\"pneumatic\",\"elect\",\"perennial\",\"Womens\",\"Intermediate\",\"Oriental\",\"Patient\",\"Capacity\",\"chemistry\",\"Tactical\",\"usage\",\"Community\",\"newswire\"],\"x\":[-0.6628074049949646,-0.14239509403705597,8.240927696228027,-16.367185592651367,5.885901927947998,-9.810609817504883,-11.365549087524414,-7.755774021148682,10.20421314239502,-4.567858695983887,-16.704883575439453,-15.080873489379883,-0.8660550713539124,-14.840694427490234,-3.197723627090454,12.705963134765625,25.01089859008789,-4.386563777923584,-6.501949787139893,11.346017837524414,-17.42509651184082,-13.696135520935059,-0.2117183357477188,23.907922744750977,-1.4918653964996338,-4.067553520202637,11.170583724975586,-14.421040534973145,4.514301300048828,-19.261316299438477],\"y\":[-2.2979378700256348,3.263624668121338,-5.503937244415283,-18.052196502685547,-4.759524822235107,-8.106874465942383,-14.664105415344238,-6.454101085662842,-6.358587741851807,-22.310989379882812,-13.161140441894531,-22.201574325561523,-15.082908630371094,-24.491994857788086,-18.510601043701172,-2.6732258796691895,8.42077350616455,-25.705215454101562,-2.4508183002471924,-12.08913803100586,-11.322915077209473,-10.49227523803711,-13.036968231201172,6.8985514640808105,7.651904106140137,-5.0922112464904785,-14.225945472717285,-17.130979537963867,11.47497272491455,-8.131294250488281],\"type\":\"scatter\"},{\"hoverinfo\":\"text+name\",\"marker\":{\"opacity\":0.7,\"size\":8},\"mode\":\"markers\",\"name\":\"autism\",\"text\":[\"Impaire\",\"Gift\",\"usuario\",\"Artistic\",\"Valentina\",\"Bravemansgame\",\"Peasy\",\"meaningful\",\"Argentina\",\"Ilaraab\",\"Inch\",\"sleepless\",\"ominous\",\"Okeechobee\",\"Nathaniel\",\"Pierre\",\"Celtic\",\"baroque\",\"amplify\",\"Aucunrisque\",\"Affair\",\"Narstie\",\"Ephesus\",\"Economics\",\"membranous\",\"Centara\",\"Rotich\",\"http:\\u002f\\u002ffrontiersin.org\\u002fneurology).\",\"citizen\",\"Flemen\"],\"x\":[28.502079010009766,29.236583709716797,-8.542350769042969,18.362342834472656,24.884601593017578,1.461611032485962,25.55786895751953,24.97545051574707,21.231813430786133,-6.570879936218262,27.96109390258789,27.915523529052734,22.892105102539062,-3.519275188446045,31.626855850219727,16.256114959716797,14.87667179107666,3.886136293411255,-7.133895397186279,-9.19675064086914,11.394707679748535,17.170244216918945,-8.34633731842041,-11.733983039855957,22.93594741821289,23.999149322509766,22.462373733520508,-6.8619866371154785,20.594907760620117,13.866523742675781],\"y\":[-66.56254577636719,-57.5874137878418,-70.74140930175781,-61.28636932373047,-67.81439971923828,-72.55060577392578,-81.09367370605469,-70.77783203125,-67.494140625,-73.09640502929688,-55.993900299072266,-71.60765075683594,-81.7137680053711,-72.13416290283203,-59.718482971191406,-65.84182739257812,-69.23593139648438,-72.42607116699219,-80.57221221923828,-77.29647827148438,-70.8982925415039,-69.21199035644531,-74.3817367553711,-71.87928771972656,-79.58485412597656,-61.145042419433594,-63.697181701660156,-77.6849365234375,-75.76315307617188,-63.7603874206543],\"type\":\"scatter\"},{\"hoverinfo\":\"text+name\",\"marker\":{\"opacity\":0.7,\"size\":8},\"mode\":\"markers\",\"name\":\"spectrum\",\"text\":[\"spectator\",\"specific\",\"dignity\",\"percentage\",\"popularity\",\"prosperity\",\"prospector\",\"specialize\",\"affect\",\"specialized\",\"hospitality\",\"Effect\",\"perspective\",\"respectful\",\"indirect\",\"prospect\",\"operator\",\"object\",\"vitality\",\"protect\",\"prospective\",\"irrespective\",\"non-experimental\",\"quality\",\"direct\",\"Reinforcement\",\"suspect\",\"acknowledgment\",\"perfect\",\"eject\"],\"x\":[-22.001598358154297,-14.936637878417969,10.099891662597656,-12.584086418151855,-10.320247650146484,43.550453186035156,39.33785629272461,-26.557479858398438,-18.558422088623047,-30.11276626586914,-6.789847373962402,-20.324787139892578,55.36017608642578,-17.42629623413086,23.462244033813477,55.917240142822266,-9.891061782836914,-28.907546997070312,6.630786895751953,46.18136978149414,55.06169128417969,-20.138019561767578,-9.87686824798584,43.343448638916016,11.334564208984375,-11.954924583435059,28.97124481201172,-13.8822660446167,41.139896392822266,-25.310094833374023],\"y\":[49.81050109863281,55.25325012207031,59.90114974975586,64.46977233886719,65.4344253540039,55.26040267944336,58.05174255371094,54.27873992919922,47.09126281738281,53.68339920043945,64.7932357788086,39.663238525390625,65.04622650146484,65.226318359375,52.96183395385742,58.11682891845703,68.72419738769531,35.61085891723633,58.63520431518555,61.437137603759766,62.335304260253906,65.18026733398438,41.23381042480469,34.49135971069336,55.677978515625,50.32953643798828,66.37530517578125,51.41088104248047,51.82859420776367,36.00276565551758],\"type\":\"scatter\"},{\"hoverinfo\":\"text+name\",\"marker\":{\"opacity\":0.7,\"size\":8},\"mode\":\"markers\",\"name\":\"handicap\",\"text\":[\"mid-handicap\",\"non-handicap\",\"taskhandicap\",\"handicape\",\"gle-handicap\",\"handicaps@uspolo.org\",\"handicapmd.com\",\"handicapping\",\"handic\",\"dicap\",\"handicappers\",\"handicapper\",\"handicapped\",\"goqHandicap\",\"help@handicapmd.com\",\"Handicapper\",\"Handicapped\",\"Eric@handicapitated.org\",\"cap\",\"wellhandicapped\",\"Handicappers\",\"HandicapMD\",\"Handicap\",\"HandicapMD.com\",\"syndicate\",\"https:\\u002f\\u002fwww.handicapmd.com\\u002f\",\"Handicapitated.org\",\"bandit\",\"p'cap\",\"https:\\u002f\\u002fgolfinsideruk.com\\u002fhow-to-lower-your-handicap\"],\"x\":[-78.73257446289062,-76.16999816894531,-75.95613098144531,-75.77793884277344,-78.34563446044922,-61.865753173828125,-68.25935363769531,-70.00450134277344,-73.06314086914062,-81.44979095458984,-72.14929962158203,-71.41917419433594,-73.5566635131836,-78.99907684326172,-59.15165328979492,-71.78265380859375,-72.17469024658203,-58.65620803833008,-81.1970443725586,-69.40841674804688,-69.72001647949219,-76.69308471679688,-84.6181411743164,-66.12479400634766,-61.00371170043945,-56.95150375366211,-63.72842025756836,-56.83910369873047,-60.453975677490234,-54.87862777709961],\"y\":[-20.521984100341797,-19.520633697509766,-22.166818618774414,2.9830191135406494,-23.144386291503906,-16.402210235595703,-13.363791465759277,-2.4831161499023438,3.61997652053833,-31.221031188964844,-2.9440414905548096,1.394618272781372,-0.315065860748291,-33.35488510131836,-16.78215789794922,-36.54978561401367,-34.110748291015625,-19.88360595703125,-36.23891830444336,-7.703378200531006,-34.38486099243164,-33.2421875,-30.996227264404297,-32.847293853759766,-21.535282135009766,-21.42474365234375,-31.621732711791992,-14.764491081237793,-29.857097625732422,-23.15359115600586],\"type\":\"scatter\"},{\"hoverinfo\":\"text+name\",\"marker\":{\"opacity\":0.7,\"size\":8},\"mode\":\"markers\",\"name\":\"golf\",\"text\":[\"wolf\",\"varsity\",\"permit\",\"golfer\",\"its\",\"individualism\",\"responsibility\",\"sport\",\"variability\",\"eject\",\"Ability\",\"Incapacity\",\"mentor\",\"Disability\",\"authority\",\"Capacity\",\"Effect\",\"aspect\",\"author\",\"specialize\",\"Varsity\",\"eligibility\",\"object\",\"honor\",\"Nduati\",\"Nobility\",\"individual\",\"orientate\",\"neglect\",\"disability\"],\"x\":[-12.404932975769043,-9.216580390930176,60.76200485229492,57.11893844604492,32.33708572387695,21.466506958007812,44.924076080322266,70.65711212158203,36.504730224609375,-27.084447860717773,62.49838638305664,-3.3271963596343994,31.892772674560547,51.13411331176758,31.00334358215332,-0.30001571774482727,-18.028989791870117,49.449440002441406,28.98145866394043,-27.3292293548584,-7.675541400909424,0.8740025758743286,-27.10470962524414,-24.309511184692383,-4.071035385131836,48.35873031616211,68.3478012084961,4.152812957763672,-17.874467849731445,65.95368194580078],\"y\":[20.632627487182617,21.605438232421875,27.56593894958496,54.38811111450195,24.43332862854004,49.434871673583984,30.722158432006836,36.554874420166016,23.693891525268555,37.74983596801758,31.554380416870117,10.346145629882812,15.296008110046387,25.22926902770996,18.34882926940918,9.036388397216797,40.60185241699219,50.534183502197266,19.512632369995117,55.92776107788086,22.676136016845703,65.03395080566406,33.88250732421875,47.260318756103516,-27.782257080078125,22.04802894592285,33.34685134887695,13.694540977478027,36.5032958984375,37.88519287109375],\"type\":\"scatter\"}],                        {\"legend\":{\"orientation\":\"h\",\"y\":-0.2},\"paper_bgcolor\":\"rgba(0,0,0,0)\",\"plot_bgcolor\":\"rgba(0,0,0,0)\",\"showlegend\":true,\"title\":{\"text\":\"handicap 2020 similar words\"},\"template\":{\"data\":{\"histogram2dcontour\":[{\"type\":\"histogram2dcontour\",\"colorbar\":{\"outlinewidth\":0,\"ticks\":\"\"},\"colorscale\":[[0.0,\"#0d0887\"],[0.1111111111111111,\"#46039f\"],[0.2222222222222222,\"#7201a8\"],[0.3333333333333333,\"#9c179e\"],[0.4444444444444444,\"#bd3786\"],[0.5555555555555556,\"#d8576b\"],[0.6666666666666666,\"#ed7953\"],[0.7777777777777778,\"#fb9f3a\"],[0.8888888888888888,\"#fdca26\"],[1.0,\"#f0f921\"]]}],\"choropleth\":[{\"type\":\"choropleth\",\"colorbar\":{\"outlinewidth\":0,\"ticks\":\"\"}}],\"histogram2d\":[{\"type\":\"histogram2d\",\"colorbar\":{\"outlinewidth\":0,\"ticks\":\"\"},\"colorscale\":[[0.0,\"#0d0887\"],[0.1111111111111111,\"#46039f\"],[0.2222222222222222,\"#7201a8\"],[0.3333333333333333,\"#9c179e\"],[0.4444444444444444,\"#bd3786\"],[0.5555555555555556,\"#d8576b\"],[0.6666666666666666,\"#ed7953\"],[0.7777777777777778,\"#fb9f3a\"],[0.8888888888888888,\"#fdca26\"],[1.0,\"#f0f921\"]]}],\"heatmap\":[{\"type\":\"heatmap\",\"colorbar\":{\"outlinewidth\":0,\"ticks\":\"\"},\"colorscale\":[[0.0,\"#0d0887\"],[0.1111111111111111,\"#46039f\"],[0.2222222222222222,\"#7201a8\"],[0.3333333333333333,\"#9c179e\"],[0.4444444444444444,\"#bd3786\"],[0.5555555555555556,\"#d8576b\"],[0.6666666666666666,\"#ed7953\"],[0.7777777777777778,\"#fb9f3a\"],[0.8888888888888888,\"#fdca26\"],[1.0,\"#f0f921\"]]}],\"heatmapgl\":[{\"type\":\"heatmapgl\",\"colorbar\":{\"outlinewidth\":0,\"ticks\":\"\"},\"colorscale\":[[0.0,\"#0d0887\"],[0.1111111111111111,\"#46039f\"],[0.2222222222222222,\"#7201a8\"],[0.3333333333333333,\"#9c179e\"],[0.4444444444444444,\"#bd3786\"],[0.5555555555555556,\"#d8576b\"],[0.6666666666666666,\"#ed7953\"],[0.7777777777777778,\"#fb9f3a\"],[0.8888888888888888,\"#fdca26\"],[1.0,\"#f0f921\"]]}],\"contourcarpet\":[{\"type\":\"contourcarpet\",\"colorbar\":{\"outlinewidth\":0,\"ticks\":\"\"}}],\"contour\":[{\"type\":\"contour\",\"colorbar\":{\"outlinewidth\":0,\"ticks\":\"\"},\"colorscale\":[[0.0,\"#0d0887\"],[0.1111111111111111,\"#46039f\"],[0.2222222222222222,\"#7201a8\"],[0.3333333333333333,\"#9c179e\"],[0.4444444444444444,\"#bd3786\"],[0.5555555555555556,\"#d8576b\"],[0.6666666666666666,\"#ed7953\"],[0.7777777777777778,\"#fb9f3a\"],[0.8888888888888888,\"#fdca26\"],[1.0,\"#f0f921\"]]}],\"surface\":[{\"type\":\"surface\",\"colorbar\":{\"outlinewidth\":0,\"ticks\":\"\"},\"colorscale\":[[0.0,\"#0d0887\"],[0.1111111111111111,\"#46039f\"],[0.2222222222222222,\"#7201a8\"],[0.3333333333333333,\"#9c179e\"],[0.4444444444444444,\"#bd3786\"],[0.5555555555555556,\"#d8576b\"],[0.6666666666666666,\"#ed7953\"],[0.7777777777777778,\"#fb9f3a\"],[0.8888888888888888,\"#fdca26\"],[1.0,\"#f0f921\"]]}],\"mesh3d\":[{\"type\":\"mesh3d\",\"colorbar\":{\"outlinewidth\":0,\"ticks\":\"\"}}],\"scatter\":[{\"marker\":{\"line\":{\"color\":\"#283442\"}},\"type\":\"scatter\"}],\"parcoords\":[{\"type\":\"parcoords\",\"line\":{\"colorbar\":{\"outlinewidth\":0,\"ticks\":\"\"}}}],\"scatterpolargl\":[{\"type\":\"scatterpolargl\",\"marker\":{\"colorbar\":{\"outlinewidth\":0,\"ticks\":\"\"}}}],\"bar\":[{\"error_x\":{\"color\":\"#f2f5fa\"},\"error_y\":{\"color\":\"#f2f5fa\"},\"marker\":{\"line\":{\"color\":\"rgb(17,17,17)\",\"width\":0.5},\"pattern\":{\"fillmode\":\"overlay\",\"size\":10,\"solidity\":0.2}},\"type\":\"bar\"}],\"scattergeo\":[{\"type\":\"scattergeo\",\"marker\":{\"colorbar\":{\"outlinewidth\":0,\"ticks\":\"\"}}}],\"scatterpolar\":[{\"type\":\"scatterpolar\",\"marker\":{\"colorbar\":{\"outlinewidth\":0,\"ticks\":\"\"}}}],\"histogram\":[{\"marker\":{\"pattern\":{\"fillmode\":\"overlay\",\"size\":10,\"solidity\":0.2}},\"type\":\"histogram\"}],\"scattergl\":[{\"marker\":{\"line\":{\"color\":\"#283442\"}},\"type\":\"scattergl\"}],\"scatter3d\":[{\"type\":\"scatter3d\",\"line\":{\"colorbar\":{\"outlinewidth\":0,\"ticks\":\"\"}},\"marker\":{\"colorbar\":{\"outlinewidth\":0,\"ticks\":\"\"}}}],\"scattermapbox\":[{\"type\":\"scattermapbox\",\"marker\":{\"colorbar\":{\"outlinewidth\":0,\"ticks\":\"\"}}}],\"scatterternary\":[{\"type\":\"scatterternary\",\"marker\":{\"colorbar\":{\"outlinewidth\":0,\"ticks\":\"\"}}}],\"scattercarpet\":[{\"type\":\"scattercarpet\",\"marker\":{\"colorbar\":{\"outlinewidth\":0,\"ticks\":\"\"}}}],\"carpet\":[{\"aaxis\":{\"endlinecolor\":\"#A2B1C6\",\"gridcolor\":\"#506784\",\"linecolor\":\"#506784\",\"minorgridcolor\":\"#506784\",\"startlinecolor\":\"#A2B1C6\"},\"baxis\":{\"endlinecolor\":\"#A2B1C6\",\"gridcolor\":\"#506784\",\"linecolor\":\"#506784\",\"minorgridcolor\":\"#506784\",\"startlinecolor\":\"#A2B1C6\"},\"type\":\"carpet\"}],\"table\":[{\"cells\":{\"fill\":{\"color\":\"#506784\"},\"line\":{\"color\":\"rgb(17,17,17)\"}},\"header\":{\"fill\":{\"color\":\"#2a3f5f\"},\"line\":{\"color\":\"rgb(17,17,17)\"}},\"type\":\"table\"}],\"barpolar\":[{\"marker\":{\"line\":{\"color\":\"rgb(17,17,17)\",\"width\":0.5},\"pattern\":{\"fillmode\":\"overlay\",\"size\":10,\"solidity\":0.2}},\"type\":\"barpolar\"}],\"pie\":[{\"automargin\":true,\"type\":\"pie\"}]},\"layout\":{\"autotypenumbers\":\"strict\",\"colorway\":[\"#636efa\",\"#EF553B\",\"#00cc96\",\"#ab63fa\",\"#FFA15A\",\"#19d3f3\",\"#FF6692\",\"#B6E880\",\"#FF97FF\",\"#FECB52\"],\"font\":{\"color\":\"#f2f5fa\"},\"hovermode\":\"closest\",\"hoverlabel\":{\"align\":\"left\"},\"paper_bgcolor\":\"rgb(17,17,17)\",\"plot_bgcolor\":\"rgb(17,17,17)\",\"polar\":{\"bgcolor\":\"rgb(17,17,17)\",\"angularaxis\":{\"gridcolor\":\"#506784\",\"linecolor\":\"#506784\",\"ticks\":\"\"},\"radialaxis\":{\"gridcolor\":\"#506784\",\"linecolor\":\"#506784\",\"ticks\":\"\"}},\"ternary\":{\"bgcolor\":\"rgb(17,17,17)\",\"aaxis\":{\"gridcolor\":\"#506784\",\"linecolor\":\"#506784\",\"ticks\":\"\"},\"baxis\":{\"gridcolor\":\"#506784\",\"linecolor\":\"#506784\",\"ticks\":\"\"},\"caxis\":{\"gridcolor\":\"#506784\",\"linecolor\":\"#506784\",\"ticks\":\"\"}},\"coloraxis\":{\"colorbar\":{\"outlinewidth\":0,\"ticks\":\"\"}},\"colorscale\":{\"sequential\":[[0.0,\"#0d0887\"],[0.1111111111111111,\"#46039f\"],[0.2222222222222222,\"#7201a8\"],[0.3333333333333333,\"#9c179e\"],[0.4444444444444444,\"#bd3786\"],[0.5555555555555556,\"#d8576b\"],[0.6666666666666666,\"#ed7953\"],[0.7777777777777778,\"#fb9f3a\"],[0.8888888888888888,\"#fdca26\"],[1.0,\"#f0f921\"]],\"sequentialminus\":[[0.0,\"#0d0887\"],[0.1111111111111111,\"#46039f\"],[0.2222222222222222,\"#7201a8\"],[0.3333333333333333,\"#9c179e\"],[0.4444444444444444,\"#bd3786\"],[0.5555555555555556,\"#d8576b\"],[0.6666666666666666,\"#ed7953\"],[0.7777777777777778,\"#fb9f3a\"],[0.8888888888888888,\"#fdca26\"],[1.0,\"#f0f921\"]],\"diverging\":[[0,\"#8e0152\"],[0.1,\"#c51b7d\"],[0.2,\"#de77ae\"],[0.3,\"#f1b6da\"],[0.4,\"#fde0ef\"],[0.5,\"#f7f7f7\"],[0.6,\"#e6f5d0\"],[0.7,\"#b8e186\"],[0.8,\"#7fbc41\"],[0.9,\"#4d9221\"],[1,\"#276419\"]]},\"xaxis\":{\"gridcolor\":\"#283442\",\"linecolor\":\"#506784\",\"ticks\":\"\",\"title\":{\"standoff\":15},\"zerolinecolor\":\"#283442\",\"automargin\":true,\"zerolinewidth\":2},\"yaxis\":{\"gridcolor\":\"#283442\",\"linecolor\":\"#506784\",\"ticks\":\"\",\"title\":{\"standoff\":15},\"zerolinecolor\":\"#283442\",\"automargin\":true,\"zerolinewidth\":2},\"scene\":{\"xaxis\":{\"backgroundcolor\":\"rgb(17,17,17)\",\"gridcolor\":\"#506784\",\"linecolor\":\"#506784\",\"showbackground\":true,\"ticks\":\"\",\"zerolinecolor\":\"#C8D4E3\",\"gridwidth\":2},\"yaxis\":{\"backgroundcolor\":\"rgb(17,17,17)\",\"gridcolor\":\"#506784\",\"linecolor\":\"#506784\",\"showbackground\":true,\"ticks\":\"\",\"zerolinecolor\":\"#C8D4E3\",\"gridwidth\":2},\"zaxis\":{\"backgroundcolor\":\"rgb(17,17,17)\",\"gridcolor\":\"#506784\",\"linecolor\":\"#506784\",\"showbackground\":true,\"ticks\":\"\",\"zerolinecolor\":\"#C8D4E3\",\"gridwidth\":2}},\"shapedefaults\":{\"line\":{\"color\":\"#f2f5fa\"}},\"annotationdefaults\":{\"arrowcolor\":\"#f2f5fa\",\"arrowhead\":0,\"arrowwidth\":1},\"geo\":{\"bgcolor\":\"rgb(17,17,17)\",\"landcolor\":\"rgb(17,17,17)\",\"subunitcolor\":\"#506784\",\"showland\":true,\"showlakes\":true,\"lakecolor\":\"rgb(17,17,17)\"},\"title\":{\"x\":0.05},\"updatemenudefaults\":{\"bgcolor\":\"#506784\",\"borderwidth\":0},\"sliderdefaults\":{\"bgcolor\":\"#C8D4E3\",\"borderwidth\":1,\"bordercolor\":\"rgb(17,17,17)\",\"tickwidth\":0},\"mapbox\":{\"style\":\"dark\"}}}},                        {\"responsive\": true}                    ).then(function(){\n",
       "                            \n",
       "var gd = document.getElementById('82367bee-9543-4da4-9944-2041d40f36a3');\n",
       "var x = new MutationObserver(function (mutations, observer) {{\n",
       "        var display = window.getComputedStyle(gd).display;\n",
       "        if (!display || display === 'none') {{\n",
       "            console.log([gd, 'removed!']);\n",
       "            Plotly.purge(gd);\n",
       "            observer.disconnect();\n",
       "        }}\n",
       "}});\n",
       "\n",
       "// Listen for the removal of the full notebook cells\n",
       "var notebookContainer = gd.closest('#notebook-container');\n",
       "if (notebookContainer) {{\n",
       "    x.observe(notebookContainer, {childList: true});\n",
       "}}\n",
       "\n",
       "// Listen for the clearing of the current output cell\n",
       "var outputEl = gd.closest('.output');\n",
       "if (outputEl) {{\n",
       "    x.observe(outputEl, {childList: true});\n",
       "}}\n",
       "\n",
       "                        })                };                });            </script>        </div>"
      ]
     },
     "metadata": {},
     "output_type": "display_data"
    }
   ],
   "execution_count": 13
  },
  {
   "metadata": {
    "ExecuteTime": {
     "end_time": "2024-06-06T20:32:54.675137Z",
     "start_time": "2024-06-06T20:32:54.650730Z"
    }
   },
   "cell_type": "code",
   "source": [
    "from sklearn.cluster import KMeans\n",
    "import plotly.express as px\n",
    "\n",
    "temp = embeddings_en_2d.reshape(-1, embeddings_en_2d.shape[-1])\n",
    "kmeans = KMeans(n_clusters=4, random_state=0).fit(temp)\n",
    "\n",
    "preds = kmeans.predict(temp)\n",
    "\n",
    "# km_plot = px.scatter(x=temp[:,0], y=temp[:,1], color=[str(x) for x in kmeans.predict(temp)])\n",
    "# km_plot.show()\n",
    "\n",
    "km_plot = go.Figure()\n",
    "\n",
    "for i in range(4):\n",
    "    km_plot.add_trace(go.Scatter(x=[kmeans.cluster_centers_[i, 0]], y=[kmeans.cluster_centers_[i, 1]],\n",
    "                             mode='markers',\n",
    "                             marker=dict(size=10, color=i), name=f'KMeans cluster centroid {i + 1}'))\n",
    "km_plot.add_trace(go.Scatter(x=temp[:,0], y=temp[:,1], mode='markers', marker=dict(color=preds), name='Predicted clusters'))\n",
    "\n",
    "km_plot.show()\n",
    "# print(embeddings_en_2d.reshape(-1, embeddings_en_2d.shape[-1]).shape)"
   ],
   "id": "85cab6e58514081b",
   "outputs": [
    {
     "data": {
      "application/vnd.plotly.v1+json": {
       "data": [
        {
         "marker": {
          "color": 0,
          "size": 10
         },
         "mode": "markers",
         "name": "KMeans cluster centroid 1",
         "x": [
          -7.181754112243652
         ],
         "y": [
          38.118560791015625
         ],
         "type": "scatter"
        },
        {
         "marker": {
          "color": 1,
          "size": 10
         },
         "mode": "markers",
         "name": "KMeans cluster centroid 2",
         "x": [
          10.404234886169434
         ],
         "y": [
          -59.270957946777344
         ],
         "type": "scatter"
        },
        {
         "marker": {
          "color": 2,
          "size": 10
         },
         "mode": "markers",
         "name": "KMeans cluster centroid 3",
         "x": [
          43.963436126708984
         ],
         "y": [
          41.72659683227539
         ],
         "type": "scatter"
        },
        {
         "marker": {
          "color": 3,
          "size": 10
         },
         "mode": "markers",
         "name": "KMeans cluster centroid 4",
         "x": [
          -57.39215087890625
         ],
         "y": [
          -19.030384063720703
         ],
         "type": "scatter"
        },
        {
         "marker": {
          "color": [
           0,
           0,
           2,
           2,
           2,
           0,
           2,
           0,
           2,
           2,
           0,
           0,
           0,
           2,
           0,
           2,
           2,
           0,
           2,
           2,
           2,
           2,
           2,
           0,
           2,
           2,
           2,
           2,
           2,
           2,
           0,
           0,
           0,
           3,
           0,
           0,
           3,
           0,
           0,
           1,
           3,
           3,
           1,
           3,
           1,
           0,
           2,
           1,
           0,
           1,
           3,
           3,
           1,
           2,
           0,
           0,
           1,
           3,
           0,
           3,
           1,
           1,
           1,
           1,
           1,
           1,
           1,
           1,
           1,
           1,
           1,
           1,
           1,
           1,
           1,
           1,
           1,
           1,
           1,
           1,
           1,
           1,
           1,
           1,
           1,
           1,
           1,
           1,
           1,
           1,
           0,
           0,
           0,
           0,
           0,
           2,
           2,
           0,
           0,
           0,
           0,
           0,
           2,
           0,
           2,
           2,
           0,
           0,
           0,
           2,
           2,
           0,
           0,
           2,
           0,
           0,
           2,
           0,
           2,
           0,
           3,
           3,
           3,
           3,
           3,
           3,
           3,
           3,
           3,
           3,
           3,
           3,
           3,
           3,
           3,
           3,
           3,
           3,
           3,
           3,
           3,
           3,
           3,
           3,
           3,
           3,
           3,
           3,
           3,
           3,
           0,
           0,
           2,
           2,
           2,
           2,
           2,
           2,
           2,
           0,
           2,
           0,
           2,
           2,
           2,
           0,
           0,
           2,
           2,
           0,
           0,
           0,
           0,
           0,
           1,
           2,
           2,
           0,
           0,
           2
          ]
         },
         "mode": "markers",
         "name": "Predicted clusters",
         "x": [
          -3.3349716663360596,
          14.307731628417969,
          17.429283142089844,
          64.95682525634766,
          46.34066390991211,
          8.61606502532959,
          51.09516906738281,
          10.099891662597656,
          41.799461364746094,
          23.48708152770996,
          10.830450057983398,
          -19.968795776367188,
          0.6872466206550598,
          46.18136978149414,
          -9.887042045593262,
          23.462244033813477,
          55.01797866821289,
          12.303962707519531,
          26.86923599243164,
          60.791587829589844,
          66.16648864746094,
          46.52265167236328,
          28.97124481201172,
          11.367148399353027,
          16.89019012451172,
          61.353031158447266,
          50.56723403930664,
          36.504730224609375,
          54.14811325073242,
          49.055511474609375,
          -0.6628074049949646,
          -0.14239509403705597,
          8.240927696228027,
          -16.367185592651367,
          5.885901927947998,
          -9.810609817504883,
          -11.365549087524414,
          -7.755774021148682,
          10.20421314239502,
          -4.567858695983887,
          -16.704883575439453,
          -15.080873489379883,
          -0.8660550713539124,
          -14.840694427490234,
          -3.197723627090454,
          12.705963134765625,
          25.01089859008789,
          -4.386563777923584,
          -6.501949787139893,
          11.346017837524414,
          -17.42509651184082,
          -13.696135520935059,
          -0.2117183357477188,
          23.907922744750977,
          -1.4918653964996338,
          -4.067553520202637,
          11.170583724975586,
          -14.421040534973145,
          4.514301300048828,
          -19.261316299438477,
          28.502079010009766,
          29.236583709716797,
          -8.542350769042969,
          18.362342834472656,
          24.884601593017578,
          1.461611032485962,
          25.55786895751953,
          24.97545051574707,
          21.231813430786133,
          -6.570879936218262,
          27.96109390258789,
          27.915523529052734,
          22.892105102539062,
          -3.519275188446045,
          31.626855850219727,
          16.256114959716797,
          14.87667179107666,
          3.886136293411255,
          -7.133895397186279,
          -9.19675064086914,
          11.394707679748535,
          17.170244216918945,
          -8.34633731842041,
          -11.733983039855957,
          22.93594741821289,
          23.999149322509766,
          22.462373733520508,
          -6.8619866371154785,
          20.594907760620117,
          13.866523742675781,
          -22.001598358154297,
          -14.936637878417969,
          10.099891662597656,
          -12.584086418151855,
          -10.320247650146484,
          43.550453186035156,
          39.33785629272461,
          -26.557479858398438,
          -18.558422088623047,
          -30.11276626586914,
          -6.789847373962402,
          -20.324787139892578,
          55.36017608642578,
          -17.42629623413086,
          23.462244033813477,
          55.917240142822266,
          -9.891061782836914,
          -28.907546997070312,
          6.630786895751953,
          46.18136978149414,
          55.06169128417969,
          -20.138019561767578,
          -9.87686824798584,
          43.343448638916016,
          11.334564208984375,
          -11.954924583435059,
          28.97124481201172,
          -13.8822660446167,
          41.139896392822266,
          -25.310094833374023,
          -78.73257446289062,
          -76.16999816894531,
          -75.95613098144531,
          -75.77793884277344,
          -78.34563446044922,
          -61.865753173828125,
          -68.25935363769531,
          -70.00450134277344,
          -73.06314086914062,
          -81.44979095458984,
          -72.14929962158203,
          -71.41917419433594,
          -73.5566635131836,
          -78.99907684326172,
          -59.15165328979492,
          -71.78265380859375,
          -72.17469024658203,
          -58.65620803833008,
          -81.1970443725586,
          -69.40841674804688,
          -69.72001647949219,
          -76.69308471679688,
          -84.6181411743164,
          -66.12479400634766,
          -61.00371170043945,
          -56.95150375366211,
          -63.72842025756836,
          -56.83910369873047,
          -60.453975677490234,
          -54.87862777709961,
          -12.404932975769043,
          -9.216580390930176,
          60.76200485229492,
          57.11893844604492,
          32.33708572387695,
          21.466506958007812,
          44.924076080322266,
          70.65711212158203,
          36.504730224609375,
          -27.084447860717773,
          62.49838638305664,
          -3.3271963596343994,
          31.892772674560547,
          51.13411331176758,
          31.00334358215332,
          -0.30001571774482727,
          -18.028989791870117,
          49.449440002441406,
          28.98145866394043,
          -27.3292293548584,
          -7.675541400909424,
          0.8740025758743286,
          -27.10470962524414,
          -24.309511184692383,
          -4.071035385131836,
          48.35873031616211,
          68.3478012084961,
          4.152812957763672,
          -17.874467849731445,
          65.95368194580078
         ],
         "y": [
          65.21222686767578,
          69.84827423095703,
          72.39794158935547,
          34.6964111328125,
          31.953414916992188,
          69.01006317138672,
          30.65193748474121,
          59.90114974975586,
          55.44200134277344,
          69.31764221191406,
          64.60623931884766,
          42.02592086791992,
          66.90222930908203,
          61.437137603759766,
          43.05474090576172,
          52.96183395385742,
          32.57746887207031,
          72.76437377929688,
          54.21591567993164,
          32.22281265258789,
          41.43131637573242,
          51.38321304321289,
          66.37530517578125,
          67.14046478271484,
          68.86994171142578,
          36.679473876953125,
          21.679378509521484,
          23.693891525268555,
          57.58010482788086,
          25.53656768798828,
          -2.2979378700256348,
          3.263624668121338,
          -5.503937244415283,
          -18.052196502685547,
          -4.759524822235107,
          -8.106874465942383,
          -14.664105415344238,
          -6.454101085662842,
          -6.358587741851807,
          -22.310989379882812,
          -13.161140441894531,
          -22.201574325561523,
          -15.082908630371094,
          -24.491994857788086,
          -18.510601043701172,
          -2.6732258796691895,
          8.42077350616455,
          -25.705215454101562,
          -2.4508183002471924,
          -12.08913803100586,
          -11.322915077209473,
          -10.49227523803711,
          -13.036968231201172,
          6.8985514640808105,
          7.651904106140137,
          -5.0922112464904785,
          -14.225945472717285,
          -17.130979537963867,
          11.47497272491455,
          -8.131294250488281,
          -66.56254577636719,
          -57.5874137878418,
          -70.74140930175781,
          -61.28636932373047,
          -67.81439971923828,
          -72.55060577392578,
          -81.09367370605469,
          -70.77783203125,
          -67.494140625,
          -73.09640502929688,
          -55.993900299072266,
          -71.60765075683594,
          -81.7137680053711,
          -72.13416290283203,
          -59.718482971191406,
          -65.84182739257812,
          -69.23593139648438,
          -72.42607116699219,
          -80.57221221923828,
          -77.29647827148438,
          -70.8982925415039,
          -69.21199035644531,
          -74.3817367553711,
          -71.87928771972656,
          -79.58485412597656,
          -61.145042419433594,
          -63.697181701660156,
          -77.6849365234375,
          -75.76315307617188,
          -63.7603874206543,
          49.81050109863281,
          55.25325012207031,
          59.90114974975586,
          64.46977233886719,
          65.4344253540039,
          55.26040267944336,
          58.05174255371094,
          54.27873992919922,
          47.09126281738281,
          53.68339920043945,
          64.7932357788086,
          39.663238525390625,
          65.04622650146484,
          65.226318359375,
          52.96183395385742,
          58.11682891845703,
          68.72419738769531,
          35.61085891723633,
          58.63520431518555,
          61.437137603759766,
          62.335304260253906,
          65.18026733398438,
          41.23381042480469,
          34.49135971069336,
          55.677978515625,
          50.32953643798828,
          66.37530517578125,
          51.41088104248047,
          51.82859420776367,
          36.00276565551758,
          -20.521984100341797,
          -19.520633697509766,
          -22.166818618774414,
          2.9830191135406494,
          -23.144386291503906,
          -16.402210235595703,
          -13.363791465759277,
          -2.4831161499023438,
          3.61997652053833,
          -31.221031188964844,
          -2.9440414905548096,
          1.394618272781372,
          -0.315065860748291,
          -33.35488510131836,
          -16.78215789794922,
          -36.54978561401367,
          -34.110748291015625,
          -19.88360595703125,
          -36.23891830444336,
          -7.703378200531006,
          -34.38486099243164,
          -33.2421875,
          -30.996227264404297,
          -32.847293853759766,
          -21.535282135009766,
          -21.42474365234375,
          -31.621732711791992,
          -14.764491081237793,
          -29.857097625732422,
          -23.15359115600586,
          20.632627487182617,
          21.605438232421875,
          27.56593894958496,
          54.38811111450195,
          24.43332862854004,
          49.434871673583984,
          30.722158432006836,
          36.554874420166016,
          23.693891525268555,
          37.74983596801758,
          31.554380416870117,
          10.346145629882812,
          15.296008110046387,
          25.22926902770996,
          18.34882926940918,
          9.036388397216797,
          40.60185241699219,
          50.534183502197266,
          19.512632369995117,
          55.92776107788086,
          22.676136016845703,
          65.03395080566406,
          33.88250732421875,
          47.260318756103516,
          -27.782257080078125,
          22.04802894592285,
          33.34685134887695,
          13.694540977478027,
          36.5032958984375,
          37.88519287109375
         ],
         "type": "scatter"
        }
       ],
       "layout": {
        "template": {
         "data": {
          "histogram2dcontour": [
           {
            "type": "histogram2dcontour",
            "colorbar": {
             "outlinewidth": 0,
             "ticks": ""
            },
            "colorscale": [
             [
              0.0,
              "#0d0887"
             ],
             [
              0.1111111111111111,
              "#46039f"
             ],
             [
              0.2222222222222222,
              "#7201a8"
             ],
             [
              0.3333333333333333,
              "#9c179e"
             ],
             [
              0.4444444444444444,
              "#bd3786"
             ],
             [
              0.5555555555555556,
              "#d8576b"
             ],
             [
              0.6666666666666666,
              "#ed7953"
             ],
             [
              0.7777777777777778,
              "#fb9f3a"
             ],
             [
              0.8888888888888888,
              "#fdca26"
             ],
             [
              1.0,
              "#f0f921"
             ]
            ]
           }
          ],
          "choropleth": [
           {
            "type": "choropleth",
            "colorbar": {
             "outlinewidth": 0,
             "ticks": ""
            }
           }
          ],
          "histogram2d": [
           {
            "type": "histogram2d",
            "colorbar": {
             "outlinewidth": 0,
             "ticks": ""
            },
            "colorscale": [
             [
              0.0,
              "#0d0887"
             ],
             [
              0.1111111111111111,
              "#46039f"
             ],
             [
              0.2222222222222222,
              "#7201a8"
             ],
             [
              0.3333333333333333,
              "#9c179e"
             ],
             [
              0.4444444444444444,
              "#bd3786"
             ],
             [
              0.5555555555555556,
              "#d8576b"
             ],
             [
              0.6666666666666666,
              "#ed7953"
             ],
             [
              0.7777777777777778,
              "#fb9f3a"
             ],
             [
              0.8888888888888888,
              "#fdca26"
             ],
             [
              1.0,
              "#f0f921"
             ]
            ]
           }
          ],
          "heatmap": [
           {
            "type": "heatmap",
            "colorbar": {
             "outlinewidth": 0,
             "ticks": ""
            },
            "colorscale": [
             [
              0.0,
              "#0d0887"
             ],
             [
              0.1111111111111111,
              "#46039f"
             ],
             [
              0.2222222222222222,
              "#7201a8"
             ],
             [
              0.3333333333333333,
              "#9c179e"
             ],
             [
              0.4444444444444444,
              "#bd3786"
             ],
             [
              0.5555555555555556,
              "#d8576b"
             ],
             [
              0.6666666666666666,
              "#ed7953"
             ],
             [
              0.7777777777777778,
              "#fb9f3a"
             ],
             [
              0.8888888888888888,
              "#fdca26"
             ],
             [
              1.0,
              "#f0f921"
             ]
            ]
           }
          ],
          "heatmapgl": [
           {
            "type": "heatmapgl",
            "colorbar": {
             "outlinewidth": 0,
             "ticks": ""
            },
            "colorscale": [
             [
              0.0,
              "#0d0887"
             ],
             [
              0.1111111111111111,
              "#46039f"
             ],
             [
              0.2222222222222222,
              "#7201a8"
             ],
             [
              0.3333333333333333,
              "#9c179e"
             ],
             [
              0.4444444444444444,
              "#bd3786"
             ],
             [
              0.5555555555555556,
              "#d8576b"
             ],
             [
              0.6666666666666666,
              "#ed7953"
             ],
             [
              0.7777777777777778,
              "#fb9f3a"
             ],
             [
              0.8888888888888888,
              "#fdca26"
             ],
             [
              1.0,
              "#f0f921"
             ]
            ]
           }
          ],
          "contourcarpet": [
           {
            "type": "contourcarpet",
            "colorbar": {
             "outlinewidth": 0,
             "ticks": ""
            }
           }
          ],
          "contour": [
           {
            "type": "contour",
            "colorbar": {
             "outlinewidth": 0,
             "ticks": ""
            },
            "colorscale": [
             [
              0.0,
              "#0d0887"
             ],
             [
              0.1111111111111111,
              "#46039f"
             ],
             [
              0.2222222222222222,
              "#7201a8"
             ],
             [
              0.3333333333333333,
              "#9c179e"
             ],
             [
              0.4444444444444444,
              "#bd3786"
             ],
             [
              0.5555555555555556,
              "#d8576b"
             ],
             [
              0.6666666666666666,
              "#ed7953"
             ],
             [
              0.7777777777777778,
              "#fb9f3a"
             ],
             [
              0.8888888888888888,
              "#fdca26"
             ],
             [
              1.0,
              "#f0f921"
             ]
            ]
           }
          ],
          "surface": [
           {
            "type": "surface",
            "colorbar": {
             "outlinewidth": 0,
             "ticks": ""
            },
            "colorscale": [
             [
              0.0,
              "#0d0887"
             ],
             [
              0.1111111111111111,
              "#46039f"
             ],
             [
              0.2222222222222222,
              "#7201a8"
             ],
             [
              0.3333333333333333,
              "#9c179e"
             ],
             [
              0.4444444444444444,
              "#bd3786"
             ],
             [
              0.5555555555555556,
              "#d8576b"
             ],
             [
              0.6666666666666666,
              "#ed7953"
             ],
             [
              0.7777777777777778,
              "#fb9f3a"
             ],
             [
              0.8888888888888888,
              "#fdca26"
             ],
             [
              1.0,
              "#f0f921"
             ]
            ]
           }
          ],
          "mesh3d": [
           {
            "type": "mesh3d",
            "colorbar": {
             "outlinewidth": 0,
             "ticks": ""
            }
           }
          ],
          "scatter": [
           {
            "marker": {
             "line": {
              "color": "#283442"
             }
            },
            "type": "scatter"
           }
          ],
          "parcoords": [
           {
            "type": "parcoords",
            "line": {
             "colorbar": {
              "outlinewidth": 0,
              "ticks": ""
             }
            }
           }
          ],
          "scatterpolargl": [
           {
            "type": "scatterpolargl",
            "marker": {
             "colorbar": {
              "outlinewidth": 0,
              "ticks": ""
             }
            }
           }
          ],
          "bar": [
           {
            "error_x": {
             "color": "#f2f5fa"
            },
            "error_y": {
             "color": "#f2f5fa"
            },
            "marker": {
             "line": {
              "color": "rgb(17,17,17)",
              "width": 0.5
             },
             "pattern": {
              "fillmode": "overlay",
              "size": 10,
              "solidity": 0.2
             }
            },
            "type": "bar"
           }
          ],
          "scattergeo": [
           {
            "type": "scattergeo",
            "marker": {
             "colorbar": {
              "outlinewidth": 0,
              "ticks": ""
             }
            }
           }
          ],
          "scatterpolar": [
           {
            "type": "scatterpolar",
            "marker": {
             "colorbar": {
              "outlinewidth": 0,
              "ticks": ""
             }
            }
           }
          ],
          "histogram": [
           {
            "marker": {
             "pattern": {
              "fillmode": "overlay",
              "size": 10,
              "solidity": 0.2
             }
            },
            "type": "histogram"
           }
          ],
          "scattergl": [
           {
            "marker": {
             "line": {
              "color": "#283442"
             }
            },
            "type": "scattergl"
           }
          ],
          "scatter3d": [
           {
            "type": "scatter3d",
            "line": {
             "colorbar": {
              "outlinewidth": 0,
              "ticks": ""
             }
            },
            "marker": {
             "colorbar": {
              "outlinewidth": 0,
              "ticks": ""
             }
            }
           }
          ],
          "scattermapbox": [
           {
            "type": "scattermapbox",
            "marker": {
             "colorbar": {
              "outlinewidth": 0,
              "ticks": ""
             }
            }
           }
          ],
          "scatterternary": [
           {
            "type": "scatterternary",
            "marker": {
             "colorbar": {
              "outlinewidth": 0,
              "ticks": ""
             }
            }
           }
          ],
          "scattercarpet": [
           {
            "type": "scattercarpet",
            "marker": {
             "colorbar": {
              "outlinewidth": 0,
              "ticks": ""
             }
            }
           }
          ],
          "carpet": [
           {
            "aaxis": {
             "endlinecolor": "#A2B1C6",
             "gridcolor": "#506784",
             "linecolor": "#506784",
             "minorgridcolor": "#506784",
             "startlinecolor": "#A2B1C6"
            },
            "baxis": {
             "endlinecolor": "#A2B1C6",
             "gridcolor": "#506784",
             "linecolor": "#506784",
             "minorgridcolor": "#506784",
             "startlinecolor": "#A2B1C6"
            },
            "type": "carpet"
           }
          ],
          "table": [
           {
            "cells": {
             "fill": {
              "color": "#506784"
             },
             "line": {
              "color": "rgb(17,17,17)"
             }
            },
            "header": {
             "fill": {
              "color": "#2a3f5f"
             },
             "line": {
              "color": "rgb(17,17,17)"
             }
            },
            "type": "table"
           }
          ],
          "barpolar": [
           {
            "marker": {
             "line": {
              "color": "rgb(17,17,17)",
              "width": 0.5
             },
             "pattern": {
              "fillmode": "overlay",
              "size": 10,
              "solidity": 0.2
             }
            },
            "type": "barpolar"
           }
          ],
          "pie": [
           {
            "automargin": true,
            "type": "pie"
           }
          ]
         },
         "layout": {
          "autotypenumbers": "strict",
          "colorway": [
           "#636efa",
           "#EF553B",
           "#00cc96",
           "#ab63fa",
           "#FFA15A",
           "#19d3f3",
           "#FF6692",
           "#B6E880",
           "#FF97FF",
           "#FECB52"
          ],
          "font": {
           "color": "#f2f5fa"
          },
          "hovermode": "closest",
          "hoverlabel": {
           "align": "left"
          },
          "paper_bgcolor": "rgb(17,17,17)",
          "plot_bgcolor": "rgb(17,17,17)",
          "polar": {
           "bgcolor": "rgb(17,17,17)",
           "angularaxis": {
            "gridcolor": "#506784",
            "linecolor": "#506784",
            "ticks": ""
           },
           "radialaxis": {
            "gridcolor": "#506784",
            "linecolor": "#506784",
            "ticks": ""
           }
          },
          "ternary": {
           "bgcolor": "rgb(17,17,17)",
           "aaxis": {
            "gridcolor": "#506784",
            "linecolor": "#506784",
            "ticks": ""
           },
           "baxis": {
            "gridcolor": "#506784",
            "linecolor": "#506784",
            "ticks": ""
           },
           "caxis": {
            "gridcolor": "#506784",
            "linecolor": "#506784",
            "ticks": ""
           }
          },
          "coloraxis": {
           "colorbar": {
            "outlinewidth": 0,
            "ticks": ""
           }
          },
          "colorscale": {
           "sequential": [
            [
             0.0,
             "#0d0887"
            ],
            [
             0.1111111111111111,
             "#46039f"
            ],
            [
             0.2222222222222222,
             "#7201a8"
            ],
            [
             0.3333333333333333,
             "#9c179e"
            ],
            [
             0.4444444444444444,
             "#bd3786"
            ],
            [
             0.5555555555555556,
             "#d8576b"
            ],
            [
             0.6666666666666666,
             "#ed7953"
            ],
            [
             0.7777777777777778,
             "#fb9f3a"
            ],
            [
             0.8888888888888888,
             "#fdca26"
            ],
            [
             1.0,
             "#f0f921"
            ]
           ],
           "sequentialminus": [
            [
             0.0,
             "#0d0887"
            ],
            [
             0.1111111111111111,
             "#46039f"
            ],
            [
             0.2222222222222222,
             "#7201a8"
            ],
            [
             0.3333333333333333,
             "#9c179e"
            ],
            [
             0.4444444444444444,
             "#bd3786"
            ],
            [
             0.5555555555555556,
             "#d8576b"
            ],
            [
             0.6666666666666666,
             "#ed7953"
            ],
            [
             0.7777777777777778,
             "#fb9f3a"
            ],
            [
             0.8888888888888888,
             "#fdca26"
            ],
            [
             1.0,
             "#f0f921"
            ]
           ],
           "diverging": [
            [
             0,
             "#8e0152"
            ],
            [
             0.1,
             "#c51b7d"
            ],
            [
             0.2,
             "#de77ae"
            ],
            [
             0.3,
             "#f1b6da"
            ],
            [
             0.4,
             "#fde0ef"
            ],
            [
             0.5,
             "#f7f7f7"
            ],
            [
             0.6,
             "#e6f5d0"
            ],
            [
             0.7,
             "#b8e186"
            ],
            [
             0.8,
             "#7fbc41"
            ],
            [
             0.9,
             "#4d9221"
            ],
            [
             1,
             "#276419"
            ]
           ]
          },
          "xaxis": {
           "gridcolor": "#283442",
           "linecolor": "#506784",
           "ticks": "",
           "title": {
            "standoff": 15
           },
           "zerolinecolor": "#283442",
           "automargin": true,
           "zerolinewidth": 2
          },
          "yaxis": {
           "gridcolor": "#283442",
           "linecolor": "#506784",
           "ticks": "",
           "title": {
            "standoff": 15
           },
           "zerolinecolor": "#283442",
           "automargin": true,
           "zerolinewidth": 2
          },
          "scene": {
           "xaxis": {
            "backgroundcolor": "rgb(17,17,17)",
            "gridcolor": "#506784",
            "linecolor": "#506784",
            "showbackground": true,
            "ticks": "",
            "zerolinecolor": "#C8D4E3",
            "gridwidth": 2
           },
           "yaxis": {
            "backgroundcolor": "rgb(17,17,17)",
            "gridcolor": "#506784",
            "linecolor": "#506784",
            "showbackground": true,
            "ticks": "",
            "zerolinecolor": "#C8D4E3",
            "gridwidth": 2
           },
           "zaxis": {
            "backgroundcolor": "rgb(17,17,17)",
            "gridcolor": "#506784",
            "linecolor": "#506784",
            "showbackground": true,
            "ticks": "",
            "zerolinecolor": "#C8D4E3",
            "gridwidth": 2
           }
          },
          "shapedefaults": {
           "line": {
            "color": "#f2f5fa"
           }
          },
          "annotationdefaults": {
           "arrowcolor": "#f2f5fa",
           "arrowhead": 0,
           "arrowwidth": 1
          },
          "geo": {
           "bgcolor": "rgb(17,17,17)",
           "landcolor": "rgb(17,17,17)",
           "subunitcolor": "#506784",
           "showland": true,
           "showlakes": true,
           "lakecolor": "rgb(17,17,17)"
          },
          "title": {
           "x": 0.05
          },
          "updatemenudefaults": {
           "bgcolor": "#506784",
           "borderwidth": 0
          },
          "sliderdefaults": {
           "bgcolor": "#C8D4E3",
           "borderwidth": 1,
           "bordercolor": "rgb(17,17,17)",
           "tickwidth": 0
          },
          "mapbox": {
           "style": "dark"
          }
         }
        }
       },
       "config": {
        "plotlyServerURL": "https://plot.ly"
       }
      },
      "text/html": [
       "<div>                            <div id=\"34df0367-fd1c-45f4-9ef2-9b005cc06fac\" class=\"plotly-graph-div\" style=\"height:525px; width:100%;\"></div>            <script type=\"text/javascript\">                require([\"plotly\"], function(Plotly) {                    window.PLOTLYENV=window.PLOTLYENV || {};                                    if (document.getElementById(\"34df0367-fd1c-45f4-9ef2-9b005cc06fac\")) {                    Plotly.newPlot(                        \"34df0367-fd1c-45f4-9ef2-9b005cc06fac\",                        [{\"marker\":{\"color\":0,\"size\":10},\"mode\":\"markers\",\"name\":\"KMeans cluster centroid 1\",\"x\":[-7.181754112243652],\"y\":[38.118560791015625],\"type\":\"scatter\"},{\"marker\":{\"color\":1,\"size\":10},\"mode\":\"markers\",\"name\":\"KMeans cluster centroid 2\",\"x\":[10.404234886169434],\"y\":[-59.270957946777344],\"type\":\"scatter\"},{\"marker\":{\"color\":2,\"size\":10},\"mode\":\"markers\",\"name\":\"KMeans cluster centroid 3\",\"x\":[43.963436126708984],\"y\":[41.72659683227539],\"type\":\"scatter\"},{\"marker\":{\"color\":3,\"size\":10},\"mode\":\"markers\",\"name\":\"KMeans cluster centroid 4\",\"x\":[-57.39215087890625],\"y\":[-19.030384063720703],\"type\":\"scatter\"},{\"marker\":{\"color\":[0,0,2,2,2,0,2,0,2,2,0,0,0,2,0,2,2,0,2,2,2,2,2,0,2,2,2,2,2,2,0,0,0,3,0,0,3,0,0,1,3,3,1,3,1,0,2,1,0,1,3,3,1,2,0,0,1,3,0,3,1,1,1,1,1,1,1,1,1,1,1,1,1,1,1,1,1,1,1,1,1,1,1,1,1,1,1,1,1,1,0,0,0,0,0,2,2,0,0,0,0,0,2,0,2,2,0,0,0,2,2,0,0,2,0,0,2,0,2,0,3,3,3,3,3,3,3,3,3,3,3,3,3,3,3,3,3,3,3,3,3,3,3,3,3,3,3,3,3,3,0,0,2,2,2,2,2,2,2,0,2,0,2,2,2,0,0,2,2,0,0,0,0,0,1,2,2,0,0,2]},\"mode\":\"markers\",\"name\":\"Predicted clusters\",\"x\":[-3.3349716663360596,14.307731628417969,17.429283142089844,64.95682525634766,46.34066390991211,8.61606502532959,51.09516906738281,10.099891662597656,41.799461364746094,23.48708152770996,10.830450057983398,-19.968795776367188,0.6872466206550598,46.18136978149414,-9.887042045593262,23.462244033813477,55.01797866821289,12.303962707519531,26.86923599243164,60.791587829589844,66.16648864746094,46.52265167236328,28.97124481201172,11.367148399353027,16.89019012451172,61.353031158447266,50.56723403930664,36.504730224609375,54.14811325073242,49.055511474609375,-0.6628074049949646,-0.14239509403705597,8.240927696228027,-16.367185592651367,5.885901927947998,-9.810609817504883,-11.365549087524414,-7.755774021148682,10.20421314239502,-4.567858695983887,-16.704883575439453,-15.080873489379883,-0.8660550713539124,-14.840694427490234,-3.197723627090454,12.705963134765625,25.01089859008789,-4.386563777923584,-6.501949787139893,11.346017837524414,-17.42509651184082,-13.696135520935059,-0.2117183357477188,23.907922744750977,-1.4918653964996338,-4.067553520202637,11.170583724975586,-14.421040534973145,4.514301300048828,-19.261316299438477,28.502079010009766,29.236583709716797,-8.542350769042969,18.362342834472656,24.884601593017578,1.461611032485962,25.55786895751953,24.97545051574707,21.231813430786133,-6.570879936218262,27.96109390258789,27.915523529052734,22.892105102539062,-3.519275188446045,31.626855850219727,16.256114959716797,14.87667179107666,3.886136293411255,-7.133895397186279,-9.19675064086914,11.394707679748535,17.170244216918945,-8.34633731842041,-11.733983039855957,22.93594741821289,23.999149322509766,22.462373733520508,-6.8619866371154785,20.594907760620117,13.866523742675781,-22.001598358154297,-14.936637878417969,10.099891662597656,-12.584086418151855,-10.320247650146484,43.550453186035156,39.33785629272461,-26.557479858398438,-18.558422088623047,-30.11276626586914,-6.789847373962402,-20.324787139892578,55.36017608642578,-17.42629623413086,23.462244033813477,55.917240142822266,-9.891061782836914,-28.907546997070312,6.630786895751953,46.18136978149414,55.06169128417969,-20.138019561767578,-9.87686824798584,43.343448638916016,11.334564208984375,-11.954924583435059,28.97124481201172,-13.8822660446167,41.139896392822266,-25.310094833374023,-78.73257446289062,-76.16999816894531,-75.95613098144531,-75.77793884277344,-78.34563446044922,-61.865753173828125,-68.25935363769531,-70.00450134277344,-73.06314086914062,-81.44979095458984,-72.14929962158203,-71.41917419433594,-73.5566635131836,-78.99907684326172,-59.15165328979492,-71.78265380859375,-72.17469024658203,-58.65620803833008,-81.1970443725586,-69.40841674804688,-69.72001647949219,-76.69308471679688,-84.6181411743164,-66.12479400634766,-61.00371170043945,-56.95150375366211,-63.72842025756836,-56.83910369873047,-60.453975677490234,-54.87862777709961,-12.404932975769043,-9.216580390930176,60.76200485229492,57.11893844604492,32.33708572387695,21.466506958007812,44.924076080322266,70.65711212158203,36.504730224609375,-27.084447860717773,62.49838638305664,-3.3271963596343994,31.892772674560547,51.13411331176758,31.00334358215332,-0.30001571774482727,-18.028989791870117,49.449440002441406,28.98145866394043,-27.3292293548584,-7.675541400909424,0.8740025758743286,-27.10470962524414,-24.309511184692383,-4.071035385131836,48.35873031616211,68.3478012084961,4.152812957763672,-17.874467849731445,65.95368194580078],\"y\":[65.21222686767578,69.84827423095703,72.39794158935547,34.6964111328125,31.953414916992188,69.01006317138672,30.65193748474121,59.90114974975586,55.44200134277344,69.31764221191406,64.60623931884766,42.02592086791992,66.90222930908203,61.437137603759766,43.05474090576172,52.96183395385742,32.57746887207031,72.76437377929688,54.21591567993164,32.22281265258789,41.43131637573242,51.38321304321289,66.37530517578125,67.14046478271484,68.86994171142578,36.679473876953125,21.679378509521484,23.693891525268555,57.58010482788086,25.53656768798828,-2.2979378700256348,3.263624668121338,-5.503937244415283,-18.052196502685547,-4.759524822235107,-8.106874465942383,-14.664105415344238,-6.454101085662842,-6.358587741851807,-22.310989379882812,-13.161140441894531,-22.201574325561523,-15.082908630371094,-24.491994857788086,-18.510601043701172,-2.6732258796691895,8.42077350616455,-25.705215454101562,-2.4508183002471924,-12.08913803100586,-11.322915077209473,-10.49227523803711,-13.036968231201172,6.8985514640808105,7.651904106140137,-5.0922112464904785,-14.225945472717285,-17.130979537963867,11.47497272491455,-8.131294250488281,-66.56254577636719,-57.5874137878418,-70.74140930175781,-61.28636932373047,-67.81439971923828,-72.55060577392578,-81.09367370605469,-70.77783203125,-67.494140625,-73.09640502929688,-55.993900299072266,-71.60765075683594,-81.7137680053711,-72.13416290283203,-59.718482971191406,-65.84182739257812,-69.23593139648438,-72.42607116699219,-80.57221221923828,-77.29647827148438,-70.8982925415039,-69.21199035644531,-74.3817367553711,-71.87928771972656,-79.58485412597656,-61.145042419433594,-63.697181701660156,-77.6849365234375,-75.76315307617188,-63.7603874206543,49.81050109863281,55.25325012207031,59.90114974975586,64.46977233886719,65.4344253540039,55.26040267944336,58.05174255371094,54.27873992919922,47.09126281738281,53.68339920043945,64.7932357788086,39.663238525390625,65.04622650146484,65.226318359375,52.96183395385742,58.11682891845703,68.72419738769531,35.61085891723633,58.63520431518555,61.437137603759766,62.335304260253906,65.18026733398438,41.23381042480469,34.49135971069336,55.677978515625,50.32953643798828,66.37530517578125,51.41088104248047,51.82859420776367,36.00276565551758,-20.521984100341797,-19.520633697509766,-22.166818618774414,2.9830191135406494,-23.144386291503906,-16.402210235595703,-13.363791465759277,-2.4831161499023438,3.61997652053833,-31.221031188964844,-2.9440414905548096,1.394618272781372,-0.315065860748291,-33.35488510131836,-16.78215789794922,-36.54978561401367,-34.110748291015625,-19.88360595703125,-36.23891830444336,-7.703378200531006,-34.38486099243164,-33.2421875,-30.996227264404297,-32.847293853759766,-21.535282135009766,-21.42474365234375,-31.621732711791992,-14.764491081237793,-29.857097625732422,-23.15359115600586,20.632627487182617,21.605438232421875,27.56593894958496,54.38811111450195,24.43332862854004,49.434871673583984,30.722158432006836,36.554874420166016,23.693891525268555,37.74983596801758,31.554380416870117,10.346145629882812,15.296008110046387,25.22926902770996,18.34882926940918,9.036388397216797,40.60185241699219,50.534183502197266,19.512632369995117,55.92776107788086,22.676136016845703,65.03395080566406,33.88250732421875,47.260318756103516,-27.782257080078125,22.04802894592285,33.34685134887695,13.694540977478027,36.5032958984375,37.88519287109375],\"type\":\"scatter\"}],                        {\"template\":{\"data\":{\"histogram2dcontour\":[{\"type\":\"histogram2dcontour\",\"colorbar\":{\"outlinewidth\":0,\"ticks\":\"\"},\"colorscale\":[[0.0,\"#0d0887\"],[0.1111111111111111,\"#46039f\"],[0.2222222222222222,\"#7201a8\"],[0.3333333333333333,\"#9c179e\"],[0.4444444444444444,\"#bd3786\"],[0.5555555555555556,\"#d8576b\"],[0.6666666666666666,\"#ed7953\"],[0.7777777777777778,\"#fb9f3a\"],[0.8888888888888888,\"#fdca26\"],[1.0,\"#f0f921\"]]}],\"choropleth\":[{\"type\":\"choropleth\",\"colorbar\":{\"outlinewidth\":0,\"ticks\":\"\"}}],\"histogram2d\":[{\"type\":\"histogram2d\",\"colorbar\":{\"outlinewidth\":0,\"ticks\":\"\"},\"colorscale\":[[0.0,\"#0d0887\"],[0.1111111111111111,\"#46039f\"],[0.2222222222222222,\"#7201a8\"],[0.3333333333333333,\"#9c179e\"],[0.4444444444444444,\"#bd3786\"],[0.5555555555555556,\"#d8576b\"],[0.6666666666666666,\"#ed7953\"],[0.7777777777777778,\"#fb9f3a\"],[0.8888888888888888,\"#fdca26\"],[1.0,\"#f0f921\"]]}],\"heatmap\":[{\"type\":\"heatmap\",\"colorbar\":{\"outlinewidth\":0,\"ticks\":\"\"},\"colorscale\":[[0.0,\"#0d0887\"],[0.1111111111111111,\"#46039f\"],[0.2222222222222222,\"#7201a8\"],[0.3333333333333333,\"#9c179e\"],[0.4444444444444444,\"#bd3786\"],[0.5555555555555556,\"#d8576b\"],[0.6666666666666666,\"#ed7953\"],[0.7777777777777778,\"#fb9f3a\"],[0.8888888888888888,\"#fdca26\"],[1.0,\"#f0f921\"]]}],\"heatmapgl\":[{\"type\":\"heatmapgl\",\"colorbar\":{\"outlinewidth\":0,\"ticks\":\"\"},\"colorscale\":[[0.0,\"#0d0887\"],[0.1111111111111111,\"#46039f\"],[0.2222222222222222,\"#7201a8\"],[0.3333333333333333,\"#9c179e\"],[0.4444444444444444,\"#bd3786\"],[0.5555555555555556,\"#d8576b\"],[0.6666666666666666,\"#ed7953\"],[0.7777777777777778,\"#fb9f3a\"],[0.8888888888888888,\"#fdca26\"],[1.0,\"#f0f921\"]]}],\"contourcarpet\":[{\"type\":\"contourcarpet\",\"colorbar\":{\"outlinewidth\":0,\"ticks\":\"\"}}],\"contour\":[{\"type\":\"contour\",\"colorbar\":{\"outlinewidth\":0,\"ticks\":\"\"},\"colorscale\":[[0.0,\"#0d0887\"],[0.1111111111111111,\"#46039f\"],[0.2222222222222222,\"#7201a8\"],[0.3333333333333333,\"#9c179e\"],[0.4444444444444444,\"#bd3786\"],[0.5555555555555556,\"#d8576b\"],[0.6666666666666666,\"#ed7953\"],[0.7777777777777778,\"#fb9f3a\"],[0.8888888888888888,\"#fdca26\"],[1.0,\"#f0f921\"]]}],\"surface\":[{\"type\":\"surface\",\"colorbar\":{\"outlinewidth\":0,\"ticks\":\"\"},\"colorscale\":[[0.0,\"#0d0887\"],[0.1111111111111111,\"#46039f\"],[0.2222222222222222,\"#7201a8\"],[0.3333333333333333,\"#9c179e\"],[0.4444444444444444,\"#bd3786\"],[0.5555555555555556,\"#d8576b\"],[0.6666666666666666,\"#ed7953\"],[0.7777777777777778,\"#fb9f3a\"],[0.8888888888888888,\"#fdca26\"],[1.0,\"#f0f921\"]]}],\"mesh3d\":[{\"type\":\"mesh3d\",\"colorbar\":{\"outlinewidth\":0,\"ticks\":\"\"}}],\"scatter\":[{\"marker\":{\"line\":{\"color\":\"#283442\"}},\"type\":\"scatter\"}],\"parcoords\":[{\"type\":\"parcoords\",\"line\":{\"colorbar\":{\"outlinewidth\":0,\"ticks\":\"\"}}}],\"scatterpolargl\":[{\"type\":\"scatterpolargl\",\"marker\":{\"colorbar\":{\"outlinewidth\":0,\"ticks\":\"\"}}}],\"bar\":[{\"error_x\":{\"color\":\"#f2f5fa\"},\"error_y\":{\"color\":\"#f2f5fa\"},\"marker\":{\"line\":{\"color\":\"rgb(17,17,17)\",\"width\":0.5},\"pattern\":{\"fillmode\":\"overlay\",\"size\":10,\"solidity\":0.2}},\"type\":\"bar\"}],\"scattergeo\":[{\"type\":\"scattergeo\",\"marker\":{\"colorbar\":{\"outlinewidth\":0,\"ticks\":\"\"}}}],\"scatterpolar\":[{\"type\":\"scatterpolar\",\"marker\":{\"colorbar\":{\"outlinewidth\":0,\"ticks\":\"\"}}}],\"histogram\":[{\"marker\":{\"pattern\":{\"fillmode\":\"overlay\",\"size\":10,\"solidity\":0.2}},\"type\":\"histogram\"}],\"scattergl\":[{\"marker\":{\"line\":{\"color\":\"#283442\"}},\"type\":\"scattergl\"}],\"scatter3d\":[{\"type\":\"scatter3d\",\"line\":{\"colorbar\":{\"outlinewidth\":0,\"ticks\":\"\"}},\"marker\":{\"colorbar\":{\"outlinewidth\":0,\"ticks\":\"\"}}}],\"scattermapbox\":[{\"type\":\"scattermapbox\",\"marker\":{\"colorbar\":{\"outlinewidth\":0,\"ticks\":\"\"}}}],\"scatterternary\":[{\"type\":\"scatterternary\",\"marker\":{\"colorbar\":{\"outlinewidth\":0,\"ticks\":\"\"}}}],\"scattercarpet\":[{\"type\":\"scattercarpet\",\"marker\":{\"colorbar\":{\"outlinewidth\":0,\"ticks\":\"\"}}}],\"carpet\":[{\"aaxis\":{\"endlinecolor\":\"#A2B1C6\",\"gridcolor\":\"#506784\",\"linecolor\":\"#506784\",\"minorgridcolor\":\"#506784\",\"startlinecolor\":\"#A2B1C6\"},\"baxis\":{\"endlinecolor\":\"#A2B1C6\",\"gridcolor\":\"#506784\",\"linecolor\":\"#506784\",\"minorgridcolor\":\"#506784\",\"startlinecolor\":\"#A2B1C6\"},\"type\":\"carpet\"}],\"table\":[{\"cells\":{\"fill\":{\"color\":\"#506784\"},\"line\":{\"color\":\"rgb(17,17,17)\"}},\"header\":{\"fill\":{\"color\":\"#2a3f5f\"},\"line\":{\"color\":\"rgb(17,17,17)\"}},\"type\":\"table\"}],\"barpolar\":[{\"marker\":{\"line\":{\"color\":\"rgb(17,17,17)\",\"width\":0.5},\"pattern\":{\"fillmode\":\"overlay\",\"size\":10,\"solidity\":0.2}},\"type\":\"barpolar\"}],\"pie\":[{\"automargin\":true,\"type\":\"pie\"}]},\"layout\":{\"autotypenumbers\":\"strict\",\"colorway\":[\"#636efa\",\"#EF553B\",\"#00cc96\",\"#ab63fa\",\"#FFA15A\",\"#19d3f3\",\"#FF6692\",\"#B6E880\",\"#FF97FF\",\"#FECB52\"],\"font\":{\"color\":\"#f2f5fa\"},\"hovermode\":\"closest\",\"hoverlabel\":{\"align\":\"left\"},\"paper_bgcolor\":\"rgb(17,17,17)\",\"plot_bgcolor\":\"rgb(17,17,17)\",\"polar\":{\"bgcolor\":\"rgb(17,17,17)\",\"angularaxis\":{\"gridcolor\":\"#506784\",\"linecolor\":\"#506784\",\"ticks\":\"\"},\"radialaxis\":{\"gridcolor\":\"#506784\",\"linecolor\":\"#506784\",\"ticks\":\"\"}},\"ternary\":{\"bgcolor\":\"rgb(17,17,17)\",\"aaxis\":{\"gridcolor\":\"#506784\",\"linecolor\":\"#506784\",\"ticks\":\"\"},\"baxis\":{\"gridcolor\":\"#506784\",\"linecolor\":\"#506784\",\"ticks\":\"\"},\"caxis\":{\"gridcolor\":\"#506784\",\"linecolor\":\"#506784\",\"ticks\":\"\"}},\"coloraxis\":{\"colorbar\":{\"outlinewidth\":0,\"ticks\":\"\"}},\"colorscale\":{\"sequential\":[[0.0,\"#0d0887\"],[0.1111111111111111,\"#46039f\"],[0.2222222222222222,\"#7201a8\"],[0.3333333333333333,\"#9c179e\"],[0.4444444444444444,\"#bd3786\"],[0.5555555555555556,\"#d8576b\"],[0.6666666666666666,\"#ed7953\"],[0.7777777777777778,\"#fb9f3a\"],[0.8888888888888888,\"#fdca26\"],[1.0,\"#f0f921\"]],\"sequentialminus\":[[0.0,\"#0d0887\"],[0.1111111111111111,\"#46039f\"],[0.2222222222222222,\"#7201a8\"],[0.3333333333333333,\"#9c179e\"],[0.4444444444444444,\"#bd3786\"],[0.5555555555555556,\"#d8576b\"],[0.6666666666666666,\"#ed7953\"],[0.7777777777777778,\"#fb9f3a\"],[0.8888888888888888,\"#fdca26\"],[1.0,\"#f0f921\"]],\"diverging\":[[0,\"#8e0152\"],[0.1,\"#c51b7d\"],[0.2,\"#de77ae\"],[0.3,\"#f1b6da\"],[0.4,\"#fde0ef\"],[0.5,\"#f7f7f7\"],[0.6,\"#e6f5d0\"],[0.7,\"#b8e186\"],[0.8,\"#7fbc41\"],[0.9,\"#4d9221\"],[1,\"#276419\"]]},\"xaxis\":{\"gridcolor\":\"#283442\",\"linecolor\":\"#506784\",\"ticks\":\"\",\"title\":{\"standoff\":15},\"zerolinecolor\":\"#283442\",\"automargin\":true,\"zerolinewidth\":2},\"yaxis\":{\"gridcolor\":\"#283442\",\"linecolor\":\"#506784\",\"ticks\":\"\",\"title\":{\"standoff\":15},\"zerolinecolor\":\"#283442\",\"automargin\":true,\"zerolinewidth\":2},\"scene\":{\"xaxis\":{\"backgroundcolor\":\"rgb(17,17,17)\",\"gridcolor\":\"#506784\",\"linecolor\":\"#506784\",\"showbackground\":true,\"ticks\":\"\",\"zerolinecolor\":\"#C8D4E3\",\"gridwidth\":2},\"yaxis\":{\"backgroundcolor\":\"rgb(17,17,17)\",\"gridcolor\":\"#506784\",\"linecolor\":\"#506784\",\"showbackground\":true,\"ticks\":\"\",\"zerolinecolor\":\"#C8D4E3\",\"gridwidth\":2},\"zaxis\":{\"backgroundcolor\":\"rgb(17,17,17)\",\"gridcolor\":\"#506784\",\"linecolor\":\"#506784\",\"showbackground\":true,\"ticks\":\"\",\"zerolinecolor\":\"#C8D4E3\",\"gridwidth\":2}},\"shapedefaults\":{\"line\":{\"color\":\"#f2f5fa\"}},\"annotationdefaults\":{\"arrowcolor\":\"#f2f5fa\",\"arrowhead\":0,\"arrowwidth\":1},\"geo\":{\"bgcolor\":\"rgb(17,17,17)\",\"landcolor\":\"rgb(17,17,17)\",\"subunitcolor\":\"#506784\",\"showland\":true,\"showlakes\":true,\"lakecolor\":\"rgb(17,17,17)\"},\"title\":{\"x\":0.05},\"updatemenudefaults\":{\"bgcolor\":\"#506784\",\"borderwidth\":0},\"sliderdefaults\":{\"bgcolor\":\"#C8D4E3\",\"borderwidth\":1,\"bordercolor\":\"rgb(17,17,17)\",\"tickwidth\":0},\"mapbox\":{\"style\":\"dark\"}}}},                        {\"responsive\": true}                    ).then(function(){\n",
       "                            \n",
       "var gd = document.getElementById('34df0367-fd1c-45f4-9ef2-9b005cc06fac');\n",
       "var x = new MutationObserver(function (mutations, observer) {{\n",
       "        var display = window.getComputedStyle(gd).display;\n",
       "        if (!display || display === 'none') {{\n",
       "            console.log([gd, 'removed!']);\n",
       "            Plotly.purge(gd);\n",
       "            observer.disconnect();\n",
       "        }}\n",
       "}});\n",
       "\n",
       "// Listen for the removal of the full notebook cells\n",
       "var notebookContainer = gd.closest('#notebook-container');\n",
       "if (notebookContainer) {{\n",
       "    x.observe(notebookContainer, {childList: true});\n",
       "}}\n",
       "\n",
       "// Listen for the clearing of the current output cell\n",
       "var outputEl = gd.closest('.output');\n",
       "if (outputEl) {{\n",
       "    x.observe(outputEl, {childList: true});\n",
       "}}\n",
       "\n",
       "                        })                };                });            </script>        </div>"
      ]
     },
     "metadata": {},
     "output_type": "display_data"
    }
   ],
   "execution_count": 14
  }
 ],
 "metadata": {
  "kernelspec": {
   "display_name": "Python 3",
   "language": "python",
   "name": "python3"
  },
  "language_info": {
   "codemirror_mode": {
    "name": "ipython",
    "version": 2
   },
   "file_extension": ".py",
   "mimetype": "text/x-python",
   "name": "python",
   "nbconvert_exporter": "python",
   "pygments_lexer": "ipython2",
   "version": "2.7.6"
  }
 },
 "nbformat": 4,
 "nbformat_minor": 5
}
