{
 "cells": [
  {
   "cell_type": "code",
   "id": "initial_id",
   "metadata": {
    "collapsed": true,
    "ExecuteTime": {
     "end_time": "2024-06-11T20:37:19.903494Z",
     "start_time": "2024-06-11T20:37:19.897814Z"
    }
   },
   "source": [
    "import matplotlib.pyplot as plt\n",
    "from sklearn.manifold import TSNE\n",
    "from gensim.models import FastText\n",
    "import numpy as np\n",
    "import plotly.graph_objects as go\n",
    "from pathlib import Path\n",
    "\n",
    "# NOTE: A good chunk of the code in this NB is reused from A4.\n",
    "\n",
    "def tsne_plot_similar_words(labels, embedding_clusters, word_clusters, a=0.7) -> go.Figure:\n",
    "    fig_data = []\n",
    "    for label, embeddings, words in zip(labels, embedding_clusters, word_clusters):\n",
    "        x = embeddings[:, 0]\n",
    "        y = embeddings[:, 1]\n",
    "        fig_data.append(go.Scatter(x=x, y=y, mode='markers', marker=dict(size=8, opacity=a),\n",
    "                                   text=words, hoverinfo='text+name', name=label))\n",
    "    layout = go.Layout(showlegend=True, legend=dict(orientation=\"h\", y=-0.2), plot_bgcolor=\"rgba(0,0,0,0)\",\n",
    "                       paper_bgcolor=\"rgba(0,0,0,0)\", title='handicap 2020 similar words')\n",
    "    fig = go.Figure(data=fig_data, layout=layout)\n",
    "    return fig"
   ],
   "outputs": [],
   "execution_count": 9
  },
  {
   "metadata": {
    "ExecuteTime": {
     "end_time": "2024-06-11T20:37:21.344957Z",
     "start_time": "2024-06-11T20:37:19.905732Z"
    }
   },
   "cell_type": "code",
   "source": [
    "term = 'disab'\n",
    "decade = 1990\n",
    "\n",
    "print(Path.cwd())\n",
    "script_loc = Path.cwd()\n",
    "data_path = script_loc.parent/'data'\n",
    "json_path = data_path / term / f'{decade}s' / 'json'\n",
    "\n",
    "model = FastText.load(str(json_path/'fasttext_model.bin'))"
   ],
   "id": "3de221667b4cf241",
   "outputs": [
    {
     "name": "stdout",
     "output_type": "stream",
     "text": [
      "/home/noah/Documents/disability_trends/code/embed\n"
     ]
    }
   ],
   "execution_count": 10
  },
  {
   "metadata": {
    "ExecuteTime": {
     "end_time": "2024-06-11T20:37:21.369964Z",
     "start_time": "2024-06-11T20:37:21.346045Z"
    }
   },
   "cell_type": "code",
   "source": [
    "keys = ['disability', 'neurodiversity', 'autism', 'spectrum', 'handicap', 'golf']\n",
    "embedding_clusters = []\n",
    "word_clusters = []\n",
    "\n",
    "for word in keys:\n",
    "    embeddings = []\n",
    "    words = []\n",
    "    for similar_word, _ in model.wv.most_similar(word, topn=30):\n",
    "        words.append(similar_word)\n",
    "        embeddings.append(model.wv[similar_word])\n",
    "    embedding_clusters.append(embeddings)#apending access vector of all similar words\n",
    "    word_clusters.append(words)#appending list of all smiliar words"
   ],
   "id": "583c52d8ff66e925",
   "outputs": [],
   "execution_count": 11
  },
  {
   "metadata": {
    "ExecuteTime": {
     "end_time": "2024-06-11T20:37:27.339499Z",
     "start_time": "2024-06-11T20:37:21.372853Z"
    }
   },
   "cell_type": "code",
   "source": [
    "embedding_clusters = np.array(embedding_clusters)\n",
    "n, m, k = embedding_clusters.shape #geting the dimensions\n",
    "tsne_model_en_2d = TSNE(perplexity=5, n_components=2, init='pca', max_iter=1500, random_state=2020)\n",
    "embeddings_en_2d = np.array(tsne_model_en_2d.fit_transform(embedding_clusters.reshape(n * m, k))).reshape(n, m, 2) #reshaping it into 2d so we can visualize it"
   ],
   "id": "905d5ed6e5183684",
   "outputs": [],
   "execution_count": 12
  },
  {
   "metadata": {
    "ExecuteTime": {
     "end_time": "2024-06-11T20:37:27.356119Z",
     "start_time": "2024-06-11T20:37:27.340602Z"
    }
   },
   "cell_type": "code",
   "source": "tsne_plot_similar_words(keys, embeddings_en_2d, word_clusters, 0.7).show()",
   "id": "67ff28b0126780a",
   "outputs": [
    {
     "data": {
      "application/vnd.plotly.v1+json": {
       "data": [
        {
         "hoverinfo": "text+name",
         "marker": {
          "opacity": 0.7,
          "size": 8
         },
         "mode": "markers",
         "name": "disability",
         "text": [
          "disability79",
          "disability2",
          "disability97",
          "disabilityvy",
          "disability77",
          "disability85",
          "disability209",
          "disability83",
          "disability205",
          "disability87",
          "disability203",
          "disability89",
          "disability207",
          "disability223",
          "disability225",
          "disabilitymobility",
          "disability201",
          "disability197",
          "havedisability",
          "todisability",
          "disabilities3",
          "disabilitymay",
          "disabilities5",
          "pre-disability",
          "disabilite",
          "disabili-ty",
          "disabilities19",
          "cross-disability",
          "disability199",
          "thedisability"
         ],
         "x": [
          41.09930419921875,
          38.4539909362793,
          39.36763000488281,
          40.32318878173828,
          40.5394401550293,
          40.74696731567383,
          66.64537811279297,
          39.8500862121582,
          67.32439422607422,
          41.665863037109375,
          68.60157775878906,
          41.59268569946289,
          69.4297866821289,
          69.44512176513672,
          69.74751281738281,
          51.418540954589844,
          70.96639251708984,
          71.83529663085938,
          52.970340728759766,
          50.07938003540039,
          63.39932632446289,
          68.98649597167969,
          63.71432876586914,
          52.17539596557617,
          37.581111907958984,
          63.62057876586914,
          62.62296676635742,
          64.4366455078125,
          73.11393737792969,
          50.658477783203125
         ],
         "y": [
          -1.0203757286071777,
          -4.793112277984619,
          -0.8145825266838074,
          -0.09419833868741989,
          -2.103071689605713,
          -3.2310781478881836,
          -10.971258163452148,
          -3.52519154548645,
          -11.790332794189453,
          -4.670211315155029,
          -11.61926555633545,
          -5.658567428588867,
          -10.745177268981934,
          -12.054390907287598,
          -13.183097839355469,
          -6.182311534881592,
          -11.396240234375,
          -13.41559886932373,
          -6.811580181121826,
          -5.9952168464660645,
          -17.582504272460938,
          -8.81749153137207,
          -18.031875610351562,
          -6.336997032165527,
          -5.90755558013916,
          -16.083572387695312,
          -18.732160568237305,
          -19.695743560791016,
          -13.95658016204834,
          -4.504878044128418
         ],
         "type": "scatter"
        },
        {
         "hoverinfo": "text+name",
         "marker": {
          "opacity": 0.7,
          "size": 8
         },
         "mode": "markers",
         "name": "neurodiversity",
         "text": [
          "diversity",
          "university",
          "theUniversity",
          "adversity",
          "Diversity",
          "Industry",
          "Partnership",
          "Party",
          "Majesty",
          "arts",
          "Drivers",
          "Anniversary",
          "Moriarty",
          "HempUniversity",
          "NeathUniversity",
          "Directorate",
          "Partners",
          "Laboratories",
          "Universalizing",
          "Inspector",
          "sponsor",
          "Dentistry",
          "Schools",
          "sponsorship",
          "Standard",
          "Consultant",
          "ownership",
          "Traffic",
          "Correspondent",
          "Christy"
         ],
         "x": [
          -57.72318649291992,
          -57.125858306884766,
          -56.074745178222656,
          -58.19731521606445,
          -57.305538177490234,
          -43.58848571777344,
          -47.79549789428711,
          -52.08660888671875,
          -29.861337661743164,
          -39.17285919189453,
          -39.04814910888672,
          -38.02836990356445,
          -31.664335250854492,
          -53.54153823852539,
          -52.976566314697266,
          -47.06668472290039,
          -48.72532272338867,
          -36.359405517578125,
          -50.156368255615234,
          -52.807186126708984,
          -44.39453125,
          -45.626007080078125,
          -36.03399658203125,
          -41.30019760131836,
          -34.67332458496094,
          -43.73455047607422,
          -40.8436279296875,
          -35.4637336730957,
          -43.33750534057617,
          -32.470211029052734
         ],
         "y": [
          -15.313413619995117,
          -14.850408554077148,
          -15.576257705688477,
          -16.50023651123047,
          -13.329495429992676,
          -7.185612678527832,
          -11.639963150024414,
          -13.783750534057617,
          -10.209065437316895,
          -7.865445137023926,
          -10.696305274963379,
          -10.287940979003906,
          -9.79983901977539,
          -12.111153602600098,
          -11.871811866760254,
          -6.467159748077393,
          -11.78478717803955,
          -9.350393295288086,
          -10.079740524291992,
          -10.238497734069824,
          -5.185116767883301,
          -7.251371383666992,
          -11.148782730102539,
          -5.754288673400879,
          -2.439527750015259,
          -8.157831192016602,
          -5.180298328399658,
          -8.635871887207031,
          -9.208301544189453,
          -9.362251281738281
         ],
         "type": "scatter"
        },
        {
         "hoverinfo": "text+name",
         "marker": {
          "opacity": 0.7,
          "size": 8
         },
         "mode": "markers",
         "name": "autism",
         "text": [
          "Passaic",
          "Hennessy",
          "Mlinarcik",
          "auspices",
          "Laurel",
          "tunnel",
          "Darius",
          "Nexus",
          "Birmingham",
          "Katrina",
          "Angel",
          "Autism",
          "Malinga",
          "Bass",
          "Mellencamp",
          "Prosthetic",
          "Mandatory",
          "Hassanali",
          "Rothmans",
          "Wolftheorizes",
          "Ashcroft",
          "Dominic",
          "Uehara",
          "Zambians",
          "Schizophrenic",
          "Paraplegic",
          "Voices",
          "Mindes",
          "Lines",
          "Goode"
         ],
         "x": [
          -23.258115768432617,
          -26.77391242980957,
          -10.091168403625488,
          -24.224517822265625,
          -21.904558181762695,
          -17.92885971069336,
          -13.472532272338867,
          -13.212532997131348,
          -21.513277053833008,
          -21.043733596801758,
          -17.37981414794922,
          -13.70297622680664,
          -28.1031436920166,
          -33.41157913208008,
          -19.729318618774414,
          -25.126056671142578,
          -32.47677993774414,
          -23.251731872558594,
          -25.205570220947266,
          -13.474983215332031,
          -9.085113525390625,
          -25.61829376220703,
          -10.32504940032959,
          -12.470721244812012,
          -10.855311393737793,
          -18.961807250976562,
          -25.481674194335938,
          -30.137434005737305,
          -31.632789611816406,
          -21.939115524291992
         ],
         "y": [
          -8.656390190124512,
          -4.131890296936035,
          -17.350292205810547,
          -8.236385345458984,
          -8.454111099243164,
          -7.9729084968566895,
          -13.244611740112305,
          -14.194750785827637,
          -5.0495758056640625,
          -10.094255447387695,
          -7.601962566375732,
          -15.756061553955078,
          -3.168604612350464,
          -0.1596122682094574,
          -7.2590436935424805,
          -15.410577774047852,
          -1.3322473764419556,
          -9.9705228805542,
          -5.194562911987305,
          -11.814620971679688,
          -17.573789596557617,
          -15.499335289001465,
          -15.188495635986328,
          -15.361109733581543,
          -14.235374450683594,
          -5.35369348526001,
          -6.887714862823486,
          -1.335119366645813,
          -1.418715238571167,
          -4.266732692718506
         ],
         "type": "scatter"
        },
        {
         "hoverinfo": "text+name",
         "marker": {
          "opacity": 0.7,
          "size": 8
         },
         "mode": "markers",
         "name": "spectrum",
         "text": [
          "broadperspective",
          "speculative",
          "diverse",
          "industrialist",
          "upperrange",
          "reengineering",
          "upcoming",
          "orienteering",
          "postgraduate",
          "coming",
          "graduate",
          "fuel",
          "validate",
          "engineering",
          "readership",
          "interconnect",
          "speculate",
          "steering",
          "co-operative",
          "gratitude",
          "arrange",
          "strict",
          "desegregate",
          "gatekeeping",
          "Engineering",
          "deliberate",
          "mastectomypatient",
          "fluctuate",
          "formaltreate",
          "preparedness"
         ],
         "x": [
          -16.15283203125,
          -12.204442024230957,
          -9.355770111083984,
          -15.424592018127441,
          -14.30595588684082,
          -13.555503845214844,
          -11.513267517089844,
          -15.852432250976562,
          -12.638434410095215,
          -7.95803165435791,
          -8.78565788269043,
          -16.00728988647461,
          -10.393035888671875,
          -13.258048057556152,
          -12.04640007019043,
          -16.86570930480957,
          -8.909937858581543,
          -10.373414993286133,
          -12.254533767700195,
          -16.639205932617188,
          -8.912174224853516,
          -11.693079948425293,
          -11.655427932739258,
          -15.24992847442627,
          -14.756203651428223,
          -9.329419136047363,
          -13.115309715270996,
          -12.154876708984375,
          -11.415135383605957,
          -10.983031272888184
         ],
         "y": [
          47.80336380004883,
          55.13007354736328,
          60.3302001953125,
          43.83073043823242,
          46.23067092895508,
          40.90840148925781,
          40.837677001953125,
          42.329864501953125,
          47.19316101074219,
          57.84859085083008,
          53.096561431884766,
          36.74727249145508,
          53.18095016479492,
          40.36070251464844,
          58.54825210571289,
          45.17477035522461,
          55.47765350341797,
          41.70439910888672,
          54.51420593261719,
          48.725765228271484,
          60.833980560302734,
          59.27280044555664,
          49.83364486694336,
          37.93739318847656,
          38.429325103759766,
          54.62492370605469,
          45.30398941040039,
          48.1141242980957,
          51.001220703125,
          39.193668365478516
         ],
         "type": "scatter"
        },
        {
         "hoverinfo": "text+name",
         "marker": {
          "opacity": 0.7,
          "size": 8
         },
         "mode": "markers",
         "name": "handicap",
         "text": [
          "handicape",
          "nonhandicapped",
          "physicalhandicap",
          "non-handicapped",
          "handicapping",
          "handicapped",
          "Problem",
          "handicraft",
          "physicaldemand",
          "physique",
          "physician",
          "Problems",
          "impairmentsneed",
          "impairmentpresented",
          "impaired",
          "physics",
          "andphysicalpowerdifferences",
          "Handicapped",
          "impairmentsfound",
          "mentallyretarded",
          "impairmentand",
          "phd",
          "physi-",
          "psychiatricallydiagnosed",
          "impairmentspossible",
          "impair",
          "phys-",
          "phys-icalor",
          "causesofimpairment",
          "permanentimpairment"
         ],
         "x": [
          12.568705558776855,
          11.923041343688965,
          25.567537307739258,
          12.180025100708008,
          13.41862678527832,
          10.615880012512207,
          16.65717315673828,
          19.086849212646484,
          23.672822952270508,
          22.421964645385742,
          26.971725463867188,
          17.849044799804688,
          34.76601791381836,
          32.71922302246094,
          37.112342834472656,
          25.736835479736328,
          19.937942504882812,
          12.084835052490234,
          32.986202239990234,
          23.52747917175293,
          33.811405181884766,
          -7.5080037117004395,
          24.443748474121094,
          20.074432373046875,
          36.135711669921875,
          36.95161056518555,
          23.24955177307129,
          21.30751609802246,
          33.99936294555664,
          34.275875091552734
         ],
         "y": [
          13.865928649902344,
          15.0747652053833,
          26.095211029052734,
          15.694506645202637,
          14.926630973815918,
          14.332948684692383,
          17.117958068847656,
          18.59810447692871,
          25.34210777282715,
          23.002986907958984,
          26.20005226135254,
          17.937881469726562,
          39.103118896484375,
          37.96677780151367,
          40.244529724121094,
          25.035192489624023,
          20.588783264160156,
          12.239888191223145,
          37.1737060546875,
          26.965822219848633,
          40.484886169433594,
          -17.806215286254883,
          23.89514923095703,
          19.63640785217285,
          38.93761444091797,
          41.28571701049805,
          22.435623168945312,
          20.36886978149414,
          37.528053283691406,
          36.166831970214844
         ],
         "type": "scatter"
        },
        {
         "hoverinfo": "text+name",
         "marker": {
          "opacity": 0.7,
          "size": 8
         },
         "mode": "markers",
         "name": "golf",
         "text": [
          "feedback",
          "cloak",
          "gown",
          "hasit",
          "babysit",
          "neck",
          "downside",
          "back",
          "railway",
          "aback",
          "bait",
          "pizza",
          "quiet",
          "itself",
          "clawback",
          "deposit",
          "gulf",
          "playback",
          "sit",
          "bul",
          "speak",
          "pulpit",
          "go",
          "bullpen",
          "backlog",
          "tack",
          "hook",
          "look",
          "bump",
          "try"
         ],
         "x": [
          8.063199043273926,
          1.3625236749649048,
          10.55063247680664,
          14.194327354431152,
          6.566816806793213,
          8.575617790222168,
          9.33712387084961,
          9.4817533493042,
          7.132503032684326,
          9.493425369262695,
          15.662809371948242,
          0.41895443201065063,
          8.700692176818848,
          16.882694244384766,
          8.533378601074219,
          13.820329666137695,
          1.2585337162017822,
          9.468622207641602,
          11.468019485473633,
          9.060354232788086,
          5.458334445953369,
          6.005425930023193,
          10.786100387573242,
          4.9538092613220215,
          7.824160575866699,
          8.327073097229004,
          6.50227689743042,
          10.768111228942871,
          4.246396541595459,
          9.325066566467285
         ],
         "y": [
          -37.210811614990234,
          -27.4488525390625,
          -43.99980163574219,
          -43.2838249206543,
          -33.89833068847656,
          -45.47134780883789,
          -43.716217041015625,
          -49.08653259277344,
          -37.293704986572266,
          -38.94330596923828,
          -43.374874114990234,
          -26.58222198486328,
          -40.0975227355957,
          -43.216156005859375,
          -35.73322677612305,
          -42.82139587402344,
          -26.472719192504883,
          -34.874412536621094,
          -51.692840576171875,
          -42.263702392578125,
          -46.448524475097656,
          -33.318851470947266,
          -53.223968505859375,
          -31.532621383666992,
          -33.693809509277344,
          -46.72043228149414,
          -46.56532287597656,
          -51.14994812011719,
          -31.292163848876953,
          -50.393035888671875
         ],
         "type": "scatter"
        }
       ],
       "layout": {
        "legend": {
         "orientation": "h",
         "y": -0.2
        },
        "paper_bgcolor": "rgba(0,0,0,0)",
        "plot_bgcolor": "rgba(0,0,0,0)",
        "showlegend": true,
        "title": {
         "text": "handicap 2020 similar words"
        },
        "template": {
         "data": {
          "histogram2dcontour": [
           {
            "type": "histogram2dcontour",
            "colorbar": {
             "outlinewidth": 0,
             "ticks": ""
            },
            "colorscale": [
             [
              0.0,
              "#0d0887"
             ],
             [
              0.1111111111111111,
              "#46039f"
             ],
             [
              0.2222222222222222,
              "#7201a8"
             ],
             [
              0.3333333333333333,
              "#9c179e"
             ],
             [
              0.4444444444444444,
              "#bd3786"
             ],
             [
              0.5555555555555556,
              "#d8576b"
             ],
             [
              0.6666666666666666,
              "#ed7953"
             ],
             [
              0.7777777777777778,
              "#fb9f3a"
             ],
             [
              0.8888888888888888,
              "#fdca26"
             ],
             [
              1.0,
              "#f0f921"
             ]
            ]
           }
          ],
          "choropleth": [
           {
            "type": "choropleth",
            "colorbar": {
             "outlinewidth": 0,
             "ticks": ""
            }
           }
          ],
          "histogram2d": [
           {
            "type": "histogram2d",
            "colorbar": {
             "outlinewidth": 0,
             "ticks": ""
            },
            "colorscale": [
             [
              0.0,
              "#0d0887"
             ],
             [
              0.1111111111111111,
              "#46039f"
             ],
             [
              0.2222222222222222,
              "#7201a8"
             ],
             [
              0.3333333333333333,
              "#9c179e"
             ],
             [
              0.4444444444444444,
              "#bd3786"
             ],
             [
              0.5555555555555556,
              "#d8576b"
             ],
             [
              0.6666666666666666,
              "#ed7953"
             ],
             [
              0.7777777777777778,
              "#fb9f3a"
             ],
             [
              0.8888888888888888,
              "#fdca26"
             ],
             [
              1.0,
              "#f0f921"
             ]
            ]
           }
          ],
          "heatmap": [
           {
            "type": "heatmap",
            "colorbar": {
             "outlinewidth": 0,
             "ticks": ""
            },
            "colorscale": [
             [
              0.0,
              "#0d0887"
             ],
             [
              0.1111111111111111,
              "#46039f"
             ],
             [
              0.2222222222222222,
              "#7201a8"
             ],
             [
              0.3333333333333333,
              "#9c179e"
             ],
             [
              0.4444444444444444,
              "#bd3786"
             ],
             [
              0.5555555555555556,
              "#d8576b"
             ],
             [
              0.6666666666666666,
              "#ed7953"
             ],
             [
              0.7777777777777778,
              "#fb9f3a"
             ],
             [
              0.8888888888888888,
              "#fdca26"
             ],
             [
              1.0,
              "#f0f921"
             ]
            ]
           }
          ],
          "heatmapgl": [
           {
            "type": "heatmapgl",
            "colorbar": {
             "outlinewidth": 0,
             "ticks": ""
            },
            "colorscale": [
             [
              0.0,
              "#0d0887"
             ],
             [
              0.1111111111111111,
              "#46039f"
             ],
             [
              0.2222222222222222,
              "#7201a8"
             ],
             [
              0.3333333333333333,
              "#9c179e"
             ],
             [
              0.4444444444444444,
              "#bd3786"
             ],
             [
              0.5555555555555556,
              "#d8576b"
             ],
             [
              0.6666666666666666,
              "#ed7953"
             ],
             [
              0.7777777777777778,
              "#fb9f3a"
             ],
             [
              0.8888888888888888,
              "#fdca26"
             ],
             [
              1.0,
              "#f0f921"
             ]
            ]
           }
          ],
          "contourcarpet": [
           {
            "type": "contourcarpet",
            "colorbar": {
             "outlinewidth": 0,
             "ticks": ""
            }
           }
          ],
          "contour": [
           {
            "type": "contour",
            "colorbar": {
             "outlinewidth": 0,
             "ticks": ""
            },
            "colorscale": [
             [
              0.0,
              "#0d0887"
             ],
             [
              0.1111111111111111,
              "#46039f"
             ],
             [
              0.2222222222222222,
              "#7201a8"
             ],
             [
              0.3333333333333333,
              "#9c179e"
             ],
             [
              0.4444444444444444,
              "#bd3786"
             ],
             [
              0.5555555555555556,
              "#d8576b"
             ],
             [
              0.6666666666666666,
              "#ed7953"
             ],
             [
              0.7777777777777778,
              "#fb9f3a"
             ],
             [
              0.8888888888888888,
              "#fdca26"
             ],
             [
              1.0,
              "#f0f921"
             ]
            ]
           }
          ],
          "surface": [
           {
            "type": "surface",
            "colorbar": {
             "outlinewidth": 0,
             "ticks": ""
            },
            "colorscale": [
             [
              0.0,
              "#0d0887"
             ],
             [
              0.1111111111111111,
              "#46039f"
             ],
             [
              0.2222222222222222,
              "#7201a8"
             ],
             [
              0.3333333333333333,
              "#9c179e"
             ],
             [
              0.4444444444444444,
              "#bd3786"
             ],
             [
              0.5555555555555556,
              "#d8576b"
             ],
             [
              0.6666666666666666,
              "#ed7953"
             ],
             [
              0.7777777777777778,
              "#fb9f3a"
             ],
             [
              0.8888888888888888,
              "#fdca26"
             ],
             [
              1.0,
              "#f0f921"
             ]
            ]
           }
          ],
          "mesh3d": [
           {
            "type": "mesh3d",
            "colorbar": {
             "outlinewidth": 0,
             "ticks": ""
            }
           }
          ],
          "scatter": [
           {
            "marker": {
             "line": {
              "color": "#283442"
             }
            },
            "type": "scatter"
           }
          ],
          "parcoords": [
           {
            "type": "parcoords",
            "line": {
             "colorbar": {
              "outlinewidth": 0,
              "ticks": ""
             }
            }
           }
          ],
          "scatterpolargl": [
           {
            "type": "scatterpolargl",
            "marker": {
             "colorbar": {
              "outlinewidth": 0,
              "ticks": ""
             }
            }
           }
          ],
          "bar": [
           {
            "error_x": {
             "color": "#f2f5fa"
            },
            "error_y": {
             "color": "#f2f5fa"
            },
            "marker": {
             "line": {
              "color": "rgb(17,17,17)",
              "width": 0.5
             },
             "pattern": {
              "fillmode": "overlay",
              "size": 10,
              "solidity": 0.2
             }
            },
            "type": "bar"
           }
          ],
          "scattergeo": [
           {
            "type": "scattergeo",
            "marker": {
             "colorbar": {
              "outlinewidth": 0,
              "ticks": ""
             }
            }
           }
          ],
          "scatterpolar": [
           {
            "type": "scatterpolar",
            "marker": {
             "colorbar": {
              "outlinewidth": 0,
              "ticks": ""
             }
            }
           }
          ],
          "histogram": [
           {
            "marker": {
             "pattern": {
              "fillmode": "overlay",
              "size": 10,
              "solidity": 0.2
             }
            },
            "type": "histogram"
           }
          ],
          "scattergl": [
           {
            "marker": {
             "line": {
              "color": "#283442"
             }
            },
            "type": "scattergl"
           }
          ],
          "scatter3d": [
           {
            "type": "scatter3d",
            "line": {
             "colorbar": {
              "outlinewidth": 0,
              "ticks": ""
             }
            },
            "marker": {
             "colorbar": {
              "outlinewidth": 0,
              "ticks": ""
             }
            }
           }
          ],
          "scattermapbox": [
           {
            "type": "scattermapbox",
            "marker": {
             "colorbar": {
              "outlinewidth": 0,
              "ticks": ""
             }
            }
           }
          ],
          "scatterternary": [
           {
            "type": "scatterternary",
            "marker": {
             "colorbar": {
              "outlinewidth": 0,
              "ticks": ""
             }
            }
           }
          ],
          "scattercarpet": [
           {
            "type": "scattercarpet",
            "marker": {
             "colorbar": {
              "outlinewidth": 0,
              "ticks": ""
             }
            }
           }
          ],
          "carpet": [
           {
            "aaxis": {
             "endlinecolor": "#A2B1C6",
             "gridcolor": "#506784",
             "linecolor": "#506784",
             "minorgridcolor": "#506784",
             "startlinecolor": "#A2B1C6"
            },
            "baxis": {
             "endlinecolor": "#A2B1C6",
             "gridcolor": "#506784",
             "linecolor": "#506784",
             "minorgridcolor": "#506784",
             "startlinecolor": "#A2B1C6"
            },
            "type": "carpet"
           }
          ],
          "table": [
           {
            "cells": {
             "fill": {
              "color": "#506784"
             },
             "line": {
              "color": "rgb(17,17,17)"
             }
            },
            "header": {
             "fill": {
              "color": "#2a3f5f"
             },
             "line": {
              "color": "rgb(17,17,17)"
             }
            },
            "type": "table"
           }
          ],
          "barpolar": [
           {
            "marker": {
             "line": {
              "color": "rgb(17,17,17)",
              "width": 0.5
             },
             "pattern": {
              "fillmode": "overlay",
              "size": 10,
              "solidity": 0.2
             }
            },
            "type": "barpolar"
           }
          ],
          "pie": [
           {
            "automargin": true,
            "type": "pie"
           }
          ]
         },
         "layout": {
          "autotypenumbers": "strict",
          "colorway": [
           "#636efa",
           "#EF553B",
           "#00cc96",
           "#ab63fa",
           "#FFA15A",
           "#19d3f3",
           "#FF6692",
           "#B6E880",
           "#FF97FF",
           "#FECB52"
          ],
          "font": {
           "color": "#f2f5fa"
          },
          "hovermode": "closest",
          "hoverlabel": {
           "align": "left"
          },
          "paper_bgcolor": "rgb(17,17,17)",
          "plot_bgcolor": "rgb(17,17,17)",
          "polar": {
           "bgcolor": "rgb(17,17,17)",
           "angularaxis": {
            "gridcolor": "#506784",
            "linecolor": "#506784",
            "ticks": ""
           },
           "radialaxis": {
            "gridcolor": "#506784",
            "linecolor": "#506784",
            "ticks": ""
           }
          },
          "ternary": {
           "bgcolor": "rgb(17,17,17)",
           "aaxis": {
            "gridcolor": "#506784",
            "linecolor": "#506784",
            "ticks": ""
           },
           "baxis": {
            "gridcolor": "#506784",
            "linecolor": "#506784",
            "ticks": ""
           },
           "caxis": {
            "gridcolor": "#506784",
            "linecolor": "#506784",
            "ticks": ""
           }
          },
          "coloraxis": {
           "colorbar": {
            "outlinewidth": 0,
            "ticks": ""
           }
          },
          "colorscale": {
           "sequential": [
            [
             0.0,
             "#0d0887"
            ],
            [
             0.1111111111111111,
             "#46039f"
            ],
            [
             0.2222222222222222,
             "#7201a8"
            ],
            [
             0.3333333333333333,
             "#9c179e"
            ],
            [
             0.4444444444444444,
             "#bd3786"
            ],
            [
             0.5555555555555556,
             "#d8576b"
            ],
            [
             0.6666666666666666,
             "#ed7953"
            ],
            [
             0.7777777777777778,
             "#fb9f3a"
            ],
            [
             0.8888888888888888,
             "#fdca26"
            ],
            [
             1.0,
             "#f0f921"
            ]
           ],
           "sequentialminus": [
            [
             0.0,
             "#0d0887"
            ],
            [
             0.1111111111111111,
             "#46039f"
            ],
            [
             0.2222222222222222,
             "#7201a8"
            ],
            [
             0.3333333333333333,
             "#9c179e"
            ],
            [
             0.4444444444444444,
             "#bd3786"
            ],
            [
             0.5555555555555556,
             "#d8576b"
            ],
            [
             0.6666666666666666,
             "#ed7953"
            ],
            [
             0.7777777777777778,
             "#fb9f3a"
            ],
            [
             0.8888888888888888,
             "#fdca26"
            ],
            [
             1.0,
             "#f0f921"
            ]
           ],
           "diverging": [
            [
             0,
             "#8e0152"
            ],
            [
             0.1,
             "#c51b7d"
            ],
            [
             0.2,
             "#de77ae"
            ],
            [
             0.3,
             "#f1b6da"
            ],
            [
             0.4,
             "#fde0ef"
            ],
            [
             0.5,
             "#f7f7f7"
            ],
            [
             0.6,
             "#e6f5d0"
            ],
            [
             0.7,
             "#b8e186"
            ],
            [
             0.8,
             "#7fbc41"
            ],
            [
             0.9,
             "#4d9221"
            ],
            [
             1,
             "#276419"
            ]
           ]
          },
          "xaxis": {
           "gridcolor": "#283442",
           "linecolor": "#506784",
           "ticks": "",
           "title": {
            "standoff": 15
           },
           "zerolinecolor": "#283442",
           "automargin": true,
           "zerolinewidth": 2
          },
          "yaxis": {
           "gridcolor": "#283442",
           "linecolor": "#506784",
           "ticks": "",
           "title": {
            "standoff": 15
           },
           "zerolinecolor": "#283442",
           "automargin": true,
           "zerolinewidth": 2
          },
          "scene": {
           "xaxis": {
            "backgroundcolor": "rgb(17,17,17)",
            "gridcolor": "#506784",
            "linecolor": "#506784",
            "showbackground": true,
            "ticks": "",
            "zerolinecolor": "#C8D4E3",
            "gridwidth": 2
           },
           "yaxis": {
            "backgroundcolor": "rgb(17,17,17)",
            "gridcolor": "#506784",
            "linecolor": "#506784",
            "showbackground": true,
            "ticks": "",
            "zerolinecolor": "#C8D4E3",
            "gridwidth": 2
           },
           "zaxis": {
            "backgroundcolor": "rgb(17,17,17)",
            "gridcolor": "#506784",
            "linecolor": "#506784",
            "showbackground": true,
            "ticks": "",
            "zerolinecolor": "#C8D4E3",
            "gridwidth": 2
           }
          },
          "shapedefaults": {
           "line": {
            "color": "#f2f5fa"
           }
          },
          "annotationdefaults": {
           "arrowcolor": "#f2f5fa",
           "arrowhead": 0,
           "arrowwidth": 1
          },
          "geo": {
           "bgcolor": "rgb(17,17,17)",
           "landcolor": "rgb(17,17,17)",
           "subunitcolor": "#506784",
           "showland": true,
           "showlakes": true,
           "lakecolor": "rgb(17,17,17)"
          },
          "title": {
           "x": 0.05
          },
          "updatemenudefaults": {
           "bgcolor": "#506784",
           "borderwidth": 0
          },
          "sliderdefaults": {
           "bgcolor": "#C8D4E3",
           "borderwidth": 1,
           "bordercolor": "rgb(17,17,17)",
           "tickwidth": 0
          },
          "mapbox": {
           "style": "dark"
          }
         }
        }
       },
       "config": {
        "plotlyServerURL": "https://plot.ly"
       }
      },
      "text/html": [
       "<div>                            <div id=\"c274c506-0baf-4ff8-9feb-8ba92ff55ba5\" class=\"plotly-graph-div\" style=\"height:525px; width:100%;\"></div>            <script type=\"text/javascript\">                require([\"plotly\"], function(Plotly) {                    window.PLOTLYENV=window.PLOTLYENV || {};                                    if (document.getElementById(\"c274c506-0baf-4ff8-9feb-8ba92ff55ba5\")) {                    Plotly.newPlot(                        \"c274c506-0baf-4ff8-9feb-8ba92ff55ba5\",                        [{\"hoverinfo\":\"text+name\",\"marker\":{\"opacity\":0.7,\"size\":8},\"mode\":\"markers\",\"name\":\"disability\",\"text\":[\"disability79\",\"disability2\",\"disability97\",\"disabilityvy\",\"disability77\",\"disability85\",\"disability209\",\"disability83\",\"disability205\",\"disability87\",\"disability203\",\"disability89\",\"disability207\",\"disability223\",\"disability225\",\"disabilitymobility\",\"disability201\",\"disability197\",\"havedisability\",\"todisability\",\"disabilities3\",\"disabilitymay\",\"disabilities5\",\"pre-disability\",\"disabilite\",\"disabili-ty\",\"disabilities19\",\"cross-disability\",\"disability199\",\"thedisability\"],\"x\":[41.09930419921875,38.4539909362793,39.36763000488281,40.32318878173828,40.5394401550293,40.74696731567383,66.64537811279297,39.8500862121582,67.32439422607422,41.665863037109375,68.60157775878906,41.59268569946289,69.4297866821289,69.44512176513672,69.74751281738281,51.418540954589844,70.96639251708984,71.83529663085938,52.970340728759766,50.07938003540039,63.39932632446289,68.98649597167969,63.71432876586914,52.17539596557617,37.581111907958984,63.62057876586914,62.62296676635742,64.4366455078125,73.11393737792969,50.658477783203125],\"y\":[-1.0203757286071777,-4.793112277984619,-0.8145825266838074,-0.09419833868741989,-2.103071689605713,-3.2310781478881836,-10.971258163452148,-3.52519154548645,-11.790332794189453,-4.670211315155029,-11.61926555633545,-5.658567428588867,-10.745177268981934,-12.054390907287598,-13.183097839355469,-6.182311534881592,-11.396240234375,-13.41559886932373,-6.811580181121826,-5.9952168464660645,-17.582504272460938,-8.81749153137207,-18.031875610351562,-6.336997032165527,-5.90755558013916,-16.083572387695312,-18.732160568237305,-19.695743560791016,-13.95658016204834,-4.504878044128418],\"type\":\"scatter\"},{\"hoverinfo\":\"text+name\",\"marker\":{\"opacity\":0.7,\"size\":8},\"mode\":\"markers\",\"name\":\"neurodiversity\",\"text\":[\"diversity\",\"university\",\"theUniversity\",\"adversity\",\"Diversity\",\"Industry\",\"Partnership\",\"Party\",\"Majesty\",\"arts\",\"Drivers\",\"Anniversary\",\"Moriarty\",\"HempUniversity\",\"NeathUniversity\",\"Directorate\",\"Partners\",\"Laboratories\",\"Universalizing\",\"Inspector\",\"sponsor\",\"Dentistry\",\"Schools\",\"sponsorship\",\"Standard\",\"Consultant\",\"ownership\",\"Traffic\",\"Correspondent\",\"Christy\"],\"x\":[-57.72318649291992,-57.125858306884766,-56.074745178222656,-58.19731521606445,-57.305538177490234,-43.58848571777344,-47.79549789428711,-52.08660888671875,-29.861337661743164,-39.17285919189453,-39.04814910888672,-38.02836990356445,-31.664335250854492,-53.54153823852539,-52.976566314697266,-47.06668472290039,-48.72532272338867,-36.359405517578125,-50.156368255615234,-52.807186126708984,-44.39453125,-45.626007080078125,-36.03399658203125,-41.30019760131836,-34.67332458496094,-43.73455047607422,-40.8436279296875,-35.4637336730957,-43.33750534057617,-32.470211029052734],\"y\":[-15.313413619995117,-14.850408554077148,-15.576257705688477,-16.50023651123047,-13.329495429992676,-7.185612678527832,-11.639963150024414,-13.783750534057617,-10.209065437316895,-7.865445137023926,-10.696305274963379,-10.287940979003906,-9.79983901977539,-12.111153602600098,-11.871811866760254,-6.467159748077393,-11.78478717803955,-9.350393295288086,-10.079740524291992,-10.238497734069824,-5.185116767883301,-7.251371383666992,-11.148782730102539,-5.754288673400879,-2.439527750015259,-8.157831192016602,-5.180298328399658,-8.635871887207031,-9.208301544189453,-9.362251281738281],\"type\":\"scatter\"},{\"hoverinfo\":\"text+name\",\"marker\":{\"opacity\":0.7,\"size\":8},\"mode\":\"markers\",\"name\":\"autism\",\"text\":[\"Passaic\",\"Hennessy\",\"Mlinarcik\",\"auspices\",\"Laurel\",\"tunnel\",\"Darius\",\"Nexus\",\"Birmingham\",\"Katrina\",\"Angel\",\"Autism\",\"Malinga\",\"Bass\",\"Mellencamp\",\"Prosthetic\",\"Mandatory\",\"Hassanali\",\"Rothmans\",\"Wolftheorizes\",\"Ashcroft\",\"Dominic\",\"Uehara\",\"Zambians\",\"Schizophrenic\",\"Paraplegic\",\"Voices\",\"Mindes\",\"Lines\",\"Goode\"],\"x\":[-23.258115768432617,-26.77391242980957,-10.091168403625488,-24.224517822265625,-21.904558181762695,-17.92885971069336,-13.472532272338867,-13.212532997131348,-21.513277053833008,-21.043733596801758,-17.37981414794922,-13.70297622680664,-28.1031436920166,-33.41157913208008,-19.729318618774414,-25.126056671142578,-32.47677993774414,-23.251731872558594,-25.205570220947266,-13.474983215332031,-9.085113525390625,-25.61829376220703,-10.32504940032959,-12.470721244812012,-10.855311393737793,-18.961807250976562,-25.481674194335938,-30.137434005737305,-31.632789611816406,-21.939115524291992],\"y\":[-8.656390190124512,-4.131890296936035,-17.350292205810547,-8.236385345458984,-8.454111099243164,-7.9729084968566895,-13.244611740112305,-14.194750785827637,-5.0495758056640625,-10.094255447387695,-7.601962566375732,-15.756061553955078,-3.168604612350464,-0.1596122682094574,-7.2590436935424805,-15.410577774047852,-1.3322473764419556,-9.9705228805542,-5.194562911987305,-11.814620971679688,-17.573789596557617,-15.499335289001465,-15.188495635986328,-15.361109733581543,-14.235374450683594,-5.35369348526001,-6.887714862823486,-1.335119366645813,-1.418715238571167,-4.266732692718506],\"type\":\"scatter\"},{\"hoverinfo\":\"text+name\",\"marker\":{\"opacity\":0.7,\"size\":8},\"mode\":\"markers\",\"name\":\"spectrum\",\"text\":[\"broadperspective\",\"speculative\",\"diverse\",\"industrialist\",\"upperrange\",\"reengineering\",\"upcoming\",\"orienteering\",\"postgraduate\",\"coming\",\"graduate\",\"fuel\",\"validate\",\"engineering\",\"readership\",\"interconnect\",\"speculate\",\"steering\",\"co-operative\",\"gratitude\",\"arrange\",\"strict\",\"desegregate\",\"gatekeeping\",\"Engineering\",\"deliberate\",\"mastectomypatient\",\"fluctuate\",\"formaltreate\",\"preparedness\"],\"x\":[-16.15283203125,-12.204442024230957,-9.355770111083984,-15.424592018127441,-14.30595588684082,-13.555503845214844,-11.513267517089844,-15.852432250976562,-12.638434410095215,-7.95803165435791,-8.78565788269043,-16.00728988647461,-10.393035888671875,-13.258048057556152,-12.04640007019043,-16.86570930480957,-8.909937858581543,-10.373414993286133,-12.254533767700195,-16.639205932617188,-8.912174224853516,-11.693079948425293,-11.655427932739258,-15.24992847442627,-14.756203651428223,-9.329419136047363,-13.115309715270996,-12.154876708984375,-11.415135383605957,-10.983031272888184],\"y\":[47.80336380004883,55.13007354736328,60.3302001953125,43.83073043823242,46.23067092895508,40.90840148925781,40.837677001953125,42.329864501953125,47.19316101074219,57.84859085083008,53.096561431884766,36.74727249145508,53.18095016479492,40.36070251464844,58.54825210571289,45.17477035522461,55.47765350341797,41.70439910888672,54.51420593261719,48.725765228271484,60.833980560302734,59.27280044555664,49.83364486694336,37.93739318847656,38.429325103759766,54.62492370605469,45.30398941040039,48.1141242980957,51.001220703125,39.193668365478516],\"type\":\"scatter\"},{\"hoverinfo\":\"text+name\",\"marker\":{\"opacity\":0.7,\"size\":8},\"mode\":\"markers\",\"name\":\"handicap\",\"text\":[\"handicape\",\"nonhandicapped\",\"physicalhandicap\",\"non-handicapped\",\"handicapping\",\"handicapped\",\"Problem\",\"handicraft\",\"physicaldemand\",\"physique\",\"physician\",\"Problems\",\"impairmentsneed\",\"impairmentpresented\",\"impaired\",\"physics\",\"andphysicalpowerdifferences\",\"Handicapped\",\"impairmentsfound\",\"mentallyretarded\",\"impairmentand\",\"phd\",\"physi-\",\"psychiatricallydiagnosed\",\"impairmentspossible\",\"impair\",\"phys-\",\"phys-icalor\",\"causesofimpairment\",\"permanentimpairment\"],\"x\":[12.568705558776855,11.923041343688965,25.567537307739258,12.180025100708008,13.41862678527832,10.615880012512207,16.65717315673828,19.086849212646484,23.672822952270508,22.421964645385742,26.971725463867188,17.849044799804688,34.76601791381836,32.71922302246094,37.112342834472656,25.736835479736328,19.937942504882812,12.084835052490234,32.986202239990234,23.52747917175293,33.811405181884766,-7.5080037117004395,24.443748474121094,20.074432373046875,36.135711669921875,36.95161056518555,23.24955177307129,21.30751609802246,33.99936294555664,34.275875091552734],\"y\":[13.865928649902344,15.0747652053833,26.095211029052734,15.694506645202637,14.926630973815918,14.332948684692383,17.117958068847656,18.59810447692871,25.34210777282715,23.002986907958984,26.20005226135254,17.937881469726562,39.103118896484375,37.96677780151367,40.244529724121094,25.035192489624023,20.588783264160156,12.239888191223145,37.1737060546875,26.965822219848633,40.484886169433594,-17.806215286254883,23.89514923095703,19.63640785217285,38.93761444091797,41.28571701049805,22.435623168945312,20.36886978149414,37.528053283691406,36.166831970214844],\"type\":\"scatter\"},{\"hoverinfo\":\"text+name\",\"marker\":{\"opacity\":0.7,\"size\":8},\"mode\":\"markers\",\"name\":\"golf\",\"text\":[\"feedback\",\"cloak\",\"gown\",\"hasit\",\"babysit\",\"neck\",\"downside\",\"back\",\"railway\",\"aback\",\"bait\",\"pizza\",\"quiet\",\"itself\",\"clawback\",\"deposit\",\"gulf\",\"playback\",\"sit\",\"bul\",\"speak\",\"pulpit\",\"go\",\"bullpen\",\"backlog\",\"tack\",\"hook\",\"look\",\"bump\",\"try\"],\"x\":[8.063199043273926,1.3625236749649048,10.55063247680664,14.194327354431152,6.566816806793213,8.575617790222168,9.33712387084961,9.4817533493042,7.132503032684326,9.493425369262695,15.662809371948242,0.41895443201065063,8.700692176818848,16.882694244384766,8.533378601074219,13.820329666137695,1.2585337162017822,9.468622207641602,11.468019485473633,9.060354232788086,5.458334445953369,6.005425930023193,10.786100387573242,4.9538092613220215,7.824160575866699,8.327073097229004,6.50227689743042,10.768111228942871,4.246396541595459,9.325066566467285],\"y\":[-37.210811614990234,-27.4488525390625,-43.99980163574219,-43.2838249206543,-33.89833068847656,-45.47134780883789,-43.716217041015625,-49.08653259277344,-37.293704986572266,-38.94330596923828,-43.374874114990234,-26.58222198486328,-40.0975227355957,-43.216156005859375,-35.73322677612305,-42.82139587402344,-26.472719192504883,-34.874412536621094,-51.692840576171875,-42.263702392578125,-46.448524475097656,-33.318851470947266,-53.223968505859375,-31.532621383666992,-33.693809509277344,-46.72043228149414,-46.56532287597656,-51.14994812011719,-31.292163848876953,-50.393035888671875],\"type\":\"scatter\"}],                        {\"legend\":{\"orientation\":\"h\",\"y\":-0.2},\"paper_bgcolor\":\"rgba(0,0,0,0)\",\"plot_bgcolor\":\"rgba(0,0,0,0)\",\"showlegend\":true,\"title\":{\"text\":\"handicap 2020 similar words\"},\"template\":{\"data\":{\"histogram2dcontour\":[{\"type\":\"histogram2dcontour\",\"colorbar\":{\"outlinewidth\":0,\"ticks\":\"\"},\"colorscale\":[[0.0,\"#0d0887\"],[0.1111111111111111,\"#46039f\"],[0.2222222222222222,\"#7201a8\"],[0.3333333333333333,\"#9c179e\"],[0.4444444444444444,\"#bd3786\"],[0.5555555555555556,\"#d8576b\"],[0.6666666666666666,\"#ed7953\"],[0.7777777777777778,\"#fb9f3a\"],[0.8888888888888888,\"#fdca26\"],[1.0,\"#f0f921\"]]}],\"choropleth\":[{\"type\":\"choropleth\",\"colorbar\":{\"outlinewidth\":0,\"ticks\":\"\"}}],\"histogram2d\":[{\"type\":\"histogram2d\",\"colorbar\":{\"outlinewidth\":0,\"ticks\":\"\"},\"colorscale\":[[0.0,\"#0d0887\"],[0.1111111111111111,\"#46039f\"],[0.2222222222222222,\"#7201a8\"],[0.3333333333333333,\"#9c179e\"],[0.4444444444444444,\"#bd3786\"],[0.5555555555555556,\"#d8576b\"],[0.6666666666666666,\"#ed7953\"],[0.7777777777777778,\"#fb9f3a\"],[0.8888888888888888,\"#fdca26\"],[1.0,\"#f0f921\"]]}],\"heatmap\":[{\"type\":\"heatmap\",\"colorbar\":{\"outlinewidth\":0,\"ticks\":\"\"},\"colorscale\":[[0.0,\"#0d0887\"],[0.1111111111111111,\"#46039f\"],[0.2222222222222222,\"#7201a8\"],[0.3333333333333333,\"#9c179e\"],[0.4444444444444444,\"#bd3786\"],[0.5555555555555556,\"#d8576b\"],[0.6666666666666666,\"#ed7953\"],[0.7777777777777778,\"#fb9f3a\"],[0.8888888888888888,\"#fdca26\"],[1.0,\"#f0f921\"]]}],\"heatmapgl\":[{\"type\":\"heatmapgl\",\"colorbar\":{\"outlinewidth\":0,\"ticks\":\"\"},\"colorscale\":[[0.0,\"#0d0887\"],[0.1111111111111111,\"#46039f\"],[0.2222222222222222,\"#7201a8\"],[0.3333333333333333,\"#9c179e\"],[0.4444444444444444,\"#bd3786\"],[0.5555555555555556,\"#d8576b\"],[0.6666666666666666,\"#ed7953\"],[0.7777777777777778,\"#fb9f3a\"],[0.8888888888888888,\"#fdca26\"],[1.0,\"#f0f921\"]]}],\"contourcarpet\":[{\"type\":\"contourcarpet\",\"colorbar\":{\"outlinewidth\":0,\"ticks\":\"\"}}],\"contour\":[{\"type\":\"contour\",\"colorbar\":{\"outlinewidth\":0,\"ticks\":\"\"},\"colorscale\":[[0.0,\"#0d0887\"],[0.1111111111111111,\"#46039f\"],[0.2222222222222222,\"#7201a8\"],[0.3333333333333333,\"#9c179e\"],[0.4444444444444444,\"#bd3786\"],[0.5555555555555556,\"#d8576b\"],[0.6666666666666666,\"#ed7953\"],[0.7777777777777778,\"#fb9f3a\"],[0.8888888888888888,\"#fdca26\"],[1.0,\"#f0f921\"]]}],\"surface\":[{\"type\":\"surface\",\"colorbar\":{\"outlinewidth\":0,\"ticks\":\"\"},\"colorscale\":[[0.0,\"#0d0887\"],[0.1111111111111111,\"#46039f\"],[0.2222222222222222,\"#7201a8\"],[0.3333333333333333,\"#9c179e\"],[0.4444444444444444,\"#bd3786\"],[0.5555555555555556,\"#d8576b\"],[0.6666666666666666,\"#ed7953\"],[0.7777777777777778,\"#fb9f3a\"],[0.8888888888888888,\"#fdca26\"],[1.0,\"#f0f921\"]]}],\"mesh3d\":[{\"type\":\"mesh3d\",\"colorbar\":{\"outlinewidth\":0,\"ticks\":\"\"}}],\"scatter\":[{\"marker\":{\"line\":{\"color\":\"#283442\"}},\"type\":\"scatter\"}],\"parcoords\":[{\"type\":\"parcoords\",\"line\":{\"colorbar\":{\"outlinewidth\":0,\"ticks\":\"\"}}}],\"scatterpolargl\":[{\"type\":\"scatterpolargl\",\"marker\":{\"colorbar\":{\"outlinewidth\":0,\"ticks\":\"\"}}}],\"bar\":[{\"error_x\":{\"color\":\"#f2f5fa\"},\"error_y\":{\"color\":\"#f2f5fa\"},\"marker\":{\"line\":{\"color\":\"rgb(17,17,17)\",\"width\":0.5},\"pattern\":{\"fillmode\":\"overlay\",\"size\":10,\"solidity\":0.2}},\"type\":\"bar\"}],\"scattergeo\":[{\"type\":\"scattergeo\",\"marker\":{\"colorbar\":{\"outlinewidth\":0,\"ticks\":\"\"}}}],\"scatterpolar\":[{\"type\":\"scatterpolar\",\"marker\":{\"colorbar\":{\"outlinewidth\":0,\"ticks\":\"\"}}}],\"histogram\":[{\"marker\":{\"pattern\":{\"fillmode\":\"overlay\",\"size\":10,\"solidity\":0.2}},\"type\":\"histogram\"}],\"scattergl\":[{\"marker\":{\"line\":{\"color\":\"#283442\"}},\"type\":\"scattergl\"}],\"scatter3d\":[{\"type\":\"scatter3d\",\"line\":{\"colorbar\":{\"outlinewidth\":0,\"ticks\":\"\"}},\"marker\":{\"colorbar\":{\"outlinewidth\":0,\"ticks\":\"\"}}}],\"scattermapbox\":[{\"type\":\"scattermapbox\",\"marker\":{\"colorbar\":{\"outlinewidth\":0,\"ticks\":\"\"}}}],\"scatterternary\":[{\"type\":\"scatterternary\",\"marker\":{\"colorbar\":{\"outlinewidth\":0,\"ticks\":\"\"}}}],\"scattercarpet\":[{\"type\":\"scattercarpet\",\"marker\":{\"colorbar\":{\"outlinewidth\":0,\"ticks\":\"\"}}}],\"carpet\":[{\"aaxis\":{\"endlinecolor\":\"#A2B1C6\",\"gridcolor\":\"#506784\",\"linecolor\":\"#506784\",\"minorgridcolor\":\"#506784\",\"startlinecolor\":\"#A2B1C6\"},\"baxis\":{\"endlinecolor\":\"#A2B1C6\",\"gridcolor\":\"#506784\",\"linecolor\":\"#506784\",\"minorgridcolor\":\"#506784\",\"startlinecolor\":\"#A2B1C6\"},\"type\":\"carpet\"}],\"table\":[{\"cells\":{\"fill\":{\"color\":\"#506784\"},\"line\":{\"color\":\"rgb(17,17,17)\"}},\"header\":{\"fill\":{\"color\":\"#2a3f5f\"},\"line\":{\"color\":\"rgb(17,17,17)\"}},\"type\":\"table\"}],\"barpolar\":[{\"marker\":{\"line\":{\"color\":\"rgb(17,17,17)\",\"width\":0.5},\"pattern\":{\"fillmode\":\"overlay\",\"size\":10,\"solidity\":0.2}},\"type\":\"barpolar\"}],\"pie\":[{\"automargin\":true,\"type\":\"pie\"}]},\"layout\":{\"autotypenumbers\":\"strict\",\"colorway\":[\"#636efa\",\"#EF553B\",\"#00cc96\",\"#ab63fa\",\"#FFA15A\",\"#19d3f3\",\"#FF6692\",\"#B6E880\",\"#FF97FF\",\"#FECB52\"],\"font\":{\"color\":\"#f2f5fa\"},\"hovermode\":\"closest\",\"hoverlabel\":{\"align\":\"left\"},\"paper_bgcolor\":\"rgb(17,17,17)\",\"plot_bgcolor\":\"rgb(17,17,17)\",\"polar\":{\"bgcolor\":\"rgb(17,17,17)\",\"angularaxis\":{\"gridcolor\":\"#506784\",\"linecolor\":\"#506784\",\"ticks\":\"\"},\"radialaxis\":{\"gridcolor\":\"#506784\",\"linecolor\":\"#506784\",\"ticks\":\"\"}},\"ternary\":{\"bgcolor\":\"rgb(17,17,17)\",\"aaxis\":{\"gridcolor\":\"#506784\",\"linecolor\":\"#506784\",\"ticks\":\"\"},\"baxis\":{\"gridcolor\":\"#506784\",\"linecolor\":\"#506784\",\"ticks\":\"\"},\"caxis\":{\"gridcolor\":\"#506784\",\"linecolor\":\"#506784\",\"ticks\":\"\"}},\"coloraxis\":{\"colorbar\":{\"outlinewidth\":0,\"ticks\":\"\"}},\"colorscale\":{\"sequential\":[[0.0,\"#0d0887\"],[0.1111111111111111,\"#46039f\"],[0.2222222222222222,\"#7201a8\"],[0.3333333333333333,\"#9c179e\"],[0.4444444444444444,\"#bd3786\"],[0.5555555555555556,\"#d8576b\"],[0.6666666666666666,\"#ed7953\"],[0.7777777777777778,\"#fb9f3a\"],[0.8888888888888888,\"#fdca26\"],[1.0,\"#f0f921\"]],\"sequentialminus\":[[0.0,\"#0d0887\"],[0.1111111111111111,\"#46039f\"],[0.2222222222222222,\"#7201a8\"],[0.3333333333333333,\"#9c179e\"],[0.4444444444444444,\"#bd3786\"],[0.5555555555555556,\"#d8576b\"],[0.6666666666666666,\"#ed7953\"],[0.7777777777777778,\"#fb9f3a\"],[0.8888888888888888,\"#fdca26\"],[1.0,\"#f0f921\"]],\"diverging\":[[0,\"#8e0152\"],[0.1,\"#c51b7d\"],[0.2,\"#de77ae\"],[0.3,\"#f1b6da\"],[0.4,\"#fde0ef\"],[0.5,\"#f7f7f7\"],[0.6,\"#e6f5d0\"],[0.7,\"#b8e186\"],[0.8,\"#7fbc41\"],[0.9,\"#4d9221\"],[1,\"#276419\"]]},\"xaxis\":{\"gridcolor\":\"#283442\",\"linecolor\":\"#506784\",\"ticks\":\"\",\"title\":{\"standoff\":15},\"zerolinecolor\":\"#283442\",\"automargin\":true,\"zerolinewidth\":2},\"yaxis\":{\"gridcolor\":\"#283442\",\"linecolor\":\"#506784\",\"ticks\":\"\",\"title\":{\"standoff\":15},\"zerolinecolor\":\"#283442\",\"automargin\":true,\"zerolinewidth\":2},\"scene\":{\"xaxis\":{\"backgroundcolor\":\"rgb(17,17,17)\",\"gridcolor\":\"#506784\",\"linecolor\":\"#506784\",\"showbackground\":true,\"ticks\":\"\",\"zerolinecolor\":\"#C8D4E3\",\"gridwidth\":2},\"yaxis\":{\"backgroundcolor\":\"rgb(17,17,17)\",\"gridcolor\":\"#506784\",\"linecolor\":\"#506784\",\"showbackground\":true,\"ticks\":\"\",\"zerolinecolor\":\"#C8D4E3\",\"gridwidth\":2},\"zaxis\":{\"backgroundcolor\":\"rgb(17,17,17)\",\"gridcolor\":\"#506784\",\"linecolor\":\"#506784\",\"showbackground\":true,\"ticks\":\"\",\"zerolinecolor\":\"#C8D4E3\",\"gridwidth\":2}},\"shapedefaults\":{\"line\":{\"color\":\"#f2f5fa\"}},\"annotationdefaults\":{\"arrowcolor\":\"#f2f5fa\",\"arrowhead\":0,\"arrowwidth\":1},\"geo\":{\"bgcolor\":\"rgb(17,17,17)\",\"landcolor\":\"rgb(17,17,17)\",\"subunitcolor\":\"#506784\",\"showland\":true,\"showlakes\":true,\"lakecolor\":\"rgb(17,17,17)\"},\"title\":{\"x\":0.05},\"updatemenudefaults\":{\"bgcolor\":\"#506784\",\"borderwidth\":0},\"sliderdefaults\":{\"bgcolor\":\"#C8D4E3\",\"borderwidth\":1,\"bordercolor\":\"rgb(17,17,17)\",\"tickwidth\":0},\"mapbox\":{\"style\":\"dark\"}}}},                        {\"responsive\": true}                    ).then(function(){\n",
       "                            \n",
       "var gd = document.getElementById('c274c506-0baf-4ff8-9feb-8ba92ff55ba5');\n",
       "var x = new MutationObserver(function (mutations, observer) {{\n",
       "        var display = window.getComputedStyle(gd).display;\n",
       "        if (!display || display === 'none') {{\n",
       "            console.log([gd, 'removed!']);\n",
       "            Plotly.purge(gd);\n",
       "            observer.disconnect();\n",
       "        }}\n",
       "}});\n",
       "\n",
       "// Listen for the removal of the full notebook cells\n",
       "var notebookContainer = gd.closest('#notebook-container');\n",
       "if (notebookContainer) {{\n",
       "    x.observe(notebookContainer, {childList: true});\n",
       "}}\n",
       "\n",
       "// Listen for the clearing of the current output cell\n",
       "var outputEl = gd.closest('.output');\n",
       "if (outputEl) {{\n",
       "    x.observe(outputEl, {childList: true});\n",
       "}}\n",
       "\n",
       "                        })                };                });            </script>        </div>"
      ]
     },
     "metadata": {},
     "output_type": "display_data"
    }
   ],
   "execution_count": 13
  },
  {
   "metadata": {
    "ExecuteTime": {
     "end_time": "2024-06-11T20:37:27.388697Z",
     "start_time": "2024-06-11T20:37:27.357930Z"
    }
   },
   "cell_type": "code",
   "source": [
    "from sklearn.cluster import KMeans\n",
    "import plotly.express as px\n",
    "\n",
    "temp = embeddings_en_2d.reshape(-1, embeddings_en_2d.shape[-1])\n",
    "kmeans = KMeans(n_clusters=4, random_state=0).fit(temp)\n",
    "\n",
    "preds = kmeans.predict(temp)\n",
    "\n",
    "# km_plot = px.scatter(x=temp[:,0], y=temp[:,1], color=[str(x) for x in kmeans.predict(temp)])\n",
    "# km_plot.show()\n",
    "\n",
    "km_plot = go.Figure()\n",
    "\n",
    "for i in range(4):\n",
    "    km_plot.add_trace(go.Scatter(x=[kmeans.cluster_centers_[i, 0]], y=[kmeans.cluster_centers_[i, 1]],\n",
    "                             mode='markers',\n",
    "                             marker=dict(size=10, color=i), name=f'KMeans cluster centroid {i + 1}'))\n",
    "km_plot.add_trace(go.Scatter(x=temp[:,0], y=temp[:,1], mode='markers', marker=dict(color=preds), name='Predicted clusters'))\n",
    "\n",
    "km_plot.show()\n",
    "# print(embeddings_en_2d.reshape(-1, embeddings_en_2d.shape[-1]).shape)"
   ],
   "id": "85cab6e58514081b",
   "outputs": [
    {
     "data": {
      "application/vnd.plotly.v1+json": {
       "data": [
        {
         "marker": {
          "color": 0,
          "size": 10
         },
         "mode": "markers",
         "name": "KMeans cluster centroid 1",
         "x": [
          5.462617874145508
         ],
         "y": [
          37.334991455078125
         ],
         "type": "scatter"
        },
        {
         "marker": {
          "color": 1,
          "size": 10
         },
         "mode": "markers",
         "name": "KMeans cluster centroid 2",
         "x": [
          -32.4013671875
         ],
         "y": [
          -9.69252872467041
         ],
         "type": "scatter"
        },
        {
         "marker": {
          "color": 2,
          "size": 10
         },
         "mode": "markers",
         "name": "KMeans cluster centroid 3",
         "x": [
          55.747074127197266
         ],
         "y": [
          -8.99080753326416
         ],
         "type": "scatter"
        },
        {
         "marker": {
          "color": 3,
          "size": 10
         },
         "mode": "markers",
         "name": "KMeans cluster centroid 4",
         "x": [
          8.474302291870117
         ],
         "y": [
          -40.39401626586914
         ],
         "type": "scatter"
        },
        {
         "marker": {
          "color": [
           2,
           2,
           2,
           2,
           2,
           2,
           2,
           2,
           2,
           2,
           2,
           2,
           2,
           2,
           2,
           2,
           2,
           2,
           2,
           2,
           2,
           2,
           2,
           2,
           2,
           2,
           2,
           2,
           2,
           2,
           1,
           1,
           1,
           1,
           1,
           1,
           1,
           1,
           1,
           1,
           1,
           1,
           1,
           1,
           1,
           1,
           1,
           1,
           1,
           1,
           1,
           1,
           1,
           1,
           1,
           1,
           1,
           1,
           1,
           1,
           1,
           1,
           1,
           1,
           1,
           1,
           1,
           1,
           1,
           1,
           1,
           1,
           1,
           1,
           1,
           1,
           1,
           1,
           1,
           1,
           1,
           1,
           1,
           1,
           1,
           1,
           1,
           1,
           1,
           1,
           0,
           0,
           0,
           0,
           0,
           0,
           0,
           0,
           0,
           0,
           0,
           0,
           0,
           0,
           0,
           0,
           0,
           0,
           0,
           0,
           0,
           0,
           0,
           0,
           0,
           0,
           0,
           0,
           0,
           0,
           0,
           0,
           0,
           0,
           0,
           0,
           0,
           0,
           0,
           0,
           0,
           0,
           0,
           0,
           0,
           0,
           0,
           0,
           0,
           0,
           0,
           1,
           0,
           0,
           0,
           0,
           0,
           0,
           0,
           0,
           3,
           3,
           3,
           3,
           3,
           3,
           3,
           3,
           3,
           3,
           3,
           3,
           3,
           3,
           3,
           3,
           3,
           3,
           3,
           3,
           3,
           3,
           3,
           3,
           3,
           3,
           3,
           3,
           3,
           3
          ]
         },
         "mode": "markers",
         "name": "Predicted clusters",
         "x": [
          41.09930419921875,
          38.4539909362793,
          39.36763000488281,
          40.32318878173828,
          40.5394401550293,
          40.74696731567383,
          66.64537811279297,
          39.8500862121582,
          67.32439422607422,
          41.665863037109375,
          68.60157775878906,
          41.59268569946289,
          69.4297866821289,
          69.44512176513672,
          69.74751281738281,
          51.418540954589844,
          70.96639251708984,
          71.83529663085938,
          52.970340728759766,
          50.07938003540039,
          63.39932632446289,
          68.98649597167969,
          63.71432876586914,
          52.17539596557617,
          37.581111907958984,
          63.62057876586914,
          62.62296676635742,
          64.4366455078125,
          73.11393737792969,
          50.658477783203125,
          -57.72318649291992,
          -57.125858306884766,
          -56.074745178222656,
          -58.19731521606445,
          -57.305538177490234,
          -43.58848571777344,
          -47.79549789428711,
          -52.08660888671875,
          -29.861337661743164,
          -39.17285919189453,
          -39.04814910888672,
          -38.02836990356445,
          -31.664335250854492,
          -53.54153823852539,
          -52.976566314697266,
          -47.06668472290039,
          -48.72532272338867,
          -36.359405517578125,
          -50.156368255615234,
          -52.807186126708984,
          -44.39453125,
          -45.626007080078125,
          -36.03399658203125,
          -41.30019760131836,
          -34.67332458496094,
          -43.73455047607422,
          -40.8436279296875,
          -35.4637336730957,
          -43.33750534057617,
          -32.470211029052734,
          -23.258115768432617,
          -26.77391242980957,
          -10.091168403625488,
          -24.224517822265625,
          -21.904558181762695,
          -17.92885971069336,
          -13.472532272338867,
          -13.212532997131348,
          -21.513277053833008,
          -21.043733596801758,
          -17.37981414794922,
          -13.70297622680664,
          -28.1031436920166,
          -33.41157913208008,
          -19.729318618774414,
          -25.126056671142578,
          -32.47677993774414,
          -23.251731872558594,
          -25.205570220947266,
          -13.474983215332031,
          -9.085113525390625,
          -25.61829376220703,
          -10.32504940032959,
          -12.470721244812012,
          -10.855311393737793,
          -18.961807250976562,
          -25.481674194335938,
          -30.137434005737305,
          -31.632789611816406,
          -21.939115524291992,
          -16.15283203125,
          -12.204442024230957,
          -9.355770111083984,
          -15.424592018127441,
          -14.30595588684082,
          -13.555503845214844,
          -11.513267517089844,
          -15.852432250976562,
          -12.638434410095215,
          -7.95803165435791,
          -8.78565788269043,
          -16.00728988647461,
          -10.393035888671875,
          -13.258048057556152,
          -12.04640007019043,
          -16.86570930480957,
          -8.909937858581543,
          -10.373414993286133,
          -12.254533767700195,
          -16.639205932617188,
          -8.912174224853516,
          -11.693079948425293,
          -11.655427932739258,
          -15.24992847442627,
          -14.756203651428223,
          -9.329419136047363,
          -13.115309715270996,
          -12.154876708984375,
          -11.415135383605957,
          -10.983031272888184,
          12.568705558776855,
          11.923041343688965,
          25.567537307739258,
          12.180025100708008,
          13.41862678527832,
          10.615880012512207,
          16.65717315673828,
          19.086849212646484,
          23.672822952270508,
          22.421964645385742,
          26.971725463867188,
          17.849044799804688,
          34.76601791381836,
          32.71922302246094,
          37.112342834472656,
          25.736835479736328,
          19.937942504882812,
          12.084835052490234,
          32.986202239990234,
          23.52747917175293,
          33.811405181884766,
          -7.5080037117004395,
          24.443748474121094,
          20.074432373046875,
          36.135711669921875,
          36.95161056518555,
          23.24955177307129,
          21.30751609802246,
          33.99936294555664,
          34.275875091552734,
          8.063199043273926,
          1.3625236749649048,
          10.55063247680664,
          14.194327354431152,
          6.566816806793213,
          8.575617790222168,
          9.33712387084961,
          9.4817533493042,
          7.132503032684326,
          9.493425369262695,
          15.662809371948242,
          0.41895443201065063,
          8.700692176818848,
          16.882694244384766,
          8.533378601074219,
          13.820329666137695,
          1.2585337162017822,
          9.468622207641602,
          11.468019485473633,
          9.060354232788086,
          5.458334445953369,
          6.005425930023193,
          10.786100387573242,
          4.9538092613220215,
          7.824160575866699,
          8.327073097229004,
          6.50227689743042,
          10.768111228942871,
          4.246396541595459,
          9.325066566467285
         ],
         "y": [
          -1.0203757286071777,
          -4.793112277984619,
          -0.8145825266838074,
          -0.09419833868741989,
          -2.103071689605713,
          -3.2310781478881836,
          -10.971258163452148,
          -3.52519154548645,
          -11.790332794189453,
          -4.670211315155029,
          -11.61926555633545,
          -5.658567428588867,
          -10.745177268981934,
          -12.054390907287598,
          -13.183097839355469,
          -6.182311534881592,
          -11.396240234375,
          -13.41559886932373,
          -6.811580181121826,
          -5.9952168464660645,
          -17.582504272460938,
          -8.81749153137207,
          -18.031875610351562,
          -6.336997032165527,
          -5.90755558013916,
          -16.083572387695312,
          -18.732160568237305,
          -19.695743560791016,
          -13.95658016204834,
          -4.504878044128418,
          -15.313413619995117,
          -14.850408554077148,
          -15.576257705688477,
          -16.50023651123047,
          -13.329495429992676,
          -7.185612678527832,
          -11.639963150024414,
          -13.783750534057617,
          -10.209065437316895,
          -7.865445137023926,
          -10.696305274963379,
          -10.287940979003906,
          -9.79983901977539,
          -12.111153602600098,
          -11.871811866760254,
          -6.467159748077393,
          -11.78478717803955,
          -9.350393295288086,
          -10.079740524291992,
          -10.238497734069824,
          -5.185116767883301,
          -7.251371383666992,
          -11.148782730102539,
          -5.754288673400879,
          -2.439527750015259,
          -8.157831192016602,
          -5.180298328399658,
          -8.635871887207031,
          -9.208301544189453,
          -9.362251281738281,
          -8.656390190124512,
          -4.131890296936035,
          -17.350292205810547,
          -8.236385345458984,
          -8.454111099243164,
          -7.9729084968566895,
          -13.244611740112305,
          -14.194750785827637,
          -5.0495758056640625,
          -10.094255447387695,
          -7.601962566375732,
          -15.756061553955078,
          -3.168604612350464,
          -0.1596122682094574,
          -7.2590436935424805,
          -15.410577774047852,
          -1.3322473764419556,
          -9.9705228805542,
          -5.194562911987305,
          -11.814620971679688,
          -17.573789596557617,
          -15.499335289001465,
          -15.188495635986328,
          -15.361109733581543,
          -14.235374450683594,
          -5.35369348526001,
          -6.887714862823486,
          -1.335119366645813,
          -1.418715238571167,
          -4.266732692718506,
          47.80336380004883,
          55.13007354736328,
          60.3302001953125,
          43.83073043823242,
          46.23067092895508,
          40.90840148925781,
          40.837677001953125,
          42.329864501953125,
          47.19316101074219,
          57.84859085083008,
          53.096561431884766,
          36.74727249145508,
          53.18095016479492,
          40.36070251464844,
          58.54825210571289,
          45.17477035522461,
          55.47765350341797,
          41.70439910888672,
          54.51420593261719,
          48.725765228271484,
          60.833980560302734,
          59.27280044555664,
          49.83364486694336,
          37.93739318847656,
          38.429325103759766,
          54.62492370605469,
          45.30398941040039,
          48.1141242980957,
          51.001220703125,
          39.193668365478516,
          13.865928649902344,
          15.0747652053833,
          26.095211029052734,
          15.694506645202637,
          14.926630973815918,
          14.332948684692383,
          17.117958068847656,
          18.59810447692871,
          25.34210777282715,
          23.002986907958984,
          26.20005226135254,
          17.937881469726562,
          39.103118896484375,
          37.96677780151367,
          40.244529724121094,
          25.035192489624023,
          20.588783264160156,
          12.239888191223145,
          37.1737060546875,
          26.965822219848633,
          40.484886169433594,
          -17.806215286254883,
          23.89514923095703,
          19.63640785217285,
          38.93761444091797,
          41.28571701049805,
          22.435623168945312,
          20.36886978149414,
          37.528053283691406,
          36.166831970214844,
          -37.210811614990234,
          -27.4488525390625,
          -43.99980163574219,
          -43.2838249206543,
          -33.89833068847656,
          -45.47134780883789,
          -43.716217041015625,
          -49.08653259277344,
          -37.293704986572266,
          -38.94330596923828,
          -43.374874114990234,
          -26.58222198486328,
          -40.0975227355957,
          -43.216156005859375,
          -35.73322677612305,
          -42.82139587402344,
          -26.472719192504883,
          -34.874412536621094,
          -51.692840576171875,
          -42.263702392578125,
          -46.448524475097656,
          -33.318851470947266,
          -53.223968505859375,
          -31.532621383666992,
          -33.693809509277344,
          -46.72043228149414,
          -46.56532287597656,
          -51.14994812011719,
          -31.292163848876953,
          -50.393035888671875
         ],
         "type": "scatter"
        }
       ],
       "layout": {
        "template": {
         "data": {
          "histogram2dcontour": [
           {
            "type": "histogram2dcontour",
            "colorbar": {
             "outlinewidth": 0,
             "ticks": ""
            },
            "colorscale": [
             [
              0.0,
              "#0d0887"
             ],
             [
              0.1111111111111111,
              "#46039f"
             ],
             [
              0.2222222222222222,
              "#7201a8"
             ],
             [
              0.3333333333333333,
              "#9c179e"
             ],
             [
              0.4444444444444444,
              "#bd3786"
             ],
             [
              0.5555555555555556,
              "#d8576b"
             ],
             [
              0.6666666666666666,
              "#ed7953"
             ],
             [
              0.7777777777777778,
              "#fb9f3a"
             ],
             [
              0.8888888888888888,
              "#fdca26"
             ],
             [
              1.0,
              "#f0f921"
             ]
            ]
           }
          ],
          "choropleth": [
           {
            "type": "choropleth",
            "colorbar": {
             "outlinewidth": 0,
             "ticks": ""
            }
           }
          ],
          "histogram2d": [
           {
            "type": "histogram2d",
            "colorbar": {
             "outlinewidth": 0,
             "ticks": ""
            },
            "colorscale": [
             [
              0.0,
              "#0d0887"
             ],
             [
              0.1111111111111111,
              "#46039f"
             ],
             [
              0.2222222222222222,
              "#7201a8"
             ],
             [
              0.3333333333333333,
              "#9c179e"
             ],
             [
              0.4444444444444444,
              "#bd3786"
             ],
             [
              0.5555555555555556,
              "#d8576b"
             ],
             [
              0.6666666666666666,
              "#ed7953"
             ],
             [
              0.7777777777777778,
              "#fb9f3a"
             ],
             [
              0.8888888888888888,
              "#fdca26"
             ],
             [
              1.0,
              "#f0f921"
             ]
            ]
           }
          ],
          "heatmap": [
           {
            "type": "heatmap",
            "colorbar": {
             "outlinewidth": 0,
             "ticks": ""
            },
            "colorscale": [
             [
              0.0,
              "#0d0887"
             ],
             [
              0.1111111111111111,
              "#46039f"
             ],
             [
              0.2222222222222222,
              "#7201a8"
             ],
             [
              0.3333333333333333,
              "#9c179e"
             ],
             [
              0.4444444444444444,
              "#bd3786"
             ],
             [
              0.5555555555555556,
              "#d8576b"
             ],
             [
              0.6666666666666666,
              "#ed7953"
             ],
             [
              0.7777777777777778,
              "#fb9f3a"
             ],
             [
              0.8888888888888888,
              "#fdca26"
             ],
             [
              1.0,
              "#f0f921"
             ]
            ]
           }
          ],
          "heatmapgl": [
           {
            "type": "heatmapgl",
            "colorbar": {
             "outlinewidth": 0,
             "ticks": ""
            },
            "colorscale": [
             [
              0.0,
              "#0d0887"
             ],
             [
              0.1111111111111111,
              "#46039f"
             ],
             [
              0.2222222222222222,
              "#7201a8"
             ],
             [
              0.3333333333333333,
              "#9c179e"
             ],
             [
              0.4444444444444444,
              "#bd3786"
             ],
             [
              0.5555555555555556,
              "#d8576b"
             ],
             [
              0.6666666666666666,
              "#ed7953"
             ],
             [
              0.7777777777777778,
              "#fb9f3a"
             ],
             [
              0.8888888888888888,
              "#fdca26"
             ],
             [
              1.0,
              "#f0f921"
             ]
            ]
           }
          ],
          "contourcarpet": [
           {
            "type": "contourcarpet",
            "colorbar": {
             "outlinewidth": 0,
             "ticks": ""
            }
           }
          ],
          "contour": [
           {
            "type": "contour",
            "colorbar": {
             "outlinewidth": 0,
             "ticks": ""
            },
            "colorscale": [
             [
              0.0,
              "#0d0887"
             ],
             [
              0.1111111111111111,
              "#46039f"
             ],
             [
              0.2222222222222222,
              "#7201a8"
             ],
             [
              0.3333333333333333,
              "#9c179e"
             ],
             [
              0.4444444444444444,
              "#bd3786"
             ],
             [
              0.5555555555555556,
              "#d8576b"
             ],
             [
              0.6666666666666666,
              "#ed7953"
             ],
             [
              0.7777777777777778,
              "#fb9f3a"
             ],
             [
              0.8888888888888888,
              "#fdca26"
             ],
             [
              1.0,
              "#f0f921"
             ]
            ]
           }
          ],
          "surface": [
           {
            "type": "surface",
            "colorbar": {
             "outlinewidth": 0,
             "ticks": ""
            },
            "colorscale": [
             [
              0.0,
              "#0d0887"
             ],
             [
              0.1111111111111111,
              "#46039f"
             ],
             [
              0.2222222222222222,
              "#7201a8"
             ],
             [
              0.3333333333333333,
              "#9c179e"
             ],
             [
              0.4444444444444444,
              "#bd3786"
             ],
             [
              0.5555555555555556,
              "#d8576b"
             ],
             [
              0.6666666666666666,
              "#ed7953"
             ],
             [
              0.7777777777777778,
              "#fb9f3a"
             ],
             [
              0.8888888888888888,
              "#fdca26"
             ],
             [
              1.0,
              "#f0f921"
             ]
            ]
           }
          ],
          "mesh3d": [
           {
            "type": "mesh3d",
            "colorbar": {
             "outlinewidth": 0,
             "ticks": ""
            }
           }
          ],
          "scatter": [
           {
            "marker": {
             "line": {
              "color": "#283442"
             }
            },
            "type": "scatter"
           }
          ],
          "parcoords": [
           {
            "type": "parcoords",
            "line": {
             "colorbar": {
              "outlinewidth": 0,
              "ticks": ""
             }
            }
           }
          ],
          "scatterpolargl": [
           {
            "type": "scatterpolargl",
            "marker": {
             "colorbar": {
              "outlinewidth": 0,
              "ticks": ""
             }
            }
           }
          ],
          "bar": [
           {
            "error_x": {
             "color": "#f2f5fa"
            },
            "error_y": {
             "color": "#f2f5fa"
            },
            "marker": {
             "line": {
              "color": "rgb(17,17,17)",
              "width": 0.5
             },
             "pattern": {
              "fillmode": "overlay",
              "size": 10,
              "solidity": 0.2
             }
            },
            "type": "bar"
           }
          ],
          "scattergeo": [
           {
            "type": "scattergeo",
            "marker": {
             "colorbar": {
              "outlinewidth": 0,
              "ticks": ""
             }
            }
           }
          ],
          "scatterpolar": [
           {
            "type": "scatterpolar",
            "marker": {
             "colorbar": {
              "outlinewidth": 0,
              "ticks": ""
             }
            }
           }
          ],
          "histogram": [
           {
            "marker": {
             "pattern": {
              "fillmode": "overlay",
              "size": 10,
              "solidity": 0.2
             }
            },
            "type": "histogram"
           }
          ],
          "scattergl": [
           {
            "marker": {
             "line": {
              "color": "#283442"
             }
            },
            "type": "scattergl"
           }
          ],
          "scatter3d": [
           {
            "type": "scatter3d",
            "line": {
             "colorbar": {
              "outlinewidth": 0,
              "ticks": ""
             }
            },
            "marker": {
             "colorbar": {
              "outlinewidth": 0,
              "ticks": ""
             }
            }
           }
          ],
          "scattermapbox": [
           {
            "type": "scattermapbox",
            "marker": {
             "colorbar": {
              "outlinewidth": 0,
              "ticks": ""
             }
            }
           }
          ],
          "scatterternary": [
           {
            "type": "scatterternary",
            "marker": {
             "colorbar": {
              "outlinewidth": 0,
              "ticks": ""
             }
            }
           }
          ],
          "scattercarpet": [
           {
            "type": "scattercarpet",
            "marker": {
             "colorbar": {
              "outlinewidth": 0,
              "ticks": ""
             }
            }
           }
          ],
          "carpet": [
           {
            "aaxis": {
             "endlinecolor": "#A2B1C6",
             "gridcolor": "#506784",
             "linecolor": "#506784",
             "minorgridcolor": "#506784",
             "startlinecolor": "#A2B1C6"
            },
            "baxis": {
             "endlinecolor": "#A2B1C6",
             "gridcolor": "#506784",
             "linecolor": "#506784",
             "minorgridcolor": "#506784",
             "startlinecolor": "#A2B1C6"
            },
            "type": "carpet"
           }
          ],
          "table": [
           {
            "cells": {
             "fill": {
              "color": "#506784"
             },
             "line": {
              "color": "rgb(17,17,17)"
             }
            },
            "header": {
             "fill": {
              "color": "#2a3f5f"
             },
             "line": {
              "color": "rgb(17,17,17)"
             }
            },
            "type": "table"
           }
          ],
          "barpolar": [
           {
            "marker": {
             "line": {
              "color": "rgb(17,17,17)",
              "width": 0.5
             },
             "pattern": {
              "fillmode": "overlay",
              "size": 10,
              "solidity": 0.2
             }
            },
            "type": "barpolar"
           }
          ],
          "pie": [
           {
            "automargin": true,
            "type": "pie"
           }
          ]
         },
         "layout": {
          "autotypenumbers": "strict",
          "colorway": [
           "#636efa",
           "#EF553B",
           "#00cc96",
           "#ab63fa",
           "#FFA15A",
           "#19d3f3",
           "#FF6692",
           "#B6E880",
           "#FF97FF",
           "#FECB52"
          ],
          "font": {
           "color": "#f2f5fa"
          },
          "hovermode": "closest",
          "hoverlabel": {
           "align": "left"
          },
          "paper_bgcolor": "rgb(17,17,17)",
          "plot_bgcolor": "rgb(17,17,17)",
          "polar": {
           "bgcolor": "rgb(17,17,17)",
           "angularaxis": {
            "gridcolor": "#506784",
            "linecolor": "#506784",
            "ticks": ""
           },
           "radialaxis": {
            "gridcolor": "#506784",
            "linecolor": "#506784",
            "ticks": ""
           }
          },
          "ternary": {
           "bgcolor": "rgb(17,17,17)",
           "aaxis": {
            "gridcolor": "#506784",
            "linecolor": "#506784",
            "ticks": ""
           },
           "baxis": {
            "gridcolor": "#506784",
            "linecolor": "#506784",
            "ticks": ""
           },
           "caxis": {
            "gridcolor": "#506784",
            "linecolor": "#506784",
            "ticks": ""
           }
          },
          "coloraxis": {
           "colorbar": {
            "outlinewidth": 0,
            "ticks": ""
           }
          },
          "colorscale": {
           "sequential": [
            [
             0.0,
             "#0d0887"
            ],
            [
             0.1111111111111111,
             "#46039f"
            ],
            [
             0.2222222222222222,
             "#7201a8"
            ],
            [
             0.3333333333333333,
             "#9c179e"
            ],
            [
             0.4444444444444444,
             "#bd3786"
            ],
            [
             0.5555555555555556,
             "#d8576b"
            ],
            [
             0.6666666666666666,
             "#ed7953"
            ],
            [
             0.7777777777777778,
             "#fb9f3a"
            ],
            [
             0.8888888888888888,
             "#fdca26"
            ],
            [
             1.0,
             "#f0f921"
            ]
           ],
           "sequentialminus": [
            [
             0.0,
             "#0d0887"
            ],
            [
             0.1111111111111111,
             "#46039f"
            ],
            [
             0.2222222222222222,
             "#7201a8"
            ],
            [
             0.3333333333333333,
             "#9c179e"
            ],
            [
             0.4444444444444444,
             "#bd3786"
            ],
            [
             0.5555555555555556,
             "#d8576b"
            ],
            [
             0.6666666666666666,
             "#ed7953"
            ],
            [
             0.7777777777777778,
             "#fb9f3a"
            ],
            [
             0.8888888888888888,
             "#fdca26"
            ],
            [
             1.0,
             "#f0f921"
            ]
           ],
           "diverging": [
            [
             0,
             "#8e0152"
            ],
            [
             0.1,
             "#c51b7d"
            ],
            [
             0.2,
             "#de77ae"
            ],
            [
             0.3,
             "#f1b6da"
            ],
            [
             0.4,
             "#fde0ef"
            ],
            [
             0.5,
             "#f7f7f7"
            ],
            [
             0.6,
             "#e6f5d0"
            ],
            [
             0.7,
             "#b8e186"
            ],
            [
             0.8,
             "#7fbc41"
            ],
            [
             0.9,
             "#4d9221"
            ],
            [
             1,
             "#276419"
            ]
           ]
          },
          "xaxis": {
           "gridcolor": "#283442",
           "linecolor": "#506784",
           "ticks": "",
           "title": {
            "standoff": 15
           },
           "zerolinecolor": "#283442",
           "automargin": true,
           "zerolinewidth": 2
          },
          "yaxis": {
           "gridcolor": "#283442",
           "linecolor": "#506784",
           "ticks": "",
           "title": {
            "standoff": 15
           },
           "zerolinecolor": "#283442",
           "automargin": true,
           "zerolinewidth": 2
          },
          "scene": {
           "xaxis": {
            "backgroundcolor": "rgb(17,17,17)",
            "gridcolor": "#506784",
            "linecolor": "#506784",
            "showbackground": true,
            "ticks": "",
            "zerolinecolor": "#C8D4E3",
            "gridwidth": 2
           },
           "yaxis": {
            "backgroundcolor": "rgb(17,17,17)",
            "gridcolor": "#506784",
            "linecolor": "#506784",
            "showbackground": true,
            "ticks": "",
            "zerolinecolor": "#C8D4E3",
            "gridwidth": 2
           },
           "zaxis": {
            "backgroundcolor": "rgb(17,17,17)",
            "gridcolor": "#506784",
            "linecolor": "#506784",
            "showbackground": true,
            "ticks": "",
            "zerolinecolor": "#C8D4E3",
            "gridwidth": 2
           }
          },
          "shapedefaults": {
           "line": {
            "color": "#f2f5fa"
           }
          },
          "annotationdefaults": {
           "arrowcolor": "#f2f5fa",
           "arrowhead": 0,
           "arrowwidth": 1
          },
          "geo": {
           "bgcolor": "rgb(17,17,17)",
           "landcolor": "rgb(17,17,17)",
           "subunitcolor": "#506784",
           "showland": true,
           "showlakes": true,
           "lakecolor": "rgb(17,17,17)"
          },
          "title": {
           "x": 0.05
          },
          "updatemenudefaults": {
           "bgcolor": "#506784",
           "borderwidth": 0
          },
          "sliderdefaults": {
           "bgcolor": "#C8D4E3",
           "borderwidth": 1,
           "bordercolor": "rgb(17,17,17)",
           "tickwidth": 0
          },
          "mapbox": {
           "style": "dark"
          }
         }
        }
       },
       "config": {
        "plotlyServerURL": "https://plot.ly"
       }
      },
      "text/html": [
       "<div>                            <div id=\"4b424fbc-27f5-4340-ab81-18991d2f5327\" class=\"plotly-graph-div\" style=\"height:525px; width:100%;\"></div>            <script type=\"text/javascript\">                require([\"plotly\"], function(Plotly) {                    window.PLOTLYENV=window.PLOTLYENV || {};                                    if (document.getElementById(\"4b424fbc-27f5-4340-ab81-18991d2f5327\")) {                    Plotly.newPlot(                        \"4b424fbc-27f5-4340-ab81-18991d2f5327\",                        [{\"marker\":{\"color\":0,\"size\":10},\"mode\":\"markers\",\"name\":\"KMeans cluster centroid 1\",\"x\":[5.462617874145508],\"y\":[37.334991455078125],\"type\":\"scatter\"},{\"marker\":{\"color\":1,\"size\":10},\"mode\":\"markers\",\"name\":\"KMeans cluster centroid 2\",\"x\":[-32.4013671875],\"y\":[-9.69252872467041],\"type\":\"scatter\"},{\"marker\":{\"color\":2,\"size\":10},\"mode\":\"markers\",\"name\":\"KMeans cluster centroid 3\",\"x\":[55.747074127197266],\"y\":[-8.99080753326416],\"type\":\"scatter\"},{\"marker\":{\"color\":3,\"size\":10},\"mode\":\"markers\",\"name\":\"KMeans cluster centroid 4\",\"x\":[8.474302291870117],\"y\":[-40.39401626586914],\"type\":\"scatter\"},{\"marker\":{\"color\":[2,2,2,2,2,2,2,2,2,2,2,2,2,2,2,2,2,2,2,2,2,2,2,2,2,2,2,2,2,2,1,1,1,1,1,1,1,1,1,1,1,1,1,1,1,1,1,1,1,1,1,1,1,1,1,1,1,1,1,1,1,1,1,1,1,1,1,1,1,1,1,1,1,1,1,1,1,1,1,1,1,1,1,1,1,1,1,1,1,1,0,0,0,0,0,0,0,0,0,0,0,0,0,0,0,0,0,0,0,0,0,0,0,0,0,0,0,0,0,0,0,0,0,0,0,0,0,0,0,0,0,0,0,0,0,0,0,0,0,0,0,1,0,0,0,0,0,0,0,0,3,3,3,3,3,3,3,3,3,3,3,3,3,3,3,3,3,3,3,3,3,3,3,3,3,3,3,3,3,3]},\"mode\":\"markers\",\"name\":\"Predicted clusters\",\"x\":[41.09930419921875,38.4539909362793,39.36763000488281,40.32318878173828,40.5394401550293,40.74696731567383,66.64537811279297,39.8500862121582,67.32439422607422,41.665863037109375,68.60157775878906,41.59268569946289,69.4297866821289,69.44512176513672,69.74751281738281,51.418540954589844,70.96639251708984,71.83529663085938,52.970340728759766,50.07938003540039,63.39932632446289,68.98649597167969,63.71432876586914,52.17539596557617,37.581111907958984,63.62057876586914,62.62296676635742,64.4366455078125,73.11393737792969,50.658477783203125,-57.72318649291992,-57.125858306884766,-56.074745178222656,-58.19731521606445,-57.305538177490234,-43.58848571777344,-47.79549789428711,-52.08660888671875,-29.861337661743164,-39.17285919189453,-39.04814910888672,-38.02836990356445,-31.664335250854492,-53.54153823852539,-52.976566314697266,-47.06668472290039,-48.72532272338867,-36.359405517578125,-50.156368255615234,-52.807186126708984,-44.39453125,-45.626007080078125,-36.03399658203125,-41.30019760131836,-34.67332458496094,-43.73455047607422,-40.8436279296875,-35.4637336730957,-43.33750534057617,-32.470211029052734,-23.258115768432617,-26.77391242980957,-10.091168403625488,-24.224517822265625,-21.904558181762695,-17.92885971069336,-13.472532272338867,-13.212532997131348,-21.513277053833008,-21.043733596801758,-17.37981414794922,-13.70297622680664,-28.1031436920166,-33.41157913208008,-19.729318618774414,-25.126056671142578,-32.47677993774414,-23.251731872558594,-25.205570220947266,-13.474983215332031,-9.085113525390625,-25.61829376220703,-10.32504940032959,-12.470721244812012,-10.855311393737793,-18.961807250976562,-25.481674194335938,-30.137434005737305,-31.632789611816406,-21.939115524291992,-16.15283203125,-12.204442024230957,-9.355770111083984,-15.424592018127441,-14.30595588684082,-13.555503845214844,-11.513267517089844,-15.852432250976562,-12.638434410095215,-7.95803165435791,-8.78565788269043,-16.00728988647461,-10.393035888671875,-13.258048057556152,-12.04640007019043,-16.86570930480957,-8.909937858581543,-10.373414993286133,-12.254533767700195,-16.639205932617188,-8.912174224853516,-11.693079948425293,-11.655427932739258,-15.24992847442627,-14.756203651428223,-9.329419136047363,-13.115309715270996,-12.154876708984375,-11.415135383605957,-10.983031272888184,12.568705558776855,11.923041343688965,25.567537307739258,12.180025100708008,13.41862678527832,10.615880012512207,16.65717315673828,19.086849212646484,23.672822952270508,22.421964645385742,26.971725463867188,17.849044799804688,34.76601791381836,32.71922302246094,37.112342834472656,25.736835479736328,19.937942504882812,12.084835052490234,32.986202239990234,23.52747917175293,33.811405181884766,-7.5080037117004395,24.443748474121094,20.074432373046875,36.135711669921875,36.95161056518555,23.24955177307129,21.30751609802246,33.99936294555664,34.275875091552734,8.063199043273926,1.3625236749649048,10.55063247680664,14.194327354431152,6.566816806793213,8.575617790222168,9.33712387084961,9.4817533493042,7.132503032684326,9.493425369262695,15.662809371948242,0.41895443201065063,8.700692176818848,16.882694244384766,8.533378601074219,13.820329666137695,1.2585337162017822,9.468622207641602,11.468019485473633,9.060354232788086,5.458334445953369,6.005425930023193,10.786100387573242,4.9538092613220215,7.824160575866699,8.327073097229004,6.50227689743042,10.768111228942871,4.246396541595459,9.325066566467285],\"y\":[-1.0203757286071777,-4.793112277984619,-0.8145825266838074,-0.09419833868741989,-2.103071689605713,-3.2310781478881836,-10.971258163452148,-3.52519154548645,-11.790332794189453,-4.670211315155029,-11.61926555633545,-5.658567428588867,-10.745177268981934,-12.054390907287598,-13.183097839355469,-6.182311534881592,-11.396240234375,-13.41559886932373,-6.811580181121826,-5.9952168464660645,-17.582504272460938,-8.81749153137207,-18.031875610351562,-6.336997032165527,-5.90755558013916,-16.083572387695312,-18.732160568237305,-19.695743560791016,-13.95658016204834,-4.504878044128418,-15.313413619995117,-14.850408554077148,-15.576257705688477,-16.50023651123047,-13.329495429992676,-7.185612678527832,-11.639963150024414,-13.783750534057617,-10.209065437316895,-7.865445137023926,-10.696305274963379,-10.287940979003906,-9.79983901977539,-12.111153602600098,-11.871811866760254,-6.467159748077393,-11.78478717803955,-9.350393295288086,-10.079740524291992,-10.238497734069824,-5.185116767883301,-7.251371383666992,-11.148782730102539,-5.754288673400879,-2.439527750015259,-8.157831192016602,-5.180298328399658,-8.635871887207031,-9.208301544189453,-9.362251281738281,-8.656390190124512,-4.131890296936035,-17.350292205810547,-8.236385345458984,-8.454111099243164,-7.9729084968566895,-13.244611740112305,-14.194750785827637,-5.0495758056640625,-10.094255447387695,-7.601962566375732,-15.756061553955078,-3.168604612350464,-0.1596122682094574,-7.2590436935424805,-15.410577774047852,-1.3322473764419556,-9.9705228805542,-5.194562911987305,-11.814620971679688,-17.573789596557617,-15.499335289001465,-15.188495635986328,-15.361109733581543,-14.235374450683594,-5.35369348526001,-6.887714862823486,-1.335119366645813,-1.418715238571167,-4.266732692718506,47.80336380004883,55.13007354736328,60.3302001953125,43.83073043823242,46.23067092895508,40.90840148925781,40.837677001953125,42.329864501953125,47.19316101074219,57.84859085083008,53.096561431884766,36.74727249145508,53.18095016479492,40.36070251464844,58.54825210571289,45.17477035522461,55.47765350341797,41.70439910888672,54.51420593261719,48.725765228271484,60.833980560302734,59.27280044555664,49.83364486694336,37.93739318847656,38.429325103759766,54.62492370605469,45.30398941040039,48.1141242980957,51.001220703125,39.193668365478516,13.865928649902344,15.0747652053833,26.095211029052734,15.694506645202637,14.926630973815918,14.332948684692383,17.117958068847656,18.59810447692871,25.34210777282715,23.002986907958984,26.20005226135254,17.937881469726562,39.103118896484375,37.96677780151367,40.244529724121094,25.035192489624023,20.588783264160156,12.239888191223145,37.1737060546875,26.965822219848633,40.484886169433594,-17.806215286254883,23.89514923095703,19.63640785217285,38.93761444091797,41.28571701049805,22.435623168945312,20.36886978149414,37.528053283691406,36.166831970214844,-37.210811614990234,-27.4488525390625,-43.99980163574219,-43.2838249206543,-33.89833068847656,-45.47134780883789,-43.716217041015625,-49.08653259277344,-37.293704986572266,-38.94330596923828,-43.374874114990234,-26.58222198486328,-40.0975227355957,-43.216156005859375,-35.73322677612305,-42.82139587402344,-26.472719192504883,-34.874412536621094,-51.692840576171875,-42.263702392578125,-46.448524475097656,-33.318851470947266,-53.223968505859375,-31.532621383666992,-33.693809509277344,-46.72043228149414,-46.56532287597656,-51.14994812011719,-31.292163848876953,-50.393035888671875],\"type\":\"scatter\"}],                        {\"template\":{\"data\":{\"histogram2dcontour\":[{\"type\":\"histogram2dcontour\",\"colorbar\":{\"outlinewidth\":0,\"ticks\":\"\"},\"colorscale\":[[0.0,\"#0d0887\"],[0.1111111111111111,\"#46039f\"],[0.2222222222222222,\"#7201a8\"],[0.3333333333333333,\"#9c179e\"],[0.4444444444444444,\"#bd3786\"],[0.5555555555555556,\"#d8576b\"],[0.6666666666666666,\"#ed7953\"],[0.7777777777777778,\"#fb9f3a\"],[0.8888888888888888,\"#fdca26\"],[1.0,\"#f0f921\"]]}],\"choropleth\":[{\"type\":\"choropleth\",\"colorbar\":{\"outlinewidth\":0,\"ticks\":\"\"}}],\"histogram2d\":[{\"type\":\"histogram2d\",\"colorbar\":{\"outlinewidth\":0,\"ticks\":\"\"},\"colorscale\":[[0.0,\"#0d0887\"],[0.1111111111111111,\"#46039f\"],[0.2222222222222222,\"#7201a8\"],[0.3333333333333333,\"#9c179e\"],[0.4444444444444444,\"#bd3786\"],[0.5555555555555556,\"#d8576b\"],[0.6666666666666666,\"#ed7953\"],[0.7777777777777778,\"#fb9f3a\"],[0.8888888888888888,\"#fdca26\"],[1.0,\"#f0f921\"]]}],\"heatmap\":[{\"type\":\"heatmap\",\"colorbar\":{\"outlinewidth\":0,\"ticks\":\"\"},\"colorscale\":[[0.0,\"#0d0887\"],[0.1111111111111111,\"#46039f\"],[0.2222222222222222,\"#7201a8\"],[0.3333333333333333,\"#9c179e\"],[0.4444444444444444,\"#bd3786\"],[0.5555555555555556,\"#d8576b\"],[0.6666666666666666,\"#ed7953\"],[0.7777777777777778,\"#fb9f3a\"],[0.8888888888888888,\"#fdca26\"],[1.0,\"#f0f921\"]]}],\"heatmapgl\":[{\"type\":\"heatmapgl\",\"colorbar\":{\"outlinewidth\":0,\"ticks\":\"\"},\"colorscale\":[[0.0,\"#0d0887\"],[0.1111111111111111,\"#46039f\"],[0.2222222222222222,\"#7201a8\"],[0.3333333333333333,\"#9c179e\"],[0.4444444444444444,\"#bd3786\"],[0.5555555555555556,\"#d8576b\"],[0.6666666666666666,\"#ed7953\"],[0.7777777777777778,\"#fb9f3a\"],[0.8888888888888888,\"#fdca26\"],[1.0,\"#f0f921\"]]}],\"contourcarpet\":[{\"type\":\"contourcarpet\",\"colorbar\":{\"outlinewidth\":0,\"ticks\":\"\"}}],\"contour\":[{\"type\":\"contour\",\"colorbar\":{\"outlinewidth\":0,\"ticks\":\"\"},\"colorscale\":[[0.0,\"#0d0887\"],[0.1111111111111111,\"#46039f\"],[0.2222222222222222,\"#7201a8\"],[0.3333333333333333,\"#9c179e\"],[0.4444444444444444,\"#bd3786\"],[0.5555555555555556,\"#d8576b\"],[0.6666666666666666,\"#ed7953\"],[0.7777777777777778,\"#fb9f3a\"],[0.8888888888888888,\"#fdca26\"],[1.0,\"#f0f921\"]]}],\"surface\":[{\"type\":\"surface\",\"colorbar\":{\"outlinewidth\":0,\"ticks\":\"\"},\"colorscale\":[[0.0,\"#0d0887\"],[0.1111111111111111,\"#46039f\"],[0.2222222222222222,\"#7201a8\"],[0.3333333333333333,\"#9c179e\"],[0.4444444444444444,\"#bd3786\"],[0.5555555555555556,\"#d8576b\"],[0.6666666666666666,\"#ed7953\"],[0.7777777777777778,\"#fb9f3a\"],[0.8888888888888888,\"#fdca26\"],[1.0,\"#f0f921\"]]}],\"mesh3d\":[{\"type\":\"mesh3d\",\"colorbar\":{\"outlinewidth\":0,\"ticks\":\"\"}}],\"scatter\":[{\"marker\":{\"line\":{\"color\":\"#283442\"}},\"type\":\"scatter\"}],\"parcoords\":[{\"type\":\"parcoords\",\"line\":{\"colorbar\":{\"outlinewidth\":0,\"ticks\":\"\"}}}],\"scatterpolargl\":[{\"type\":\"scatterpolargl\",\"marker\":{\"colorbar\":{\"outlinewidth\":0,\"ticks\":\"\"}}}],\"bar\":[{\"error_x\":{\"color\":\"#f2f5fa\"},\"error_y\":{\"color\":\"#f2f5fa\"},\"marker\":{\"line\":{\"color\":\"rgb(17,17,17)\",\"width\":0.5},\"pattern\":{\"fillmode\":\"overlay\",\"size\":10,\"solidity\":0.2}},\"type\":\"bar\"}],\"scattergeo\":[{\"type\":\"scattergeo\",\"marker\":{\"colorbar\":{\"outlinewidth\":0,\"ticks\":\"\"}}}],\"scatterpolar\":[{\"type\":\"scatterpolar\",\"marker\":{\"colorbar\":{\"outlinewidth\":0,\"ticks\":\"\"}}}],\"histogram\":[{\"marker\":{\"pattern\":{\"fillmode\":\"overlay\",\"size\":10,\"solidity\":0.2}},\"type\":\"histogram\"}],\"scattergl\":[{\"marker\":{\"line\":{\"color\":\"#283442\"}},\"type\":\"scattergl\"}],\"scatter3d\":[{\"type\":\"scatter3d\",\"line\":{\"colorbar\":{\"outlinewidth\":0,\"ticks\":\"\"}},\"marker\":{\"colorbar\":{\"outlinewidth\":0,\"ticks\":\"\"}}}],\"scattermapbox\":[{\"type\":\"scattermapbox\",\"marker\":{\"colorbar\":{\"outlinewidth\":0,\"ticks\":\"\"}}}],\"scatterternary\":[{\"type\":\"scatterternary\",\"marker\":{\"colorbar\":{\"outlinewidth\":0,\"ticks\":\"\"}}}],\"scattercarpet\":[{\"type\":\"scattercarpet\",\"marker\":{\"colorbar\":{\"outlinewidth\":0,\"ticks\":\"\"}}}],\"carpet\":[{\"aaxis\":{\"endlinecolor\":\"#A2B1C6\",\"gridcolor\":\"#506784\",\"linecolor\":\"#506784\",\"minorgridcolor\":\"#506784\",\"startlinecolor\":\"#A2B1C6\"},\"baxis\":{\"endlinecolor\":\"#A2B1C6\",\"gridcolor\":\"#506784\",\"linecolor\":\"#506784\",\"minorgridcolor\":\"#506784\",\"startlinecolor\":\"#A2B1C6\"},\"type\":\"carpet\"}],\"table\":[{\"cells\":{\"fill\":{\"color\":\"#506784\"},\"line\":{\"color\":\"rgb(17,17,17)\"}},\"header\":{\"fill\":{\"color\":\"#2a3f5f\"},\"line\":{\"color\":\"rgb(17,17,17)\"}},\"type\":\"table\"}],\"barpolar\":[{\"marker\":{\"line\":{\"color\":\"rgb(17,17,17)\",\"width\":0.5},\"pattern\":{\"fillmode\":\"overlay\",\"size\":10,\"solidity\":0.2}},\"type\":\"barpolar\"}],\"pie\":[{\"automargin\":true,\"type\":\"pie\"}]},\"layout\":{\"autotypenumbers\":\"strict\",\"colorway\":[\"#636efa\",\"#EF553B\",\"#00cc96\",\"#ab63fa\",\"#FFA15A\",\"#19d3f3\",\"#FF6692\",\"#B6E880\",\"#FF97FF\",\"#FECB52\"],\"font\":{\"color\":\"#f2f5fa\"},\"hovermode\":\"closest\",\"hoverlabel\":{\"align\":\"left\"},\"paper_bgcolor\":\"rgb(17,17,17)\",\"plot_bgcolor\":\"rgb(17,17,17)\",\"polar\":{\"bgcolor\":\"rgb(17,17,17)\",\"angularaxis\":{\"gridcolor\":\"#506784\",\"linecolor\":\"#506784\",\"ticks\":\"\"},\"radialaxis\":{\"gridcolor\":\"#506784\",\"linecolor\":\"#506784\",\"ticks\":\"\"}},\"ternary\":{\"bgcolor\":\"rgb(17,17,17)\",\"aaxis\":{\"gridcolor\":\"#506784\",\"linecolor\":\"#506784\",\"ticks\":\"\"},\"baxis\":{\"gridcolor\":\"#506784\",\"linecolor\":\"#506784\",\"ticks\":\"\"},\"caxis\":{\"gridcolor\":\"#506784\",\"linecolor\":\"#506784\",\"ticks\":\"\"}},\"coloraxis\":{\"colorbar\":{\"outlinewidth\":0,\"ticks\":\"\"}},\"colorscale\":{\"sequential\":[[0.0,\"#0d0887\"],[0.1111111111111111,\"#46039f\"],[0.2222222222222222,\"#7201a8\"],[0.3333333333333333,\"#9c179e\"],[0.4444444444444444,\"#bd3786\"],[0.5555555555555556,\"#d8576b\"],[0.6666666666666666,\"#ed7953\"],[0.7777777777777778,\"#fb9f3a\"],[0.8888888888888888,\"#fdca26\"],[1.0,\"#f0f921\"]],\"sequentialminus\":[[0.0,\"#0d0887\"],[0.1111111111111111,\"#46039f\"],[0.2222222222222222,\"#7201a8\"],[0.3333333333333333,\"#9c179e\"],[0.4444444444444444,\"#bd3786\"],[0.5555555555555556,\"#d8576b\"],[0.6666666666666666,\"#ed7953\"],[0.7777777777777778,\"#fb9f3a\"],[0.8888888888888888,\"#fdca26\"],[1.0,\"#f0f921\"]],\"diverging\":[[0,\"#8e0152\"],[0.1,\"#c51b7d\"],[0.2,\"#de77ae\"],[0.3,\"#f1b6da\"],[0.4,\"#fde0ef\"],[0.5,\"#f7f7f7\"],[0.6,\"#e6f5d0\"],[0.7,\"#b8e186\"],[0.8,\"#7fbc41\"],[0.9,\"#4d9221\"],[1,\"#276419\"]]},\"xaxis\":{\"gridcolor\":\"#283442\",\"linecolor\":\"#506784\",\"ticks\":\"\",\"title\":{\"standoff\":15},\"zerolinecolor\":\"#283442\",\"automargin\":true,\"zerolinewidth\":2},\"yaxis\":{\"gridcolor\":\"#283442\",\"linecolor\":\"#506784\",\"ticks\":\"\",\"title\":{\"standoff\":15},\"zerolinecolor\":\"#283442\",\"automargin\":true,\"zerolinewidth\":2},\"scene\":{\"xaxis\":{\"backgroundcolor\":\"rgb(17,17,17)\",\"gridcolor\":\"#506784\",\"linecolor\":\"#506784\",\"showbackground\":true,\"ticks\":\"\",\"zerolinecolor\":\"#C8D4E3\",\"gridwidth\":2},\"yaxis\":{\"backgroundcolor\":\"rgb(17,17,17)\",\"gridcolor\":\"#506784\",\"linecolor\":\"#506784\",\"showbackground\":true,\"ticks\":\"\",\"zerolinecolor\":\"#C8D4E3\",\"gridwidth\":2},\"zaxis\":{\"backgroundcolor\":\"rgb(17,17,17)\",\"gridcolor\":\"#506784\",\"linecolor\":\"#506784\",\"showbackground\":true,\"ticks\":\"\",\"zerolinecolor\":\"#C8D4E3\",\"gridwidth\":2}},\"shapedefaults\":{\"line\":{\"color\":\"#f2f5fa\"}},\"annotationdefaults\":{\"arrowcolor\":\"#f2f5fa\",\"arrowhead\":0,\"arrowwidth\":1},\"geo\":{\"bgcolor\":\"rgb(17,17,17)\",\"landcolor\":\"rgb(17,17,17)\",\"subunitcolor\":\"#506784\",\"showland\":true,\"showlakes\":true,\"lakecolor\":\"rgb(17,17,17)\"},\"title\":{\"x\":0.05},\"updatemenudefaults\":{\"bgcolor\":\"#506784\",\"borderwidth\":0},\"sliderdefaults\":{\"bgcolor\":\"#C8D4E3\",\"borderwidth\":1,\"bordercolor\":\"rgb(17,17,17)\",\"tickwidth\":0},\"mapbox\":{\"style\":\"dark\"}}}},                        {\"responsive\": true}                    ).then(function(){\n",
       "                            \n",
       "var gd = document.getElementById('4b424fbc-27f5-4340-ab81-18991d2f5327');\n",
       "var x = new MutationObserver(function (mutations, observer) {{\n",
       "        var display = window.getComputedStyle(gd).display;\n",
       "        if (!display || display === 'none') {{\n",
       "            console.log([gd, 'removed!']);\n",
       "            Plotly.purge(gd);\n",
       "            observer.disconnect();\n",
       "        }}\n",
       "}});\n",
       "\n",
       "// Listen for the removal of the full notebook cells\n",
       "var notebookContainer = gd.closest('#notebook-container');\n",
       "if (notebookContainer) {{\n",
       "    x.observe(notebookContainer, {childList: true});\n",
       "}}\n",
       "\n",
       "// Listen for the clearing of the current output cell\n",
       "var outputEl = gd.closest('.output');\n",
       "if (outputEl) {{\n",
       "    x.observe(outputEl, {childList: true});\n",
       "}}\n",
       "\n",
       "                        })                };                });            </script>        </div>"
      ]
     },
     "metadata": {},
     "output_type": "display_data"
    }
   ],
   "execution_count": 14
  }
 ],
 "metadata": {
  "kernelspec": {
   "display_name": "Python 3",
   "language": "python",
   "name": "python3"
  },
  "language_info": {
   "codemirror_mode": {
    "name": "ipython",
    "version": 2
   },
   "file_extension": ".py",
   "mimetype": "text/x-python",
   "name": "python",
   "nbconvert_exporter": "python",
   "pygments_lexer": "ipython2",
   "version": "2.7.6"
  }
 },
 "nbformat": 4,
 "nbformat_minor": 5
}
